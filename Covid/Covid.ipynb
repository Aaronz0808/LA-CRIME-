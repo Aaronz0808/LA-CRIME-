{
 "cells": [
  {
   "cell_type": "code",
   "execution_count": 1,
   "id": "1e91fcea",
   "metadata": {},
   "outputs": [],
   "source": [
    "import pandas as pd\n",
    "import plotly.graph_objects as go\n",
    "import plotly.express as px\n",
    "import matplotlib.pyplot as plt\n",
    "import seaborn as sns\n",
    "import warnings\n",
    "import numpy as np\n",
    "warnings.filterwarnings(\"ignore\")\n",
    "plt.style.use('ggplot')\n",
    "pd.set_option('display.max_columns', None)\n",
    "import plotly.graph_objects as go\n",
    "import random\n",
    "\n",
    "from dash import Dash, html, dcc\n",
    "from jupyter_dash import JupyterDash\n",
    "from dash.dependencies import Output, Input\n",
    "from dash.exceptions import PreventUpdate"
   ]
  },
  {
   "cell_type": "code",
   "execution_count": 2,
   "id": "f77d11af",
   "metadata": {},
   "outputs": [],
   "source": [
    "data=pd.read_csv('Vaccination_Rates_by_Neighborhood_20231101.csv')\n",
    "zip_code=pd.read_csv('zip.csv').drop('Unnamed: 0', axis=1)"
   ]
  },
  {
   "cell_type": "code",
   "execution_count": 3,
   "id": "3105e4fc",
   "metadata": {},
   "outputs": [
    {
     "data": {
      "text/html": [
       "<div>\n",
       "<style scoped>\n",
       "    .dataframe tbody tr th:only-of-type {\n",
       "        vertical-align: middle;\n",
       "    }\n",
       "\n",
       "    .dataframe tbody tr th {\n",
       "        vertical-align: top;\n",
       "    }\n",
       "\n",
       "    .dataframe thead th {\n",
       "        text-align: right;\n",
       "    }\n",
       "</style>\n",
       "<table border=\"1\" class=\"dataframe\">\n",
       "  <thead>\n",
       "    <tr style=\"text-align: right;\">\n",
       "      <th></th>\n",
       "      <th>CITY_TYPE</th>\n",
       "      <th>CITY</th>\n",
       "      <th>COMMUNITY</th>\n",
       "      <th>LABEL</th>\n",
       "      <th>City_Community</th>\n",
       "      <th>Cases</th>\n",
       "      <th>Case_Rate</th>\n",
       "      <th>Deaths</th>\n",
       "      <th>Death_Rate</th>\n",
       "      <th>Percent_of_People_with_1__Dose</th>\n",
       "      <th>Percent_of_People_Fully_Vaccinated</th>\n",
       "    </tr>\n",
       "  </thead>\n",
       "  <tbody>\n",
       "    <tr>\n",
       "      <th>0</th>\n",
       "      <td>City</td>\n",
       "      <td>Agoura Hills</td>\n",
       "      <td></td>\n",
       "      <td>City of Agoura Hills</td>\n",
       "      <td>City of Agoura Hills</td>\n",
       "      <td>4220</td>\n",
       "      <td>20208.0</td>\n",
       "      <td>22</td>\n",
       "      <td>105.0</td>\n",
       "      <td>0.85</td>\n",
       "      <td>0.80</td>\n",
       "    </tr>\n",
       "    <tr>\n",
       "      <th>1</th>\n",
       "      <td>City</td>\n",
       "      <td>Alhambra</td>\n",
       "      <td></td>\n",
       "      <td>City of Alhambra</td>\n",
       "      <td>City of Alhambra</td>\n",
       "      <td>17044</td>\n",
       "      <td>19653.0</td>\n",
       "      <td>255</td>\n",
       "      <td>294.0</td>\n",
       "      <td>0.87</td>\n",
       "      <td>0.81</td>\n",
       "    </tr>\n",
       "    <tr>\n",
       "      <th>2</th>\n",
       "      <td>City</td>\n",
       "      <td>Arcadia</td>\n",
       "      <td></td>\n",
       "      <td>City of Arcadia</td>\n",
       "      <td>City of Arcadia</td>\n",
       "      <td>8145</td>\n",
       "      <td>14103.0</td>\n",
       "      <td>165</td>\n",
       "      <td>286.0</td>\n",
       "      <td>0.91</td>\n",
       "      <td>0.84</td>\n",
       "    </tr>\n",
       "    <tr>\n",
       "      <th>3</th>\n",
       "      <td>City</td>\n",
       "      <td>Artesia</td>\n",
       "      <td></td>\n",
       "      <td>City of Artesia</td>\n",
       "      <td>City of Artesia</td>\n",
       "      <td>4186</td>\n",
       "      <td>24924.0</td>\n",
       "      <td>88</td>\n",
       "      <td>524.0</td>\n",
       "      <td>0.87</td>\n",
       "      <td>0.80</td>\n",
       "    </tr>\n",
       "    <tr>\n",
       "      <th>4</th>\n",
       "      <td>City</td>\n",
       "      <td>Avalon</td>\n",
       "      <td></td>\n",
       "      <td>City of Avalon</td>\n",
       "      <td>City of Avalon</td>\n",
       "      <td>63</td>\n",
       "      <td>1628.0</td>\n",
       "      <td>0</td>\n",
       "      <td>0.0</td>\n",
       "      <td>0.27</td>\n",
       "      <td>0.23</td>\n",
       "    </tr>\n",
       "  </tbody>\n",
       "</table>\n",
       "</div>"
      ],
      "text/plain": [
       "  CITY_TYPE          CITY COMMUNITY                 LABEL  \\\n",
       "0      City  Agoura Hills            City of Agoura Hills   \n",
       "1      City      Alhambra                City of Alhambra   \n",
       "2      City       Arcadia                 City of Arcadia   \n",
       "3      City       Artesia                 City of Artesia   \n",
       "4      City        Avalon                  City of Avalon   \n",
       "\n",
       "         City_Community  Cases  Case_Rate  Deaths  Death_Rate  \\\n",
       "0  City of Agoura Hills   4220    20208.0      22       105.0   \n",
       "1      City of Alhambra  17044    19653.0     255       294.0   \n",
       "2       City of Arcadia   8145    14103.0     165       286.0   \n",
       "3       City of Artesia   4186    24924.0      88       524.0   \n",
       "4        City of Avalon     63     1628.0       0         0.0   \n",
       "\n",
       "   Percent_of_People_with_1__Dose  Percent_of_People_Fully_Vaccinated  \n",
       "0                            0.85                                0.80  \n",
       "1                            0.87                                0.81  \n",
       "2                            0.91                                0.84  \n",
       "3                            0.87                                0.80  \n",
       "4                            0.27                                0.23  "
      ]
     },
     "execution_count": 3,
     "metadata": {},
     "output_type": "execute_result"
    }
   ],
   "source": [
    "data.head()"
   ]
  },
  {
   "cell_type": "code",
   "execution_count": 4,
   "id": "4929ea77",
   "metadata": {},
   "outputs": [
    {
     "name": "stdout",
     "output_type": "stream",
     "text": [
      "<class 'pandas.core.frame.DataFrame'>\n",
      "RangeIndex: 341 entries, 0 to 340\n",
      "Data columns (total 11 columns):\n",
      " #   Column                              Non-Null Count  Dtype  \n",
      "---  ------                              --------------  -----  \n",
      " 0   CITY_TYPE                           341 non-null    object \n",
      " 1   CITY                                341 non-null    object \n",
      " 2   COMMUNITY                           341 non-null    object \n",
      " 3   LABEL                               341 non-null    object \n",
      " 4   City_Community                      341 non-null    object \n",
      " 5   Cases                               341 non-null    int64  \n",
      " 6   Case_Rate                           339 non-null    float64\n",
      " 7   Deaths                              341 non-null    int64  \n",
      " 8   Death_Rate                          339 non-null    float64\n",
      " 9   Percent_of_People_with_1__Dose      340 non-null    float64\n",
      " 10  Percent_of_People_Fully_Vaccinated  340 non-null    float64\n",
      "dtypes: float64(4), int64(2), object(5)\n",
      "memory usage: 29.4+ KB\n"
     ]
    }
   ],
   "source": [
    "data.info()"
   ]
  },
  {
   "cell_type": "code",
   "execution_count": 5,
   "id": "c8c85f6a",
   "metadata": {},
   "outputs": [
    {
     "data": {
      "text/plain": [
       "CITY_TYPE                             0\n",
       "CITY                                  0\n",
       "COMMUNITY                             0\n",
       "LABEL                                 0\n",
       "City_Community                        0\n",
       "Cases                                 0\n",
       "Case_Rate                             2\n",
       "Deaths                                0\n",
       "Death_Rate                            2\n",
       "Percent_of_People_with_1__Dose        1\n",
       "Percent_of_People_Fully_Vaccinated    1\n",
       "dtype: int64"
      ]
     },
     "execution_count": 5,
     "metadata": {},
     "output_type": "execute_result"
    }
   ],
   "source": [
    "data.isna().sum()"
   ]
  },
  {
   "cell_type": "code",
   "execution_count": 6,
   "id": "f5eebb04",
   "metadata": {},
   "outputs": [
    {
     "data": {
      "text/plain": [
       "0"
      ]
     },
     "execution_count": 6,
     "metadata": {},
     "output_type": "execute_result"
    }
   ],
   "source": [
    "data.duplicated().sum()"
   ]
  },
  {
   "cell_type": "code",
   "execution_count": 7,
   "id": "b11b11d7",
   "metadata": {
    "scrolled": true
   },
   "outputs": [
    {
     "data": {
      "text/plain": [
       "array(['Acton', 'Agua Dulce', 'Altadena', 'Anaverde',\n",
       "       'Angeles National Forest', 'Arcadia', 'Athens-Westmont',\n",
       "       'Athens Village', 'Avocado Heights', 'Azusa', 'Bassett',\n",
       "       'Bouquet Canyon', 'Bradbury', 'Canyon Country', 'Castaic',\n",
       "       'Cerritos', 'Charter Oak', 'Claremont', 'Covina',\n",
       "       'Covina (Charter Oak)', 'Del Aire', 'Del Rey', 'Del Sur',\n",
       "       'Desert View Highlands', 'Duarte', 'East Covina', 'East La Mirada',\n",
       "       'East Lancaster', 'East Los Angeles', 'East Pasadena',\n",
       "       'East Rancho Dominguez', 'East Whittier', 'El Camino Village',\n",
       "       'El Monte', 'Elizabeth Lake', 'Florence-Firestone',\n",
       "       'Franklin Canyon', 'Glendora', 'Hacienda Heights',\n",
       "       'Harbor Gateway', 'Hawthorne', 'Hi Vista', 'Kagel/Lopez Canyons',\n",
       "       'La Crescenta-Montrose', 'La Habra Heights', 'La Rambla',\n",
       "       'La Verne', 'Ladera Heights', 'Lake Hughes', 'Lake Los Angeles',\n",
       "       'Lake Manor', 'Lakewood', 'Lennox', 'Leona Valley', 'Littlerock',\n",
       "       'Littlerock/Juniper Hills', 'Littlerock/Pearblossom', 'Llano',\n",
       "       'Marina del Rey', 'Miracle Mile', 'Monrovia', 'Newhall',\n",
       "       'North Lancaster', 'North Whittier', 'Northeast San Gabriel',\n",
       "       'Padua Hills', 'Palmdale', 'Palos Verdes Peninsula',\n",
       "       'Pearblossom/Llano', 'Pellissier Village', 'Placerita Canyon',\n",
       "       'Pomona', 'Quartz Hill', 'Rancho Dominguez', 'Roosevelt',\n",
       "       'Rosewood', 'Rosewood/East Gardena',\n",
       "       'Rosewood/West Rancho Dominguez', 'Rowland Heights',\n",
       "       'San Francisquito Canyon/Bouquet Canyon', 'San Jose Hills',\n",
       "       'San Pasqual', 'Sand Canyon', 'Santa Catalina Island',\n",
       "       'Santa Monica Mountains', 'Saugus', 'Saugus/Canyon Country',\n",
       "       'South Antelope Valley', 'South El Monte', 'South San Gabriel',\n",
       "       'South Whittier', 'Southeast Antelope Valley', 'Stevenson Ranch',\n",
       "       'Sun Village', 'Sunrise Village', 'Twin Lakes/Oat Mountain',\n",
       "       'Val Verde', 'Valinda', 'View Park/Windsor Hills', 'Walnut Park',\n",
       "       'West Antelope Valley', 'West Carson', 'West Chatsworth',\n",
       "       'West LA', 'West Puente Valley', 'West Rancho Dominguez',\n",
       "       'West Whittier/Los Nietos', 'Westfield/Academy Hills', 'Westhills',\n",
       "       'White Fence Farms', 'Whittier', 'Whittier Narrows', 'Willowbrook',\n",
       "       'Wiseburn', 'Valencia'], dtype=object)"
      ]
     },
     "execution_count": 7,
     "metadata": {},
     "output_type": "execute_result"
    }
   ],
   "source": [
    "data['CITY_TYPE'].unique()\n",
    "\n",
    "data.loc[data['CITY_TYPE']=='Unincorporated']['COMMUNITY'].unique()"
   ]
  },
  {
   "cell_type": "code",
   "execution_count": 8,
   "id": "88b57682",
   "metadata": {},
   "outputs": [
    {
     "data": {
      "text/html": [
       "<div>\n",
       "<style scoped>\n",
       "    .dataframe tbody tr th:only-of-type {\n",
       "        vertical-align: middle;\n",
       "    }\n",
       "\n",
       "    .dataframe tbody tr th {\n",
       "        vertical-align: top;\n",
       "    }\n",
       "\n",
       "    .dataframe thead th {\n",
       "        text-align: right;\n",
       "    }\n",
       "</style>\n",
       "<table border=\"1\" class=\"dataframe\">\n",
       "  <thead>\n",
       "    <tr style=\"text-align: right;\">\n",
       "      <th></th>\n",
       "      <th>CITY_TYPE</th>\n",
       "      <th>CITY</th>\n",
       "      <th>COMMUNITY</th>\n",
       "      <th>LABEL</th>\n",
       "      <th>City_Community</th>\n",
       "      <th>Cases</th>\n",
       "      <th>Case_Rate</th>\n",
       "      <th>Deaths</th>\n",
       "      <th>Death_Rate</th>\n",
       "      <th>Percent_of_People_with_1__Dose</th>\n",
       "      <th>Percent_of_People_Fully_Vaccinated</th>\n",
       "    </tr>\n",
       "  </thead>\n",
       "  <tbody>\n",
       "    <tr>\n",
       "      <th>46</th>\n",
       "      <td>City</td>\n",
       "      <td>Los Angeles</td>\n",
       "      <td>Adams-Normandie</td>\n",
       "      <td>Los Angeles - Adams-Normandie</td>\n",
       "      <td>Los Angeles - Adams-Normandie</td>\n",
       "      <td>2615</td>\n",
       "      <td>31882.0</td>\n",
       "      <td>18</td>\n",
       "      <td>219.0</td>\n",
       "      <td>0.78</td>\n",
       "      <td>0.69</td>\n",
       "    </tr>\n",
       "    <tr>\n",
       "      <th>47</th>\n",
       "      <td>City</td>\n",
       "      <td>Los Angeles</td>\n",
       "      <td>Alsace</td>\n",
       "      <td>Los Angeles - Alsace</td>\n",
       "      <td>Los Angeles - Alsace</td>\n",
       "      <td>3543</td>\n",
       "      <td>28469.0</td>\n",
       "      <td>23</td>\n",
       "      <td>185.0</td>\n",
       "      <td>0.74</td>\n",
       "      <td>0.67</td>\n",
       "    </tr>\n",
       "    <tr>\n",
       "      <th>48</th>\n",
       "      <td>City</td>\n",
       "      <td>Los Angeles</td>\n",
       "      <td>Angeles National Forest</td>\n",
       "      <td>Los Angeles - Angeles National Forest</td>\n",
       "      <td>Los Angeles - Angeles National Forest</td>\n",
       "      <td>6</td>\n",
       "      <td>15000.0</td>\n",
       "      <td>0</td>\n",
       "      <td>0.0</td>\n",
       "      <td>0.26</td>\n",
       "      <td>0.26</td>\n",
       "    </tr>\n",
       "    <tr>\n",
       "      <th>49</th>\n",
       "      <td>City</td>\n",
       "      <td>Los Angeles</td>\n",
       "      <td>Angelino Heights</td>\n",
       "      <td>Los Angeles - Angelino Heights</td>\n",
       "      <td>Los Angeles - Angelino Heights</td>\n",
       "      <td>635</td>\n",
       "      <td>25380.0</td>\n",
       "      <td>8</td>\n",
       "      <td>320.0</td>\n",
       "      <td>0.79</td>\n",
       "      <td>0.72</td>\n",
       "    </tr>\n",
       "    <tr>\n",
       "      <th>50</th>\n",
       "      <td>City</td>\n",
       "      <td>Los Angeles</td>\n",
       "      <td>Arleta</td>\n",
       "      <td>Los Angeles - Arleta</td>\n",
       "      <td>Los Angeles - Arleta</td>\n",
       "      <td>13637</td>\n",
       "      <td>39677.0</td>\n",
       "      <td>133</td>\n",
       "      <td>387.0</td>\n",
       "      <td>0.85</td>\n",
       "      <td>0.77</td>\n",
       "    </tr>\n",
       "    <tr>\n",
       "      <th>...</th>\n",
       "      <td>...</td>\n",
       "      <td>...</td>\n",
       "      <td>...</td>\n",
       "      <td>...</td>\n",
       "      <td>...</td>\n",
       "      <td>...</td>\n",
       "      <td>...</td>\n",
       "      <td>...</td>\n",
       "      <td>...</td>\n",
       "      <td>...</td>\n",
       "      <td>...</td>\n",
       "    </tr>\n",
       "    <tr>\n",
       "      <th>181</th>\n",
       "      <td>City</td>\n",
       "      <td>Los Angeles</td>\n",
       "      <td>Wilshire Center</td>\n",
       "      <td>Los Angeles - Wilshire Center</td>\n",
       "      <td>Los Angeles - Wilshire Center</td>\n",
       "      <td>13018</td>\n",
       "      <td>25948.0</td>\n",
       "      <td>148</td>\n",
       "      <td>295.0</td>\n",
       "      <td>0.83</td>\n",
       "      <td>0.73</td>\n",
       "    </tr>\n",
       "    <tr>\n",
       "      <th>182</th>\n",
       "      <td>City</td>\n",
       "      <td>Los Angeles</td>\n",
       "      <td>Winnetka</td>\n",
       "      <td>Los Angeles - Winnetka</td>\n",
       "      <td>Los Angeles - Winnetka</td>\n",
       "      <td>15312</td>\n",
       "      <td>29568.0</td>\n",
       "      <td>121</td>\n",
       "      <td>234.0</td>\n",
       "      <td>0.84</td>\n",
       "      <td>0.77</td>\n",
       "    </tr>\n",
       "    <tr>\n",
       "      <th>183</th>\n",
       "      <td>City</td>\n",
       "      <td>Los Angeles</td>\n",
       "      <td>Woodland Hills</td>\n",
       "      <td>Los Angeles - Woodland Hills</td>\n",
       "      <td>Los Angeles - Woodland Hills</td>\n",
       "      <td>14626</td>\n",
       "      <td>21491.0</td>\n",
       "      <td>115</td>\n",
       "      <td>169.0</td>\n",
       "      <td>0.86</td>\n",
       "      <td>0.80</td>\n",
       "    </tr>\n",
       "    <tr>\n",
       "      <th>324</th>\n",
       "      <td>Unincorporated</td>\n",
       "      <td>Unincorporated</td>\n",
       "      <td>West LA</td>\n",
       "      <td>Unincorporated - West LA</td>\n",
       "      <td>Unincorporated - West LA</td>\n",
       "      <td>559</td>\n",
       "      <td>58718.0</td>\n",
       "      <td>21</td>\n",
       "      <td>2206.0</td>\n",
       "      <td>0.41</td>\n",
       "      <td>0.19</td>\n",
       "    </tr>\n",
       "    <tr>\n",
       "      <th>335</th>\n",
       "      <td>City</td>\n",
       "      <td>Los Angeles</td>\n",
       "      <td>View Heights</td>\n",
       "      <td>Los Angeles - View Heights</td>\n",
       "      <td>Los Angeles - View Heights</td>\n",
       "      <td>753</td>\n",
       "      <td>20384.0</td>\n",
       "      <td>9</td>\n",
       "      <td>244.0</td>\n",
       "      <td>0.74</td>\n",
       "      <td>0.70</td>\n",
       "    </tr>\n",
       "  </tbody>\n",
       "</table>\n",
       "<p>140 rows × 11 columns</p>\n",
       "</div>"
      ],
      "text/plain": [
       "          CITY_TYPE            CITY                COMMUNITY  \\\n",
       "46             City     Los Angeles          Adams-Normandie   \n",
       "47             City     Los Angeles                   Alsace   \n",
       "48             City     Los Angeles  Angeles National Forest   \n",
       "49             City     Los Angeles         Angelino Heights   \n",
       "50             City     Los Angeles                   Arleta   \n",
       "..              ...             ...                      ...   \n",
       "181            City     Los Angeles          Wilshire Center   \n",
       "182            City     Los Angeles                 Winnetka   \n",
       "183            City     Los Angeles           Woodland Hills   \n",
       "324  Unincorporated  Unincorporated                  West LA   \n",
       "335            City     Los Angeles             View Heights   \n",
       "\n",
       "                                     LABEL  \\\n",
       "46           Los Angeles - Adams-Normandie   \n",
       "47                    Los Angeles - Alsace   \n",
       "48   Los Angeles - Angeles National Forest   \n",
       "49          Los Angeles - Angelino Heights   \n",
       "50                    Los Angeles - Arleta   \n",
       "..                                     ...   \n",
       "181          Los Angeles - Wilshire Center   \n",
       "182                 Los Angeles - Winnetka   \n",
       "183           Los Angeles - Woodland Hills   \n",
       "324               Unincorporated - West LA   \n",
       "335             Los Angeles - View Heights   \n",
       "\n",
       "                            City_Community  Cases  Case_Rate  Deaths  \\\n",
       "46           Los Angeles - Adams-Normandie   2615    31882.0      18   \n",
       "47                    Los Angeles - Alsace   3543    28469.0      23   \n",
       "48   Los Angeles - Angeles National Forest      6    15000.0       0   \n",
       "49          Los Angeles - Angelino Heights    635    25380.0       8   \n",
       "50                    Los Angeles - Arleta  13637    39677.0     133   \n",
       "..                                     ...    ...        ...     ...   \n",
       "181          Los Angeles - Wilshire Center  13018    25948.0     148   \n",
       "182                 Los Angeles - Winnetka  15312    29568.0     121   \n",
       "183           Los Angeles - Woodland Hills  14626    21491.0     115   \n",
       "324               Unincorporated - West LA    559    58718.0      21   \n",
       "335             Los Angeles - View Heights    753    20384.0       9   \n",
       "\n",
       "     Death_Rate  Percent_of_People_with_1__Dose  \\\n",
       "46        219.0                            0.78   \n",
       "47        185.0                            0.74   \n",
       "48          0.0                            0.26   \n",
       "49        320.0                            0.79   \n",
       "50        387.0                            0.85   \n",
       "..          ...                             ...   \n",
       "181       295.0                            0.83   \n",
       "182       234.0                            0.84   \n",
       "183       169.0                            0.86   \n",
       "324      2206.0                            0.41   \n",
       "335       244.0                            0.74   \n",
       "\n",
       "     Percent_of_People_Fully_Vaccinated  \n",
       "46                                 0.69  \n",
       "47                                 0.67  \n",
       "48                                 0.26  \n",
       "49                                 0.72  \n",
       "50                                 0.77  \n",
       "..                                  ...  \n",
       "181                                0.73  \n",
       "182                                0.77  \n",
       "183                                0.80  \n",
       "324                                0.19  \n",
       "335                                0.70  \n",
       "\n",
       "[140 rows x 11 columns]"
      ]
     },
     "execution_count": 8,
     "metadata": {},
     "output_type": "execute_result"
    }
   ],
   "source": [
    "data.loc[(data['CITY'] == 'Los Angeles') | (data['COMMUNITY'] == 'West LA')]"
   ]
  },
  {
   "cell_type": "code",
   "execution_count": 9,
   "id": "2c705662",
   "metadata": {},
   "outputs": [],
   "source": [
    "data = data.loc[(data['CITY'] == 'Los Angeles') | (data['COMMUNITY'] == 'West LA')]"
   ]
  },
  {
   "cell_type": "code",
   "execution_count": 10,
   "id": "d3c09587",
   "metadata": {
    "scrolled": true
   },
   "outputs": [
    {
     "data": {
      "text/plain": [
       "array(['Adams-Normandie', 'Alsace', 'Angeles National Forest',\n",
       "       'Angelino Heights', 'Arleta', 'Atwater Village', 'Baldwin Hills',\n",
       "       'Bel Air', 'Beverly Crest', 'Beverlywood', 'Boyle Heights',\n",
       "       'Brentwood', 'Brookside', 'Cadillac-Corning', 'Canoga Park',\n",
       "       'Carthay', 'Central', 'Century City', 'Century Palms/Cove',\n",
       "       'Chatsworth', 'Cheviot Hills', 'Chinatown', 'Cloverdale/Cochran',\n",
       "       'Country Club Park', 'Crenshaw District', 'Crestview', 'Del Rey',\n",
       "       'Downtown', 'Eagle Rock', 'East Hollywood', 'Echo Park',\n",
       "       'El Sereno', 'Elysian Park', 'Elysian Valley', 'Encino',\n",
       "       'Exposition', 'Exposition Park', 'Faircrest Heights',\n",
       "       'Figueroa Park Square', 'Florence-Firestone', 'Glassell Park',\n",
       "       'Gramercy Place', 'Granada Hills', 'Green Meadows', 'Hancock Park',\n",
       "       'Harbor City', 'Harbor Gateway', 'Harbor Pines', 'Harvard Heights',\n",
       "       'Harvard Park', 'Highland Park', 'Historic Filipinotown',\n",
       "       'Hollywood', 'Hollywood Hills', 'Hyde Park', 'Jefferson Park',\n",
       "       'Koreatown', 'Lafayette Square', 'Lake Balboa', 'Lakeview Terrace',\n",
       "       'Leimert Park', 'Lincoln Heights', 'Little Armenia',\n",
       "       'Little Bangladesh', 'Little Tokyo', 'Longwood', 'Los Feliz',\n",
       "       'Manchester Square', 'Mandeville Canyon', 'Mar Vista',\n",
       "       'Marina Peninsula', 'Melrose', 'Mid-city', 'Miracle Mile',\n",
       "       'Mission Hills', 'Mt. Washington', 'North Hills',\n",
       "       'North Hollywood', 'Northridge', 'Pacific Palisades', 'Pacoima',\n",
       "       'Palisades Highlands', 'Palms', 'Panorama City', 'Park La Brea',\n",
       "       'Pico-Union', 'Playa Del Rey', 'Playa Vista', 'Porter Ranch',\n",
       "       'Rancho Park', 'Regent Square', 'Reseda', 'Reseda Ranch',\n",
       "       'Reynier Village', 'San Pedro', 'Shadow Hills', 'Sherman Oaks',\n",
       "       'Silverlake', 'South Carthay', 'South Park', 'St Elmo Village',\n",
       "       'Studio City', 'Sun Valley', 'Sunland', 'Sycamore Square',\n",
       "       'Sylmar', 'Tarzana', 'Temple-Beaudry', 'Thai Town', 'Toluca Lake',\n",
       "       'Toluca Terrace', 'Toluca Woods', 'Tujunga', 'University Hills',\n",
       "       'University Park', 'Valley Glen', 'Valley Village', 'Van Nuys',\n",
       "       'Venice', 'Vermont Knolls', 'Vermont Square', 'Vermont Vista',\n",
       "       'Vernon Central', 'Victoria Park', 'Watts', 'Wellington Square',\n",
       "       'West Adams', 'West Hills', 'West Los Angeles', 'West Vernon',\n",
       "       'Westchester', 'Westlake', 'Westwood', 'Wholesale District',\n",
       "       'Wilmington', 'Wilshire Center', 'Winnetka', 'Woodland Hills',\n",
       "       'West LA', 'View Heights'], dtype=object)"
      ]
     },
     "execution_count": 10,
     "metadata": {},
     "output_type": "execute_result"
    }
   ],
   "source": [
    "data['COMMUNITY'].unique()"
   ]
  },
  {
   "cell_type": "code",
   "execution_count": 11,
   "id": "79cc9cde",
   "metadata": {},
   "outputs": [],
   "source": [
    "df = pd.DataFrame()\n",
    "\n",
    "for x in zip_code['AREA NAME']:\n",
    "    filtered_data = data[data['COMMUNITY'].str.contains(x)]\n",
    "    df = pd.concat([df, filtered_data])\n",
    "    \n",
    "df = pd.concat([\n",
    "    df,\n",
    "    data.loc[data['LABEL'] == 'Los Angeles - Woodland Hills'],\n",
    "    data.loc[data['LABEL'] == 'Los Angeles - Sunland'],\n",
    "    data.loc[data['LABEL'] == 'Los Angeles - Canoga Park'],\n",
    "    data.loc[data['LABEL'] == 'Los Angeles - San Pedro'],\n",
    "    data.loc[data['LABEL'] == 'Los Angeles - Mar Vista'],\n",
    "    data.loc[data['COMMUNITY'] == 'West LA']\n",
    "])\n",
    "\n",
    "df.reset_index(drop=True, inplace=True)"
   ]
  },
  {
   "cell_type": "code",
   "execution_count": 12,
   "id": "bc3c9c13",
   "metadata": {},
   "outputs": [
    {
     "data": {
      "text/plain": [
       "array(['Southwest', 'Central', 'N Hollywood', 'Mission', 'Devonshire',\n",
       "       'Northeast', 'Harbor', 'Van Nuys', 'West Valley', 'West LA',\n",
       "       'Wilshire', 'Pacific', 'Rampart', '77th Street', 'Hollenbeck',\n",
       "       'Southeast', 'Hollywood', 'Newton', 'Topanga', 'Foothill',\n",
       "       'Olympic'], dtype=object)"
      ]
     },
     "execution_count": 12,
     "metadata": {},
     "output_type": "execute_result"
    }
   ],
   "source": [
    "zip_code['AREA NAME'].values"
   ]
  },
  {
   "cell_type": "code",
   "execution_count": 13,
   "id": "ea5a7539",
   "metadata": {},
   "outputs": [],
   "source": [
    "df.drop(['CITY_TYPE', 'CITY','LABEL'], axis=1, inplace=True)"
   ]
  },
  {
   "cell_type": "code",
   "execution_count": 14,
   "id": "ccf87242",
   "metadata": {},
   "outputs": [
    {
     "data": {
      "text/html": [
       "<div>\n",
       "<style scoped>\n",
       "    .dataframe tbody tr th:only-of-type {\n",
       "        vertical-align: middle;\n",
       "    }\n",
       "\n",
       "    .dataframe tbody tr th {\n",
       "        vertical-align: top;\n",
       "    }\n",
       "\n",
       "    .dataframe thead th {\n",
       "        text-align: right;\n",
       "    }\n",
       "</style>\n",
       "<table border=\"1\" class=\"dataframe\">\n",
       "  <thead>\n",
       "    <tr style=\"text-align: right;\">\n",
       "      <th></th>\n",
       "      <th>COMMUNITY</th>\n",
       "      <th>City_Community</th>\n",
       "      <th>Cases</th>\n",
       "      <th>Case_Rate</th>\n",
       "      <th>Deaths</th>\n",
       "      <th>Death_Rate</th>\n",
       "      <th>Percent_of_People_with_1__Dose</th>\n",
       "      <th>Percent_of_People_Fully_Vaccinated</th>\n",
       "    </tr>\n",
       "  </thead>\n",
       "  <tbody>\n",
       "    <tr>\n",
       "      <th>0</th>\n",
       "      <td>Central</td>\n",
       "      <td>Los Angeles - Central</td>\n",
       "      <td>14863</td>\n",
       "      <td>38118.0</td>\n",
       "      <td>157</td>\n",
       "      <td>403.0</td>\n",
       "      <td>0.72</td>\n",
       "      <td>0.60</td>\n",
       "    </tr>\n",
       "    <tr>\n",
       "      <th>1</th>\n",
       "      <td>Vernon Central</td>\n",
       "      <td>Los Angeles - Vernon Central</td>\n",
       "      <td>21814</td>\n",
       "      <td>41952.0</td>\n",
       "      <td>195</td>\n",
       "      <td>375.0</td>\n",
       "      <td>0.77</td>\n",
       "      <td>0.64</td>\n",
       "    </tr>\n",
       "    <tr>\n",
       "      <th>2</th>\n",
       "      <td>Mission Hills</td>\n",
       "      <td>Los Angeles - Mission Hills</td>\n",
       "      <td>9416</td>\n",
       "      <td>39032.0</td>\n",
       "      <td>153</td>\n",
       "      <td>634.0</td>\n",
       "      <td>0.86</td>\n",
       "      <td>0.79</td>\n",
       "    </tr>\n",
       "    <tr>\n",
       "      <th>3</th>\n",
       "      <td>Harbor City</td>\n",
       "      <td>Los Angeles - Harbor City</td>\n",
       "      <td>7023</td>\n",
       "      <td>24159.0</td>\n",
       "      <td>49</td>\n",
       "      <td>169.0</td>\n",
       "      <td>0.77</td>\n",
       "      <td>0.70</td>\n",
       "    </tr>\n",
       "    <tr>\n",
       "      <th>4</th>\n",
       "      <td>Harbor Gateway</td>\n",
       "      <td>Los Angeles - Harbor Gateway</td>\n",
       "      <td>12162</td>\n",
       "      <td>27894.0</td>\n",
       "      <td>101</td>\n",
       "      <td>232.0</td>\n",
       "      <td>0.76</td>\n",
       "      <td>0.68</td>\n",
       "    </tr>\n",
       "    <tr>\n",
       "      <th>5</th>\n",
       "      <td>Harbor Pines</td>\n",
       "      <td>Los Angeles - Harbor Pines</td>\n",
       "      <td>457</td>\n",
       "      <td>18971.0</td>\n",
       "      <td>3</td>\n",
       "      <td>125.0</td>\n",
       "      <td>0.77</td>\n",
       "      <td>0.71</td>\n",
       "    </tr>\n",
       "    <tr>\n",
       "      <th>6</th>\n",
       "      <td>Van Nuys</td>\n",
       "      <td>Los Angeles - Van Nuys</td>\n",
       "      <td>30510</td>\n",
       "      <td>32738.0</td>\n",
       "      <td>424</td>\n",
       "      <td>455.0</td>\n",
       "      <td>0.76</td>\n",
       "      <td>0.67</td>\n",
       "    </tr>\n",
       "    <tr>\n",
       "      <th>7</th>\n",
       "      <td>West LA</td>\n",
       "      <td>Unincorporated - West LA</td>\n",
       "      <td>559</td>\n",
       "      <td>58718.0</td>\n",
       "      <td>21</td>\n",
       "      <td>2206.0</td>\n",
       "      <td>0.41</td>\n",
       "      <td>0.19</td>\n",
       "    </tr>\n",
       "    <tr>\n",
       "      <th>8</th>\n",
       "      <td>Wilshire Center</td>\n",
       "      <td>Los Angeles - Wilshire Center</td>\n",
       "      <td>13018</td>\n",
       "      <td>25948.0</td>\n",
       "      <td>148</td>\n",
       "      <td>295.0</td>\n",
       "      <td>0.83</td>\n",
       "      <td>0.73</td>\n",
       "    </tr>\n",
       "    <tr>\n",
       "      <th>9</th>\n",
       "      <td>Pacific Palisades</td>\n",
       "      <td>Los Angeles - Pacific Palisades</td>\n",
       "      <td>3372</td>\n",
       "      <td>15838.0</td>\n",
       "      <td>17</td>\n",
       "      <td>80.0</td>\n",
       "      <td>0.91</td>\n",
       "      <td>0.83</td>\n",
       "    </tr>\n",
       "    <tr>\n",
       "      <th>10</th>\n",
       "      <td>East Hollywood</td>\n",
       "      <td>Los Angeles - East Hollywood</td>\n",
       "      <td>7347</td>\n",
       "      <td>25086.0</td>\n",
       "      <td>154</td>\n",
       "      <td>526.0</td>\n",
       "      <td>0.75</td>\n",
       "      <td>0.67</td>\n",
       "    </tr>\n",
       "    <tr>\n",
       "      <th>11</th>\n",
       "      <td>Hollywood</td>\n",
       "      <td>Los Angeles - Hollywood</td>\n",
       "      <td>16148</td>\n",
       "      <td>23659.0</td>\n",
       "      <td>114</td>\n",
       "      <td>167.0</td>\n",
       "      <td>0.80</td>\n",
       "      <td>0.70</td>\n",
       "    </tr>\n",
       "    <tr>\n",
       "      <th>12</th>\n",
       "      <td>Hollywood Hills</td>\n",
       "      <td>Los Angeles - Hollywood Hills</td>\n",
       "      <td>5313</td>\n",
       "      <td>18051.0</td>\n",
       "      <td>30</td>\n",
       "      <td>102.0</td>\n",
       "      <td>0.85</td>\n",
       "      <td>0.76</td>\n",
       "    </tr>\n",
       "    <tr>\n",
       "      <th>13</th>\n",
       "      <td>North Hollywood</td>\n",
       "      <td>Los Angeles - North Hollywood</td>\n",
       "      <td>46335</td>\n",
       "      <td>30600.0</td>\n",
       "      <td>478</td>\n",
       "      <td>316.0</td>\n",
       "      <td>0.75</td>\n",
       "      <td>0.68</td>\n",
       "    </tr>\n",
       "    <tr>\n",
       "      <th>14</th>\n",
       "      <td>Woodland Hills</td>\n",
       "      <td>Los Angeles - Woodland Hills</td>\n",
       "      <td>14626</td>\n",
       "      <td>21491.0</td>\n",
       "      <td>115</td>\n",
       "      <td>169.0</td>\n",
       "      <td>0.86</td>\n",
       "      <td>0.80</td>\n",
       "    </tr>\n",
       "    <tr>\n",
       "      <th>15</th>\n",
       "      <td>Sunland</td>\n",
       "      <td>Los Angeles - Sunland</td>\n",
       "      <td>5093</td>\n",
       "      <td>24956.0</td>\n",
       "      <td>80</td>\n",
       "      <td>392.0</td>\n",
       "      <td>0.75</td>\n",
       "      <td>0.68</td>\n",
       "    </tr>\n",
       "    <tr>\n",
       "      <th>16</th>\n",
       "      <td>Canoga Park</td>\n",
       "      <td>Los Angeles - Canoga Park</td>\n",
       "      <td>20138</td>\n",
       "      <td>30844.0</td>\n",
       "      <td>208</td>\n",
       "      <td>319.0</td>\n",
       "      <td>0.80</td>\n",
       "      <td>0.72</td>\n",
       "    </tr>\n",
       "    <tr>\n",
       "      <th>17</th>\n",
       "      <td>San Pedro</td>\n",
       "      <td>Los Angeles - San Pedro</td>\n",
       "      <td>19687</td>\n",
       "      <td>25227.0</td>\n",
       "      <td>177</td>\n",
       "      <td>227.0</td>\n",
       "      <td>0.77</td>\n",
       "      <td>0.66</td>\n",
       "    </tr>\n",
       "    <tr>\n",
       "      <th>18</th>\n",
       "      <td>Mar Vista</td>\n",
       "      <td>Los Angeles - Mar Vista</td>\n",
       "      <td>7371</td>\n",
       "      <td>17355.0</td>\n",
       "      <td>46</td>\n",
       "      <td>108.0</td>\n",
       "      <td>0.85</td>\n",
       "      <td>0.79</td>\n",
       "    </tr>\n",
       "    <tr>\n",
       "      <th>19</th>\n",
       "      <td>West LA</td>\n",
       "      <td>Unincorporated - West LA</td>\n",
       "      <td>559</td>\n",
       "      <td>58718.0</td>\n",
       "      <td>21</td>\n",
       "      <td>2206.0</td>\n",
       "      <td>0.41</td>\n",
       "      <td>0.19</td>\n",
       "    </tr>\n",
       "  </tbody>\n",
       "</table>\n",
       "</div>"
      ],
      "text/plain": [
       "            COMMUNITY                   City_Community  Cases  Case_Rate  \\\n",
       "0             Central            Los Angeles - Central  14863    38118.0   \n",
       "1      Vernon Central     Los Angeles - Vernon Central  21814    41952.0   \n",
       "2       Mission Hills      Los Angeles - Mission Hills   9416    39032.0   \n",
       "3         Harbor City        Los Angeles - Harbor City   7023    24159.0   \n",
       "4      Harbor Gateway     Los Angeles - Harbor Gateway  12162    27894.0   \n",
       "5        Harbor Pines       Los Angeles - Harbor Pines    457    18971.0   \n",
       "6            Van Nuys           Los Angeles - Van Nuys  30510    32738.0   \n",
       "7             West LA         Unincorporated - West LA    559    58718.0   \n",
       "8     Wilshire Center    Los Angeles - Wilshire Center  13018    25948.0   \n",
       "9   Pacific Palisades  Los Angeles - Pacific Palisades   3372    15838.0   \n",
       "10     East Hollywood     Los Angeles - East Hollywood   7347    25086.0   \n",
       "11          Hollywood          Los Angeles - Hollywood  16148    23659.0   \n",
       "12    Hollywood Hills    Los Angeles - Hollywood Hills   5313    18051.0   \n",
       "13    North Hollywood    Los Angeles - North Hollywood  46335    30600.0   \n",
       "14     Woodland Hills     Los Angeles - Woodland Hills  14626    21491.0   \n",
       "15            Sunland            Los Angeles - Sunland   5093    24956.0   \n",
       "16        Canoga Park        Los Angeles - Canoga Park  20138    30844.0   \n",
       "17          San Pedro          Los Angeles - San Pedro  19687    25227.0   \n",
       "18          Mar Vista          Los Angeles - Mar Vista   7371    17355.0   \n",
       "19            West LA         Unincorporated - West LA    559    58718.0   \n",
       "\n",
       "    Deaths  Death_Rate  Percent_of_People_with_1__Dose  \\\n",
       "0      157       403.0                            0.72   \n",
       "1      195       375.0                            0.77   \n",
       "2      153       634.0                            0.86   \n",
       "3       49       169.0                            0.77   \n",
       "4      101       232.0                            0.76   \n",
       "5        3       125.0                            0.77   \n",
       "6      424       455.0                            0.76   \n",
       "7       21      2206.0                            0.41   \n",
       "8      148       295.0                            0.83   \n",
       "9       17        80.0                            0.91   \n",
       "10     154       526.0                            0.75   \n",
       "11     114       167.0                            0.80   \n",
       "12      30       102.0                            0.85   \n",
       "13     478       316.0                            0.75   \n",
       "14     115       169.0                            0.86   \n",
       "15      80       392.0                            0.75   \n",
       "16     208       319.0                            0.80   \n",
       "17     177       227.0                            0.77   \n",
       "18      46       108.0                            0.85   \n",
       "19      21      2206.0                            0.41   \n",
       "\n",
       "    Percent_of_People_Fully_Vaccinated  \n",
       "0                                 0.60  \n",
       "1                                 0.64  \n",
       "2                                 0.79  \n",
       "3                                 0.70  \n",
       "4                                 0.68  \n",
       "5                                 0.71  \n",
       "6                                 0.67  \n",
       "7                                 0.19  \n",
       "8                                 0.73  \n",
       "9                                 0.83  \n",
       "10                                0.67  \n",
       "11                                0.70  \n",
       "12                                0.76  \n",
       "13                                0.68  \n",
       "14                                0.80  \n",
       "15                                0.68  \n",
       "16                                0.72  \n",
       "17                                0.66  \n",
       "18                                0.79  \n",
       "19                                0.19  "
      ]
     },
     "execution_count": 14,
     "metadata": {},
     "output_type": "execute_result"
    }
   ],
   "source": [
    "df"
   ]
  },
  {
   "cell_type": "code",
   "execution_count": 15,
   "id": "cd6ece32",
   "metadata": {},
   "outputs": [],
   "source": [
    "df.loc[2, 'COMMUNITY'] = 'Mission'\n",
    "df.loc[3, 'COMMUNITY'] = 'Harbor'\n",
    "df.loc[4, 'COMMUNITY'] = 'Harbor'\n",
    "df.loc[5, 'COMMUNITY'] = 'Harbor'\n",
    "df.loc[8, 'COMMUNITY'] = 'Wilshire'\n",
    "df.loc[10, 'COMMUNITY'] = 'E Hollywood'\n",
    "df.loc[13, 'COMMUNITY'] = 'N Hollywood'\n",
    "df.loc[14, 'COMMUNITY'] = 'Topanga'\n",
    "df.loc[15, 'COMMUNITY'] = 'Foothill'\n",
    "df.loc[16, 'COMMUNITY'] = 'West Valley'\n",
    "df.loc[17, 'COMMUNITY'] = 'Harbor'\n",
    "df.loc[18, 'COMMUNITY'] = 'Pacific'\n",
    "\n",
    "df = df.drop([1, 9, 11]).reset_index(drop=True)\n",
    "\n",
    "df = df.groupby('COMMUNITY')[[x for x in df.columns if df[x].dtype != 'O']].sum().reset_index()\n",
    "\n",
    "df = df.drop([0, 5]).reset_index(drop=True)\n",
    "\n",
    "df = df.rename(columns={'COMMUNITY':'area_name'})"
   ]
  },
  {
   "cell_type": "code",
   "execution_count": null,
   "id": "30a1727a",
   "metadata": {},
   "outputs": [],
   "source": []
  },
  {
   "cell_type": "code",
   "execution_count": 16,
   "id": "37e9045c",
   "metadata": {},
   "outputs": [
    {
     "data": {
      "text/html": [
       "<div>\n",
       "<style scoped>\n",
       "    .dataframe tbody tr th:only-of-type {\n",
       "        vertical-align: middle;\n",
       "    }\n",
       "\n",
       "    .dataframe tbody tr th {\n",
       "        vertical-align: top;\n",
       "    }\n",
       "\n",
       "    .dataframe thead th {\n",
       "        text-align: right;\n",
       "    }\n",
       "</style>\n",
       "<table border=\"1\" class=\"dataframe\">\n",
       "  <thead>\n",
       "    <tr style=\"text-align: right;\">\n",
       "      <th></th>\n",
       "      <th>crime_2020</th>\n",
       "      <th>crime_2021</th>\n",
       "      <th>Cases</th>\n",
       "      <th>Case_Rate</th>\n",
       "      <th>Deaths</th>\n",
       "      <th>Death_Rate</th>\n",
       "      <th>Percent_of_People_with_1__Dose</th>\n",
       "      <th>Percent_of_People_Fully_Vaccinated</th>\n",
       "    </tr>\n",
       "  </thead>\n",
       "  <tbody>\n",
       "    <tr>\n",
       "      <th>crime_2020</th>\n",
       "      <td>1.000000</td>\n",
       "      <td>0.987809</td>\n",
       "      <td>0.112471</td>\n",
       "      <td>-0.007588</td>\n",
       "      <td>0.051377</td>\n",
       "      <td>0.033452</td>\n",
       "      <td>-0.028101</td>\n",
       "      <td>-0.035791</td>\n",
       "    </tr>\n",
       "    <tr>\n",
       "      <th>crime_2021</th>\n",
       "      <td>0.987809</td>\n",
       "      <td>1.000000</td>\n",
       "      <td>0.026908</td>\n",
       "      <td>-0.059881</td>\n",
       "      <td>-0.046082</td>\n",
       "      <td>0.032170</td>\n",
       "      <td>-0.110853</td>\n",
       "      <td>-0.116249</td>\n",
       "    </tr>\n",
       "    <tr>\n",
       "      <th>Cases</th>\n",
       "      <td>0.112471</td>\n",
       "      <td>0.026908</td>\n",
       "      <td>1.000000</td>\n",
       "      <td>0.003957</td>\n",
       "      <td>0.949803</td>\n",
       "      <td>-0.369884</td>\n",
       "      <td>0.439114</td>\n",
       "      <td>0.494822</td>\n",
       "    </tr>\n",
       "    <tr>\n",
       "      <th>Case_Rate</th>\n",
       "      <td>-0.007588</td>\n",
       "      <td>-0.059881</td>\n",
       "      <td>0.003957</td>\n",
       "      <td>1.000000</td>\n",
       "      <td>-0.040547</td>\n",
       "      <td>0.830647</td>\n",
       "      <td>0.539999</td>\n",
       "      <td>0.388062</td>\n",
       "    </tr>\n",
       "    <tr>\n",
       "      <th>Deaths</th>\n",
       "      <td>0.051377</td>\n",
       "      <td>-0.046082</td>\n",
       "      <td>0.949803</td>\n",
       "      <td>-0.040547</td>\n",
       "      <td>1.000000</td>\n",
       "      <td>-0.309643</td>\n",
       "      <td>0.243362</td>\n",
       "      <td>0.290949</td>\n",
       "    </tr>\n",
       "    <tr>\n",
       "      <th>Death_Rate</th>\n",
       "      <td>0.033452</td>\n",
       "      <td>0.032170</td>\n",
       "      <td>-0.369884</td>\n",
       "      <td>0.830647</td>\n",
       "      <td>-0.309643</td>\n",
       "      <td>1.000000</td>\n",
       "      <td>-0.008279</td>\n",
       "      <td>-0.180024</td>\n",
       "    </tr>\n",
       "    <tr>\n",
       "      <th>Percent_of_People_with_1__Dose</th>\n",
       "      <td>-0.028101</td>\n",
       "      <td>-0.110853</td>\n",
       "      <td>0.439114</td>\n",
       "      <td>0.539999</td>\n",
       "      <td>0.243362</td>\n",
       "      <td>-0.008279</td>\n",
       "      <td>1.000000</td>\n",
       "      <td>0.985028</td>\n",
       "    </tr>\n",
       "    <tr>\n",
       "      <th>Percent_of_People_Fully_Vaccinated</th>\n",
       "      <td>-0.035791</td>\n",
       "      <td>-0.116249</td>\n",
       "      <td>0.494822</td>\n",
       "      <td>0.388062</td>\n",
       "      <td>0.290949</td>\n",
       "      <td>-0.180024</td>\n",
       "      <td>0.985028</td>\n",
       "      <td>1.000000</td>\n",
       "    </tr>\n",
       "  </tbody>\n",
       "</table>\n",
       "</div>"
      ],
      "text/plain": [
       "                                    crime_2020  crime_2021     Cases  \\\n",
       "crime_2020                            1.000000    0.987809  0.112471   \n",
       "crime_2021                            0.987809    1.000000  0.026908   \n",
       "Cases                                 0.112471    0.026908  1.000000   \n",
       "Case_Rate                            -0.007588   -0.059881  0.003957   \n",
       "Deaths                                0.051377   -0.046082  0.949803   \n",
       "Death_Rate                            0.033452    0.032170 -0.369884   \n",
       "Percent_of_People_with_1__Dose       -0.028101   -0.110853  0.439114   \n",
       "Percent_of_People_Fully_Vaccinated   -0.035791   -0.116249  0.494822   \n",
       "\n",
       "                                    Case_Rate    Deaths  Death_Rate  \\\n",
       "crime_2020                          -0.007588  0.051377    0.033452   \n",
       "crime_2021                          -0.059881 -0.046082    0.032170   \n",
       "Cases                                0.003957  0.949803   -0.369884   \n",
       "Case_Rate                            1.000000 -0.040547    0.830647   \n",
       "Deaths                              -0.040547  1.000000   -0.309643   \n",
       "Death_Rate                           0.830647 -0.309643    1.000000   \n",
       "Percent_of_People_with_1__Dose       0.539999  0.243362   -0.008279   \n",
       "Percent_of_People_Fully_Vaccinated   0.388062  0.290949   -0.180024   \n",
       "\n",
       "                                    Percent_of_People_with_1__Dose  \\\n",
       "crime_2020                                               -0.028101   \n",
       "crime_2021                                               -0.110853   \n",
       "Cases                                                     0.439114   \n",
       "Case_Rate                                                 0.539999   \n",
       "Deaths                                                    0.243362   \n",
       "Death_Rate                                               -0.008279   \n",
       "Percent_of_People_with_1__Dose                            1.000000   \n",
       "Percent_of_People_Fully_Vaccinated                        0.985028   \n",
       "\n",
       "                                    Percent_of_People_Fully_Vaccinated  \n",
       "crime_2020                                                   -0.035791  \n",
       "crime_2021                                                   -0.116249  \n",
       "Cases                                                         0.494822  \n",
       "Case_Rate                                                     0.388062  \n",
       "Deaths                                                        0.290949  \n",
       "Death_Rate                                                   -0.180024  \n",
       "Percent_of_People_with_1__Dose                                0.985028  \n",
       "Percent_of_People_Fully_Vaccinated                            1.000000  "
      ]
     },
     "execution_count": 16,
     "metadata": {},
     "output_type": "execute_result"
    }
   ],
   "source": [
    "crime_cnt = pd.merge(pd.read_csv('crim cnt in 2020_2021.csv').drop('Unnamed: 0', axis=1),\n",
    "         df, on='area_name')\n",
    "\n",
    "crime_cnt.corr()"
   ]
  },
  {
   "cell_type": "code",
   "execution_count": null,
   "id": "5eb8bbf9",
   "metadata": {},
   "outputs": [],
   "source": []
  },
  {
   "cell_type": "code",
   "execution_count": 17,
   "id": "33d33ef1",
   "metadata": {},
   "outputs": [
    {
     "data": {
      "text/html": [
       "<div>\n",
       "<style scoped>\n",
       "    .dataframe tbody tr th:only-of-type {\n",
       "        vertical-align: middle;\n",
       "    }\n",
       "\n",
       "    .dataframe tbody tr th {\n",
       "        vertical-align: top;\n",
       "    }\n",
       "\n",
       "    .dataframe thead th {\n",
       "        text-align: right;\n",
       "    }\n",
       "</style>\n",
       "<table border=\"1\" class=\"dataframe\">\n",
       "  <thead>\n",
       "    <tr style=\"text-align: right;\">\n",
       "      <th></th>\n",
       "      <th>crime_rate_2020</th>\n",
       "      <th>crime_rate_2021</th>\n",
       "      <th>Cases</th>\n",
       "      <th>Case_Rate</th>\n",
       "      <th>Deaths</th>\n",
       "      <th>Death_Rate</th>\n",
       "      <th>Percent_of_People_with_1__Dose</th>\n",
       "      <th>Percent_of_People_Fully_Vaccinated</th>\n",
       "    </tr>\n",
       "  </thead>\n",
       "  <tbody>\n",
       "    <tr>\n",
       "      <th>crime_rate_2020</th>\n",
       "      <td>1.000000</td>\n",
       "      <td>0.951646</td>\n",
       "      <td>-0.217050</td>\n",
       "      <td>-0.469253</td>\n",
       "      <td>-0.076061</td>\n",
       "      <td>-0.199150</td>\n",
       "      <td>-0.598980</td>\n",
       "      <td>-0.554904</td>\n",
       "    </tr>\n",
       "    <tr>\n",
       "      <th>crime_rate_2021</th>\n",
       "      <td>0.951646</td>\n",
       "      <td>1.000000</td>\n",
       "      <td>-0.127848</td>\n",
       "      <td>-0.507138</td>\n",
       "      <td>-0.005253</td>\n",
       "      <td>-0.195033</td>\n",
       "      <td>-0.676487</td>\n",
       "      <td>-0.631733</td>\n",
       "    </tr>\n",
       "    <tr>\n",
       "      <th>Cases</th>\n",
       "      <td>-0.217050</td>\n",
       "      <td>-0.127848</td>\n",
       "      <td>1.000000</td>\n",
       "      <td>0.003957</td>\n",
       "      <td>0.949803</td>\n",
       "      <td>-0.369884</td>\n",
       "      <td>0.439114</td>\n",
       "      <td>0.494822</td>\n",
       "    </tr>\n",
       "    <tr>\n",
       "      <th>Case_Rate</th>\n",
       "      <td>-0.469253</td>\n",
       "      <td>-0.507138</td>\n",
       "      <td>0.003957</td>\n",
       "      <td>1.000000</td>\n",
       "      <td>-0.040547</td>\n",
       "      <td>0.830647</td>\n",
       "      <td>0.539999</td>\n",
       "      <td>0.388062</td>\n",
       "    </tr>\n",
       "    <tr>\n",
       "      <th>Deaths</th>\n",
       "      <td>-0.076061</td>\n",
       "      <td>-0.005253</td>\n",
       "      <td>0.949803</td>\n",
       "      <td>-0.040547</td>\n",
       "      <td>1.000000</td>\n",
       "      <td>-0.309643</td>\n",
       "      <td>0.243362</td>\n",
       "      <td>0.290949</td>\n",
       "    </tr>\n",
       "    <tr>\n",
       "      <th>Death_Rate</th>\n",
       "      <td>-0.199150</td>\n",
       "      <td>-0.195033</td>\n",
       "      <td>-0.369884</td>\n",
       "      <td>0.830647</td>\n",
       "      <td>-0.309643</td>\n",
       "      <td>1.000000</td>\n",
       "      <td>-0.008279</td>\n",
       "      <td>-0.180024</td>\n",
       "    </tr>\n",
       "    <tr>\n",
       "      <th>Percent_of_People_with_1__Dose</th>\n",
       "      <td>-0.598980</td>\n",
       "      <td>-0.676487</td>\n",
       "      <td>0.439114</td>\n",
       "      <td>0.539999</td>\n",
       "      <td>0.243362</td>\n",
       "      <td>-0.008279</td>\n",
       "      <td>1.000000</td>\n",
       "      <td>0.985028</td>\n",
       "    </tr>\n",
       "    <tr>\n",
       "      <th>Percent_of_People_Fully_Vaccinated</th>\n",
       "      <td>-0.554904</td>\n",
       "      <td>-0.631733</td>\n",
       "      <td>0.494822</td>\n",
       "      <td>0.388062</td>\n",
       "      <td>0.290949</td>\n",
       "      <td>-0.180024</td>\n",
       "      <td>0.985028</td>\n",
       "      <td>1.000000</td>\n",
       "    </tr>\n",
       "  </tbody>\n",
       "</table>\n",
       "</div>"
      ],
      "text/plain": [
       "                                    crime_rate_2020  crime_rate_2021  \\\n",
       "crime_rate_2020                            1.000000         0.951646   \n",
       "crime_rate_2021                            0.951646         1.000000   \n",
       "Cases                                     -0.217050        -0.127848   \n",
       "Case_Rate                                 -0.469253        -0.507138   \n",
       "Deaths                                    -0.076061        -0.005253   \n",
       "Death_Rate                                -0.199150        -0.195033   \n",
       "Percent_of_People_with_1__Dose            -0.598980        -0.676487   \n",
       "Percent_of_People_Fully_Vaccinated        -0.554904        -0.631733   \n",
       "\n",
       "                                       Cases  Case_Rate    Deaths  Death_Rate  \\\n",
       "crime_rate_2020                    -0.217050  -0.469253 -0.076061   -0.199150   \n",
       "crime_rate_2021                    -0.127848  -0.507138 -0.005253   -0.195033   \n",
       "Cases                               1.000000   0.003957  0.949803   -0.369884   \n",
       "Case_Rate                           0.003957   1.000000 -0.040547    0.830647   \n",
       "Deaths                              0.949803  -0.040547  1.000000   -0.309643   \n",
       "Death_Rate                         -0.369884   0.830647 -0.309643    1.000000   \n",
       "Percent_of_People_with_1__Dose      0.439114   0.539999  0.243362   -0.008279   \n",
       "Percent_of_People_Fully_Vaccinated  0.494822   0.388062  0.290949   -0.180024   \n",
       "\n",
       "                                    Percent_of_People_with_1__Dose  \\\n",
       "crime_rate_2020                                          -0.598980   \n",
       "crime_rate_2021                                          -0.676487   \n",
       "Cases                                                     0.439114   \n",
       "Case_Rate                                                 0.539999   \n",
       "Deaths                                                    0.243362   \n",
       "Death_Rate                                               -0.008279   \n",
       "Percent_of_People_with_1__Dose                            1.000000   \n",
       "Percent_of_People_Fully_Vaccinated                        0.985028   \n",
       "\n",
       "                                    Percent_of_People_Fully_Vaccinated  \n",
       "crime_rate_2020                                              -0.554904  \n",
       "crime_rate_2021                                              -0.631733  \n",
       "Cases                                                         0.494822  \n",
       "Case_Rate                                                     0.388062  \n",
       "Deaths                                                        0.290949  \n",
       "Death_Rate                                                   -0.180024  \n",
       "Percent_of_People_with_1__Dose                                0.985028  \n",
       "Percent_of_People_Fully_Vaccinated                            1.000000  "
      ]
     },
     "execution_count": 17,
     "metadata": {},
     "output_type": "execute_result"
    }
   ],
   "source": [
    "crime_rate = pd.merge(pd.read_csv('crime_rate(2020_2021).csv').drop('Unnamed: 0', axis=1),\n",
    "         df, on='area_name')\n",
    "\n",
    "crime_rate.corr()"
   ]
  },
  {
   "cell_type": "code",
   "execution_count": 19,
   "id": "86766ecc",
   "metadata": {},
   "outputs": [
    {
     "data": {
      "application/vnd.plotly.v1+json": {
       "config": {
        "plotlyServerURL": "https://plot.ly"
       },
       "data": [
        {
         "hovertemplate": "variable=crime_rate_2020<br>value=%{x}<br>Case_Rate=%{marker.size}<extra></extra>",
         "legendgroup": "crime_rate_2020",
         "marker": {
          "color": "#636efa",
          "size": [
           24956,
           30844,
           30600,
           25948,
           32738,
           17355,
           117436,
           21491,
           96251
          ],
          "sizemode": "area",
          "sizeref": 293.59,
          "symbol": "circle"
         },
         "mode": "markers",
         "name": "crime_rate_2020",
         "orientation": "v",
         "showlegend": true,
         "type": "scatter",
         "x": [
          0.328562164165277,
          0.2834451980180623,
          0.2574501001800705,
          0.24408350225077,
          0.2206153302541581,
          0.2089541443656878,
          0.2042845203008841,
          0.1740074841928685,
          0.1445405581850824
         ],
         "xaxis": "x",
         "y": [
          24956,
          30844,
          30600,
          25948,
          32738,
          17355,
          117436,
          21491,
          96251
         ],
         "yaxis": "y"
        },
        {
         "hovertemplate": "<b>OLS trendline</b><br>Case_Rate = -303299 * value + 113802<br>R<sup>2</sup>=0.220199<br><br>variable=crime_rate_2020<br>value=%{x}<br>Case_Rate=%{y} <b>(trend)</b><extra></extra>",
         "legendgroup": "crime_rate_2020",
         "marker": {
          "color": "#636efa",
          "symbol": "circle"
         },
         "mode": "lines",
         "name": "crime_rate_2020",
         "showlegend": false,
         "type": "scatter",
         "x": [
          0.1445405581850824,
          0.1740074841928685,
          0.2042845203008841,
          0.2089541443656878,
          0.2206153302541581,
          0.24408350225077,
          0.2574501001800705,
          0.2834451980180623,
          0.328562164165277
         ],
         "xaxis": "x",
         "y": [
          69962.90429228579,
          61025.624617851114,
          51842.639621764545,
          50426.34882066117,
          46889.52656803488,
          39771.66104904466,
          35717.589580635904,
          27833.31079699089,
          14149.394652730858
         ],
         "yaxis": "y"
        },
        {
         "hovertemplate": "variable=crime_rate_2021<br>value=%{x}<br>Case_Rate=%{marker.size}<extra></extra>",
         "legendgroup": "crime_rate_2021",
         "marker": {
          "color": "#EF553B",
          "size": [
           24956,
           30844,
           30600,
           25948,
           32738,
           17355,
           117436,
           21491,
           96251
          ],
          "sizemode": "area",
          "sizeref": 293.59,
          "symbol": "circle"
         },
         "mode": "markers",
         "name": "crime_rate_2021",
         "orientation": "v",
         "showlegend": true,
         "type": "scatter",
         "x": [
          0.3298886749025318,
          0.2841648590021692,
          0.3132582073247858,
          0.2632348956922243,
          0.2226356032226612,
          0.2350445249758709,
          0.221328012912482,
          0.1906478823084284,
          0.1413156256484747
         ],
         "xaxis": "x",
         "y": [
          24956,
          30844,
          30600,
          25948,
          32738,
          17355,
          117436,
          21491,
          96251
         ],
         "yaxis": "y"
        },
        {
         "hovertemplate": "<b>OLS trendline</b><br>Case_Rate = -307420 * value + 119379<br>R<sup>2</sup>=0.257189<br><br>variable=crime_rate_2021<br>value=%{x}<br>Case_Rate=%{y} <b>(trend)</b><extra></extra>",
         "legendgroup": "crime_rate_2021",
         "marker": {
          "color": "#EF553B",
          "symbol": "circle"
         },
         "mode": "lines",
         "name": "crime_rate_2021",
         "showlegend": false,
         "type": "scatter",
         "x": [
          0.1413156256484747,
          0.1906478823084284,
          0.221328012912482,
          0.2226356032226612,
          0.2350445249758709,
          0.2632348956922243,
          0.2841648590021692,
          0.3132582073247858,
          0.3298886749025318
         ],
         "xaxis": "x",
         "y": [
          75935.56496161828,
          60769.864910941695,
          51338.193024049004,
          50936.21420175348,
          47121.46908359106,
          38455.198056329406,
          32020.918193191508,
          23077.054198240177,
          17964.523370285257
         ],
         "yaxis": "y"
        }
       ],
       "layout": {
        "legend": {
         "itemsizing": "constant",
         "title": {
          "text": "variable"
         },
         "tracegroupgap": 0
        },
        "margin": {
         "t": 60
        },
        "template": {
         "data": {
          "bar": [
           {
            "error_x": {
             "color": "#2a3f5f"
            },
            "error_y": {
             "color": "#2a3f5f"
            },
            "marker": {
             "line": {
              "color": "#E5ECF6",
              "width": 0.5
             },
             "pattern": {
              "fillmode": "overlay",
              "size": 10,
              "solidity": 0.2
             }
            },
            "type": "bar"
           }
          ],
          "barpolar": [
           {
            "marker": {
             "line": {
              "color": "#E5ECF6",
              "width": 0.5
             },
             "pattern": {
              "fillmode": "overlay",
              "size": 10,
              "solidity": 0.2
             }
            },
            "type": "barpolar"
           }
          ],
          "carpet": [
           {
            "aaxis": {
             "endlinecolor": "#2a3f5f",
             "gridcolor": "white",
             "linecolor": "white",
             "minorgridcolor": "white",
             "startlinecolor": "#2a3f5f"
            },
            "baxis": {
             "endlinecolor": "#2a3f5f",
             "gridcolor": "white",
             "linecolor": "white",
             "minorgridcolor": "white",
             "startlinecolor": "#2a3f5f"
            },
            "type": "carpet"
           }
          ],
          "choropleth": [
           {
            "colorbar": {
             "outlinewidth": 0,
             "ticks": ""
            },
            "type": "choropleth"
           }
          ],
          "contour": [
           {
            "colorbar": {
             "outlinewidth": 0,
             "ticks": ""
            },
            "colorscale": [
             [
              0,
              "#0d0887"
             ],
             [
              0.1111111111111111,
              "#46039f"
             ],
             [
              0.2222222222222222,
              "#7201a8"
             ],
             [
              0.3333333333333333,
              "#9c179e"
             ],
             [
              0.4444444444444444,
              "#bd3786"
             ],
             [
              0.5555555555555556,
              "#d8576b"
             ],
             [
              0.6666666666666666,
              "#ed7953"
             ],
             [
              0.7777777777777778,
              "#fb9f3a"
             ],
             [
              0.8888888888888888,
              "#fdca26"
             ],
             [
              1,
              "#f0f921"
             ]
            ],
            "type": "contour"
           }
          ],
          "contourcarpet": [
           {
            "colorbar": {
             "outlinewidth": 0,
             "ticks": ""
            },
            "type": "contourcarpet"
           }
          ],
          "heatmap": [
           {
            "colorbar": {
             "outlinewidth": 0,
             "ticks": ""
            },
            "colorscale": [
             [
              0,
              "#0d0887"
             ],
             [
              0.1111111111111111,
              "#46039f"
             ],
             [
              0.2222222222222222,
              "#7201a8"
             ],
             [
              0.3333333333333333,
              "#9c179e"
             ],
             [
              0.4444444444444444,
              "#bd3786"
             ],
             [
              0.5555555555555556,
              "#d8576b"
             ],
             [
              0.6666666666666666,
              "#ed7953"
             ],
             [
              0.7777777777777778,
              "#fb9f3a"
             ],
             [
              0.8888888888888888,
              "#fdca26"
             ],
             [
              1,
              "#f0f921"
             ]
            ],
            "type": "heatmap"
           }
          ],
          "heatmapgl": [
           {
            "colorbar": {
             "outlinewidth": 0,
             "ticks": ""
            },
            "colorscale": [
             [
              0,
              "#0d0887"
             ],
             [
              0.1111111111111111,
              "#46039f"
             ],
             [
              0.2222222222222222,
              "#7201a8"
             ],
             [
              0.3333333333333333,
              "#9c179e"
             ],
             [
              0.4444444444444444,
              "#bd3786"
             ],
             [
              0.5555555555555556,
              "#d8576b"
             ],
             [
              0.6666666666666666,
              "#ed7953"
             ],
             [
              0.7777777777777778,
              "#fb9f3a"
             ],
             [
              0.8888888888888888,
              "#fdca26"
             ],
             [
              1,
              "#f0f921"
             ]
            ],
            "type": "heatmapgl"
           }
          ],
          "histogram": [
           {
            "marker": {
             "pattern": {
              "fillmode": "overlay",
              "size": 10,
              "solidity": 0.2
             }
            },
            "type": "histogram"
           }
          ],
          "histogram2d": [
           {
            "colorbar": {
             "outlinewidth": 0,
             "ticks": ""
            },
            "colorscale": [
             [
              0,
              "#0d0887"
             ],
             [
              0.1111111111111111,
              "#46039f"
             ],
             [
              0.2222222222222222,
              "#7201a8"
             ],
             [
              0.3333333333333333,
              "#9c179e"
             ],
             [
              0.4444444444444444,
              "#bd3786"
             ],
             [
              0.5555555555555556,
              "#d8576b"
             ],
             [
              0.6666666666666666,
              "#ed7953"
             ],
             [
              0.7777777777777778,
              "#fb9f3a"
             ],
             [
              0.8888888888888888,
              "#fdca26"
             ],
             [
              1,
              "#f0f921"
             ]
            ],
            "type": "histogram2d"
           }
          ],
          "histogram2dcontour": [
           {
            "colorbar": {
             "outlinewidth": 0,
             "ticks": ""
            },
            "colorscale": [
             [
              0,
              "#0d0887"
             ],
             [
              0.1111111111111111,
              "#46039f"
             ],
             [
              0.2222222222222222,
              "#7201a8"
             ],
             [
              0.3333333333333333,
              "#9c179e"
             ],
             [
              0.4444444444444444,
              "#bd3786"
             ],
             [
              0.5555555555555556,
              "#d8576b"
             ],
             [
              0.6666666666666666,
              "#ed7953"
             ],
             [
              0.7777777777777778,
              "#fb9f3a"
             ],
             [
              0.8888888888888888,
              "#fdca26"
             ],
             [
              1,
              "#f0f921"
             ]
            ],
            "type": "histogram2dcontour"
           }
          ],
          "mesh3d": [
           {
            "colorbar": {
             "outlinewidth": 0,
             "ticks": ""
            },
            "type": "mesh3d"
           }
          ],
          "parcoords": [
           {
            "line": {
             "colorbar": {
              "outlinewidth": 0,
              "ticks": ""
             }
            },
            "type": "parcoords"
           }
          ],
          "pie": [
           {
            "automargin": true,
            "type": "pie"
           }
          ],
          "scatter": [
           {
            "fillpattern": {
             "fillmode": "overlay",
             "size": 10,
             "solidity": 0.2
            },
            "type": "scatter"
           }
          ],
          "scatter3d": [
           {
            "line": {
             "colorbar": {
              "outlinewidth": 0,
              "ticks": ""
             }
            },
            "marker": {
             "colorbar": {
              "outlinewidth": 0,
              "ticks": ""
             }
            },
            "type": "scatter3d"
           }
          ],
          "scattercarpet": [
           {
            "marker": {
             "colorbar": {
              "outlinewidth": 0,
              "ticks": ""
             }
            },
            "type": "scattercarpet"
           }
          ],
          "scattergeo": [
           {
            "marker": {
             "colorbar": {
              "outlinewidth": 0,
              "ticks": ""
             }
            },
            "type": "scattergeo"
           }
          ],
          "scattergl": [
           {
            "marker": {
             "colorbar": {
              "outlinewidth": 0,
              "ticks": ""
             }
            },
            "type": "scattergl"
           }
          ],
          "scattermapbox": [
           {
            "marker": {
             "colorbar": {
              "outlinewidth": 0,
              "ticks": ""
             }
            },
            "type": "scattermapbox"
           }
          ],
          "scatterpolar": [
           {
            "marker": {
             "colorbar": {
              "outlinewidth": 0,
              "ticks": ""
             }
            },
            "type": "scatterpolar"
           }
          ],
          "scatterpolargl": [
           {
            "marker": {
             "colorbar": {
              "outlinewidth": 0,
              "ticks": ""
             }
            },
            "type": "scatterpolargl"
           }
          ],
          "scatterternary": [
           {
            "marker": {
             "colorbar": {
              "outlinewidth": 0,
              "ticks": ""
             }
            },
            "type": "scatterternary"
           }
          ],
          "surface": [
           {
            "colorbar": {
             "outlinewidth": 0,
             "ticks": ""
            },
            "colorscale": [
             [
              0,
              "#0d0887"
             ],
             [
              0.1111111111111111,
              "#46039f"
             ],
             [
              0.2222222222222222,
              "#7201a8"
             ],
             [
              0.3333333333333333,
              "#9c179e"
             ],
             [
              0.4444444444444444,
              "#bd3786"
             ],
             [
              0.5555555555555556,
              "#d8576b"
             ],
             [
              0.6666666666666666,
              "#ed7953"
             ],
             [
              0.7777777777777778,
              "#fb9f3a"
             ],
             [
              0.8888888888888888,
              "#fdca26"
             ],
             [
              1,
              "#f0f921"
             ]
            ],
            "type": "surface"
           }
          ],
          "table": [
           {
            "cells": {
             "fill": {
              "color": "#EBF0F8"
             },
             "line": {
              "color": "white"
             }
            },
            "header": {
             "fill": {
              "color": "#C8D4E3"
             },
             "line": {
              "color": "white"
             }
            },
            "type": "table"
           }
          ]
         },
         "layout": {
          "annotationdefaults": {
           "arrowcolor": "#2a3f5f",
           "arrowhead": 0,
           "arrowwidth": 1
          },
          "autotypenumbers": "strict",
          "coloraxis": {
           "colorbar": {
            "outlinewidth": 0,
            "ticks": ""
           }
          },
          "colorscale": {
           "diverging": [
            [
             0,
             "#8e0152"
            ],
            [
             0.1,
             "#c51b7d"
            ],
            [
             0.2,
             "#de77ae"
            ],
            [
             0.3,
             "#f1b6da"
            ],
            [
             0.4,
             "#fde0ef"
            ],
            [
             0.5,
             "#f7f7f7"
            ],
            [
             0.6,
             "#e6f5d0"
            ],
            [
             0.7,
             "#b8e186"
            ],
            [
             0.8,
             "#7fbc41"
            ],
            [
             0.9,
             "#4d9221"
            ],
            [
             1,
             "#276419"
            ]
           ],
           "sequential": [
            [
             0,
             "#0d0887"
            ],
            [
             0.1111111111111111,
             "#46039f"
            ],
            [
             0.2222222222222222,
             "#7201a8"
            ],
            [
             0.3333333333333333,
             "#9c179e"
            ],
            [
             0.4444444444444444,
             "#bd3786"
            ],
            [
             0.5555555555555556,
             "#d8576b"
            ],
            [
             0.6666666666666666,
             "#ed7953"
            ],
            [
             0.7777777777777778,
             "#fb9f3a"
            ],
            [
             0.8888888888888888,
             "#fdca26"
            ],
            [
             1,
             "#f0f921"
            ]
           ],
           "sequentialminus": [
            [
             0,
             "#0d0887"
            ],
            [
             0.1111111111111111,
             "#46039f"
            ],
            [
             0.2222222222222222,
             "#7201a8"
            ],
            [
             0.3333333333333333,
             "#9c179e"
            ],
            [
             0.4444444444444444,
             "#bd3786"
            ],
            [
             0.5555555555555556,
             "#d8576b"
            ],
            [
             0.6666666666666666,
             "#ed7953"
            ],
            [
             0.7777777777777778,
             "#fb9f3a"
            ],
            [
             0.8888888888888888,
             "#fdca26"
            ],
            [
             1,
             "#f0f921"
            ]
           ]
          },
          "colorway": [
           "#636efa",
           "#EF553B",
           "#00cc96",
           "#ab63fa",
           "#FFA15A",
           "#19d3f3",
           "#FF6692",
           "#B6E880",
           "#FF97FF",
           "#FECB52"
          ],
          "font": {
           "color": "#2a3f5f"
          },
          "geo": {
           "bgcolor": "white",
           "lakecolor": "white",
           "landcolor": "#E5ECF6",
           "showlakes": true,
           "showland": true,
           "subunitcolor": "white"
          },
          "hoverlabel": {
           "align": "left"
          },
          "hovermode": "closest",
          "mapbox": {
           "style": "light"
          },
          "paper_bgcolor": "white",
          "plot_bgcolor": "#f5e6ca",
          "polar": {
           "angularaxis": {
            "gridcolor": "white",
            "linecolor": "white",
            "ticks": ""
           },
           "bgcolor": "#E5ECF6",
           "radialaxis": {
            "gridcolor": "white",
            "linecolor": "white",
            "ticks": ""
           }
          },
          "scene": {
           "xaxis": {
            "backgroundcolor": "#E5ECF6",
            "gridcolor": "white",
            "gridwidth": 2,
            "linecolor": "white",
            "showbackground": true,
            "ticks": "",
            "zerolinecolor": "white"
           },
           "yaxis": {
            "backgroundcolor": "#E5ECF6",
            "gridcolor": "white",
            "gridwidth": 2,
            "linecolor": "white",
            "showbackground": true,
            "ticks": "",
            "zerolinecolor": "white"
           },
           "zaxis": {
            "backgroundcolor": "#E5ECF6",
            "gridcolor": "white",
            "gridwidth": 2,
            "linecolor": "white",
            "showbackground": true,
            "ticks": "",
            "zerolinecolor": "white"
           }
          },
          "shapedefaults": {
           "line": {
            "color": "#2a3f5f"
           }
          },
          "ternary": {
           "aaxis": {
            "gridcolor": "white",
            "linecolor": "white",
            "ticks": ""
           },
           "baxis": {
            "gridcolor": "white",
            "linecolor": "white",
            "ticks": ""
           },
           "bgcolor": "#E5ECF6",
           "caxis": {
            "gridcolor": "white",
            "linecolor": "white",
            "ticks": ""
           }
          },
          "title": {
           "x": 0.05
          },
          "xaxis": {
           "automargin": true,
           "gridcolor": "white",
           "linecolor": "white",
           "ticks": "",
           "title": {
            "standoff": 15
           },
           "zerolinecolor": "white",
           "zerolinewidth": 2
          },
          "yaxis": {
           "automargin": true,
           "gridcolor": "white",
           "linecolor": "white",
           "ticks": "",
           "title": {
            "standoff": 15
           },
           "zerolinecolor": "white",
           "zerolinewidth": 2
          }
         }
        },
        "xaxis": {
         "anchor": "y",
         "domain": [
          0,
          1
         ],
         "title": {
          "text": "value"
         }
        },
        "yaxis": {
         "anchor": "x",
         "domain": [
          0,
          1
         ],
         "title": {
          "text": "Case_Rate"
         }
        }
       }
      },
      "text/html": [
       "<div>                            <div id=\"42484048-9e2a-4463-b22f-8aaa59c964a4\" class=\"plotly-graph-div\" style=\"height:525px; width:100%;\"></div>            <script type=\"text/javascript\">                require([\"plotly\"], function(Plotly) {                    window.PLOTLYENV=window.PLOTLYENV || {};                                    if (document.getElementById(\"42484048-9e2a-4463-b22f-8aaa59c964a4\")) {                    Plotly.newPlot(                        \"42484048-9e2a-4463-b22f-8aaa59c964a4\",                        [{\"hovertemplate\":\"variable=crime_rate_2020<br>value=%{x}<br>Case_Rate=%{marker.size}<extra></extra>\",\"legendgroup\":\"crime_rate_2020\",\"marker\":{\"color\":\"#636efa\",\"size\":[24956.0,30844.0,30600.0,25948.0,32738.0,17355.0,117436.0,21491.0,96251.0],\"sizemode\":\"area\",\"sizeref\":293.59,\"symbol\":\"circle\"},\"mode\":\"markers\",\"name\":\"crime_rate_2020\",\"orientation\":\"v\",\"showlegend\":true,\"x\":[0.328562164165277,0.2834451980180623,0.2574501001800705,0.24408350225077,0.2206153302541581,0.2089541443656878,0.2042845203008841,0.1740074841928685,0.1445405581850824],\"xaxis\":\"x\",\"y\":[24956.0,30844.0,30600.0,25948.0,32738.0,17355.0,117436.0,21491.0,96251.0],\"yaxis\":\"y\",\"type\":\"scatter\"},{\"hovertemplate\":\"<b>OLS trendline</b><br>Case_Rate = -303299 * value + 113802<br>R<sup>2</sup>=0.220199<br><br>variable=crime_rate_2020<br>value=%{x}<br>Case_Rate=%{y} <b>(trend)</b><extra></extra>\",\"legendgroup\":\"crime_rate_2020\",\"marker\":{\"color\":\"#636efa\",\"symbol\":\"circle\"},\"mode\":\"lines\",\"name\":\"crime_rate_2020\",\"showlegend\":false,\"x\":[0.1445405581850824,0.1740074841928685,0.2042845203008841,0.2089541443656878,0.2206153302541581,0.24408350225077,0.2574501001800705,0.2834451980180623,0.328562164165277],\"xaxis\":\"x\",\"y\":[69962.90429228579,61025.624617851114,51842.639621764545,50426.34882066117,46889.52656803488,39771.66104904466,35717.589580635904,27833.31079699089,14149.394652730858],\"yaxis\":\"y\",\"type\":\"scatter\"},{\"hovertemplate\":\"variable=crime_rate_2021<br>value=%{x}<br>Case_Rate=%{marker.size}<extra></extra>\",\"legendgroup\":\"crime_rate_2021\",\"marker\":{\"color\":\"#EF553B\",\"size\":[24956.0,30844.0,30600.0,25948.0,32738.0,17355.0,117436.0,21491.0,96251.0],\"sizemode\":\"area\",\"sizeref\":293.59,\"symbol\":\"circle\"},\"mode\":\"markers\",\"name\":\"crime_rate_2021\",\"orientation\":\"v\",\"showlegend\":true,\"x\":[0.3298886749025318,0.2841648590021692,0.3132582073247858,0.2632348956922243,0.2226356032226612,0.2350445249758709,0.221328012912482,0.1906478823084284,0.1413156256484747],\"xaxis\":\"x\",\"y\":[24956.0,30844.0,30600.0,25948.0,32738.0,17355.0,117436.0,21491.0,96251.0],\"yaxis\":\"y\",\"type\":\"scatter\"},{\"hovertemplate\":\"<b>OLS trendline</b><br>Case_Rate = -307420 * value + 119379<br>R<sup>2</sup>=0.257189<br><br>variable=crime_rate_2021<br>value=%{x}<br>Case_Rate=%{y} <b>(trend)</b><extra></extra>\",\"legendgroup\":\"crime_rate_2021\",\"marker\":{\"color\":\"#EF553B\",\"symbol\":\"circle\"},\"mode\":\"lines\",\"name\":\"crime_rate_2021\",\"showlegend\":false,\"x\":[0.1413156256484747,0.1906478823084284,0.221328012912482,0.2226356032226612,0.2350445249758709,0.2632348956922243,0.2841648590021692,0.3132582073247858,0.3298886749025318],\"xaxis\":\"x\",\"y\":[75935.56496161828,60769.864910941695,51338.193024049004,50936.21420175348,47121.46908359106,38455.198056329406,32020.918193191508,23077.054198240177,17964.523370285257],\"yaxis\":\"y\",\"type\":\"scatter\"}],                        {\"template\":{\"data\":{\"histogram2dcontour\":[{\"type\":\"histogram2dcontour\",\"colorbar\":{\"outlinewidth\":0,\"ticks\":\"\"},\"colorscale\":[[0.0,\"#0d0887\"],[0.1111111111111111,\"#46039f\"],[0.2222222222222222,\"#7201a8\"],[0.3333333333333333,\"#9c179e\"],[0.4444444444444444,\"#bd3786\"],[0.5555555555555556,\"#d8576b\"],[0.6666666666666666,\"#ed7953\"],[0.7777777777777778,\"#fb9f3a\"],[0.8888888888888888,\"#fdca26\"],[1.0,\"#f0f921\"]]}],\"choropleth\":[{\"type\":\"choropleth\",\"colorbar\":{\"outlinewidth\":0,\"ticks\":\"\"}}],\"histogram2d\":[{\"type\":\"histogram2d\",\"colorbar\":{\"outlinewidth\":0,\"ticks\":\"\"},\"colorscale\":[[0.0,\"#0d0887\"],[0.1111111111111111,\"#46039f\"],[0.2222222222222222,\"#7201a8\"],[0.3333333333333333,\"#9c179e\"],[0.4444444444444444,\"#bd3786\"],[0.5555555555555556,\"#d8576b\"],[0.6666666666666666,\"#ed7953\"],[0.7777777777777778,\"#fb9f3a\"],[0.8888888888888888,\"#fdca26\"],[1.0,\"#f0f921\"]]}],\"heatmap\":[{\"type\":\"heatmap\",\"colorbar\":{\"outlinewidth\":0,\"ticks\":\"\"},\"colorscale\":[[0.0,\"#0d0887\"],[0.1111111111111111,\"#46039f\"],[0.2222222222222222,\"#7201a8\"],[0.3333333333333333,\"#9c179e\"],[0.4444444444444444,\"#bd3786\"],[0.5555555555555556,\"#d8576b\"],[0.6666666666666666,\"#ed7953\"],[0.7777777777777778,\"#fb9f3a\"],[0.8888888888888888,\"#fdca26\"],[1.0,\"#f0f921\"]]}],\"heatmapgl\":[{\"type\":\"heatmapgl\",\"colorbar\":{\"outlinewidth\":0,\"ticks\":\"\"},\"colorscale\":[[0.0,\"#0d0887\"],[0.1111111111111111,\"#46039f\"],[0.2222222222222222,\"#7201a8\"],[0.3333333333333333,\"#9c179e\"],[0.4444444444444444,\"#bd3786\"],[0.5555555555555556,\"#d8576b\"],[0.6666666666666666,\"#ed7953\"],[0.7777777777777778,\"#fb9f3a\"],[0.8888888888888888,\"#fdca26\"],[1.0,\"#f0f921\"]]}],\"contourcarpet\":[{\"type\":\"contourcarpet\",\"colorbar\":{\"outlinewidth\":0,\"ticks\":\"\"}}],\"contour\":[{\"type\":\"contour\",\"colorbar\":{\"outlinewidth\":0,\"ticks\":\"\"},\"colorscale\":[[0.0,\"#0d0887\"],[0.1111111111111111,\"#46039f\"],[0.2222222222222222,\"#7201a8\"],[0.3333333333333333,\"#9c179e\"],[0.4444444444444444,\"#bd3786\"],[0.5555555555555556,\"#d8576b\"],[0.6666666666666666,\"#ed7953\"],[0.7777777777777778,\"#fb9f3a\"],[0.8888888888888888,\"#fdca26\"],[1.0,\"#f0f921\"]]}],\"surface\":[{\"type\":\"surface\",\"colorbar\":{\"outlinewidth\":0,\"ticks\":\"\"},\"colorscale\":[[0.0,\"#0d0887\"],[0.1111111111111111,\"#46039f\"],[0.2222222222222222,\"#7201a8\"],[0.3333333333333333,\"#9c179e\"],[0.4444444444444444,\"#bd3786\"],[0.5555555555555556,\"#d8576b\"],[0.6666666666666666,\"#ed7953\"],[0.7777777777777778,\"#fb9f3a\"],[0.8888888888888888,\"#fdca26\"],[1.0,\"#f0f921\"]]}],\"mesh3d\":[{\"type\":\"mesh3d\",\"colorbar\":{\"outlinewidth\":0,\"ticks\":\"\"}}],\"scatter\":[{\"fillpattern\":{\"fillmode\":\"overlay\",\"size\":10,\"solidity\":0.2},\"type\":\"scatter\"}],\"parcoords\":[{\"type\":\"parcoords\",\"line\":{\"colorbar\":{\"outlinewidth\":0,\"ticks\":\"\"}}}],\"scatterpolargl\":[{\"type\":\"scatterpolargl\",\"marker\":{\"colorbar\":{\"outlinewidth\":0,\"ticks\":\"\"}}}],\"bar\":[{\"error_x\":{\"color\":\"#2a3f5f\"},\"error_y\":{\"color\":\"#2a3f5f\"},\"marker\":{\"line\":{\"color\":\"#E5ECF6\",\"width\":0.5},\"pattern\":{\"fillmode\":\"overlay\",\"size\":10,\"solidity\":0.2}},\"type\":\"bar\"}],\"scattergeo\":[{\"type\":\"scattergeo\",\"marker\":{\"colorbar\":{\"outlinewidth\":0,\"ticks\":\"\"}}}],\"scatterpolar\":[{\"type\":\"scatterpolar\",\"marker\":{\"colorbar\":{\"outlinewidth\":0,\"ticks\":\"\"}}}],\"histogram\":[{\"marker\":{\"pattern\":{\"fillmode\":\"overlay\",\"size\":10,\"solidity\":0.2}},\"type\":\"histogram\"}],\"scattergl\":[{\"type\":\"scattergl\",\"marker\":{\"colorbar\":{\"outlinewidth\":0,\"ticks\":\"\"}}}],\"scatter3d\":[{\"type\":\"scatter3d\",\"line\":{\"colorbar\":{\"outlinewidth\":0,\"ticks\":\"\"}},\"marker\":{\"colorbar\":{\"outlinewidth\":0,\"ticks\":\"\"}}}],\"scattermapbox\":[{\"type\":\"scattermapbox\",\"marker\":{\"colorbar\":{\"outlinewidth\":0,\"ticks\":\"\"}}}],\"scatterternary\":[{\"type\":\"scatterternary\",\"marker\":{\"colorbar\":{\"outlinewidth\":0,\"ticks\":\"\"}}}],\"scattercarpet\":[{\"type\":\"scattercarpet\",\"marker\":{\"colorbar\":{\"outlinewidth\":0,\"ticks\":\"\"}}}],\"carpet\":[{\"aaxis\":{\"endlinecolor\":\"#2a3f5f\",\"gridcolor\":\"white\",\"linecolor\":\"white\",\"minorgridcolor\":\"white\",\"startlinecolor\":\"#2a3f5f\"},\"baxis\":{\"endlinecolor\":\"#2a3f5f\",\"gridcolor\":\"white\",\"linecolor\":\"white\",\"minorgridcolor\":\"white\",\"startlinecolor\":\"#2a3f5f\"},\"type\":\"carpet\"}],\"table\":[{\"cells\":{\"fill\":{\"color\":\"#EBF0F8\"},\"line\":{\"color\":\"white\"}},\"header\":{\"fill\":{\"color\":\"#C8D4E3\"},\"line\":{\"color\":\"white\"}},\"type\":\"table\"}],\"barpolar\":[{\"marker\":{\"line\":{\"color\":\"#E5ECF6\",\"width\":0.5},\"pattern\":{\"fillmode\":\"overlay\",\"size\":10,\"solidity\":0.2}},\"type\":\"barpolar\"}],\"pie\":[{\"automargin\":true,\"type\":\"pie\"}]},\"layout\":{\"autotypenumbers\":\"strict\",\"colorway\":[\"#636efa\",\"#EF553B\",\"#00cc96\",\"#ab63fa\",\"#FFA15A\",\"#19d3f3\",\"#FF6692\",\"#B6E880\",\"#FF97FF\",\"#FECB52\"],\"font\":{\"color\":\"#2a3f5f\"},\"hovermode\":\"closest\",\"hoverlabel\":{\"align\":\"left\"},\"paper_bgcolor\":\"white\",\"plot_bgcolor\":\"#f5e6ca\",\"polar\":{\"bgcolor\":\"#E5ECF6\",\"angularaxis\":{\"gridcolor\":\"white\",\"linecolor\":\"white\",\"ticks\":\"\"},\"radialaxis\":{\"gridcolor\":\"white\",\"linecolor\":\"white\",\"ticks\":\"\"}},\"ternary\":{\"bgcolor\":\"#E5ECF6\",\"aaxis\":{\"gridcolor\":\"white\",\"linecolor\":\"white\",\"ticks\":\"\"},\"baxis\":{\"gridcolor\":\"white\",\"linecolor\":\"white\",\"ticks\":\"\"},\"caxis\":{\"gridcolor\":\"white\",\"linecolor\":\"white\",\"ticks\":\"\"}},\"coloraxis\":{\"colorbar\":{\"outlinewidth\":0,\"ticks\":\"\"}},\"colorscale\":{\"sequential\":[[0.0,\"#0d0887\"],[0.1111111111111111,\"#46039f\"],[0.2222222222222222,\"#7201a8\"],[0.3333333333333333,\"#9c179e\"],[0.4444444444444444,\"#bd3786\"],[0.5555555555555556,\"#d8576b\"],[0.6666666666666666,\"#ed7953\"],[0.7777777777777778,\"#fb9f3a\"],[0.8888888888888888,\"#fdca26\"],[1.0,\"#f0f921\"]],\"sequentialminus\":[[0.0,\"#0d0887\"],[0.1111111111111111,\"#46039f\"],[0.2222222222222222,\"#7201a8\"],[0.3333333333333333,\"#9c179e\"],[0.4444444444444444,\"#bd3786\"],[0.5555555555555556,\"#d8576b\"],[0.6666666666666666,\"#ed7953\"],[0.7777777777777778,\"#fb9f3a\"],[0.8888888888888888,\"#fdca26\"],[1.0,\"#f0f921\"]],\"diverging\":[[0,\"#8e0152\"],[0.1,\"#c51b7d\"],[0.2,\"#de77ae\"],[0.3,\"#f1b6da\"],[0.4,\"#fde0ef\"],[0.5,\"#f7f7f7\"],[0.6,\"#e6f5d0\"],[0.7,\"#b8e186\"],[0.8,\"#7fbc41\"],[0.9,\"#4d9221\"],[1,\"#276419\"]]},\"xaxis\":{\"gridcolor\":\"white\",\"linecolor\":\"white\",\"ticks\":\"\",\"title\":{\"standoff\":15},\"zerolinecolor\":\"white\",\"automargin\":true,\"zerolinewidth\":2},\"yaxis\":{\"gridcolor\":\"white\",\"linecolor\":\"white\",\"ticks\":\"\",\"title\":{\"standoff\":15},\"zerolinecolor\":\"white\",\"automargin\":true,\"zerolinewidth\":2},\"scene\":{\"xaxis\":{\"backgroundcolor\":\"#E5ECF6\",\"gridcolor\":\"white\",\"linecolor\":\"white\",\"showbackground\":true,\"ticks\":\"\",\"zerolinecolor\":\"white\",\"gridwidth\":2},\"yaxis\":{\"backgroundcolor\":\"#E5ECF6\",\"gridcolor\":\"white\",\"linecolor\":\"white\",\"showbackground\":true,\"ticks\":\"\",\"zerolinecolor\":\"white\",\"gridwidth\":2},\"zaxis\":{\"backgroundcolor\":\"#E5ECF6\",\"gridcolor\":\"white\",\"linecolor\":\"white\",\"showbackground\":true,\"ticks\":\"\",\"zerolinecolor\":\"white\",\"gridwidth\":2}},\"shapedefaults\":{\"line\":{\"color\":\"#2a3f5f\"}},\"annotationdefaults\":{\"arrowcolor\":\"#2a3f5f\",\"arrowhead\":0,\"arrowwidth\":1},\"geo\":{\"bgcolor\":\"white\",\"landcolor\":\"#E5ECF6\",\"subunitcolor\":\"white\",\"showland\":true,\"showlakes\":true,\"lakecolor\":\"white\"},\"title\":{\"x\":0.05},\"mapbox\":{\"style\":\"light\"}}},\"xaxis\":{\"anchor\":\"y\",\"domain\":[0.0,1.0],\"title\":{\"text\":\"value\"}},\"yaxis\":{\"anchor\":\"x\",\"domain\":[0.0,1.0],\"title\":{\"text\":\"Case_Rate\"}},\"legend\":{\"title\":{\"text\":\"variable\"},\"tracegroupgap\":0,\"itemsizing\":\"constant\"},\"margin\":{\"t\":60}},                        {\"responsive\": true}                    ).then(function(){\n",
       "                            \n",
       "var gd = document.getElementById('42484048-9e2a-4463-b22f-8aaa59c964a4');\n",
       "var x = new MutationObserver(function (mutations, observer) {{\n",
       "        var display = window.getComputedStyle(gd).display;\n",
       "        if (!display || display === 'none') {{\n",
       "            console.log([gd, 'removed!']);\n",
       "            Plotly.purge(gd);\n",
       "            observer.disconnect();\n",
       "        }}\n",
       "}});\n",
       "\n",
       "// Listen for the removal of the full notebook cells\n",
       "var notebookContainer = gd.closest('#notebook-container');\n",
       "if (notebookContainer) {{\n",
       "    x.observe(notebookContainer, {childList: true});\n",
       "}}\n",
       "\n",
       "// Listen for the clearing of the current output cell\n",
       "var outputEl = gd.closest('.output');\n",
       "if (outputEl) {{\n",
       "    x.observe(outputEl, {childList: true});\n",
       "}}\n",
       "\n",
       "                        })                };                });            </script>        </div>"
      ]
     },
     "metadata": {},
     "output_type": "display_data"
    }
   ],
   "source": [
    "px.scatter(crime_rate,\n",
    "          x=['crime_rate_2020',\t'crime_rate_2021'],\n",
    "          y='Case_Rate',\n",
    "          trendline='ols',\n",
    "          size='Case_Rate')\\\n",
    ".update_layout(template=dict(layout=dict(plot_bgcolor='#f5e6ca')))\n",
    "\n",
    "#With the case rate increases, the crime rate decreases"
   ]
  },
  {
   "cell_type": "code",
   "execution_count": null,
   "id": "6cfac2cd",
   "metadata": {},
   "outputs": [],
   "source": []
  }
 ],
 "metadata": {
  "kernelspec": {
   "display_name": "Python 3 (ipykernel)",
   "language": "python",
   "name": "python3"
  },
  "language_info": {
   "codemirror_mode": {
    "name": "ipython",
    "version": 3
   },
   "file_extension": ".py",
   "mimetype": "text/x-python",
   "name": "python",
   "nbconvert_exporter": "python",
   "pygments_lexer": "ipython3",
   "version": "3.9.13"
  },
  "toc": {
   "base_numbering": 1,
   "nav_menu": {},
   "number_sections": true,
   "sideBar": true,
   "skip_h1_title": false,
   "title_cell": "Table of Contents",
   "title_sidebar": "Contents",
   "toc_cell": false,
   "toc_position": {},
   "toc_section_display": true,
   "toc_window_display": false
  }
 },
 "nbformat": 4,
 "nbformat_minor": 5
}
