{
 "cells": [
  {
   "cell_type": "code",
   "execution_count": 1,
   "id": "3ae8df33",
   "metadata": {},
   "outputs": [],
   "source": [
    "import pandas as pd\n",
    "import plotly.graph_objects as go\n",
    "import plotly.express as px\n",
    "import matplotlib.pyplot as plt\n",
    "import seaborn as sns\n",
    "import warnings\n",
    "import numpy as np\n",
    "warnings.filterwarnings(\"ignore\")\n",
    "plt.style.use('ggplot')\n",
    "pd.set_option('display.max_columns', None)\n",
    "import plotly.graph_objects as go\n",
    "import random\n",
    "\n",
    "from dash import Dash, html, dcc\n",
    "from jupyter_dash import JupyterDash\n",
    "from dash.dependencies import Output, Input\n",
    "from dash.exceptions import PreventUpdate"
   ]
  },
  {
   "cell_type": "code",
   "execution_count": 128,
   "id": "c9a24477",
   "metadata": {
    "scrolled": false
   },
   "outputs": [],
   "source": [
    "data = pd.read_csv('Median_Income_and_AMI_(census_tract).csv')\n",
    "\n",
    "data.isna().sum()\n",
    "\n",
    "data.drop(data.loc[data['med_hh_income'].isna()].index, inplace=True)"
   ]
  },
  {
   "cell_type": "code",
   "execution_count": 129,
   "id": "8e3b5ffc",
   "metadata": {},
   "outputs": [
    {
     "data": {
      "text/plain": [
       "array(['Los Angeles - Wholesale District',\n",
       "       'Los Angeles - Lincoln Heights', 'Los Angeles - El Sereno',\n",
       "       'Los Angeles - Highland Park', 'Los Angeles - University Hills',\n",
       "       'Los Angeles - Boyle Heights', 'City of Pomona',\n",
       "       'City of Diamond Bar', 'Unincorporated - Rowland Heights',\n",
       "       'City of Industry', 'City of Walnut', 'Unincorporated - Covina',\n",
       "       'City of Covina', 'City of San Dimas',\n",
       "       'Unincorporated - Covina (Charter Oak)', 'City of Glendora',\n",
       "       'Unincorporated - Azusa', 'City of Azusa', 'City of Norwalk',\n",
       "       'City of Artesia', 'City of Lakewood', 'City of Hawaiian Gardens',\n",
       "       'City of Long Beach', 'City of Cerritos',\n",
       "       'Los Angeles - Little Tokyo', 'Los Angeles - Chinatown',\n",
       "       'Los Angeles - Downtown', 'Los Angeles - Temple-Beaudry',\n",
       "       'Los Angeles - Historic Filipinotown', 'Los Angeles - Westlake',\n",
       "       'City of Irwindale', 'City of Baldwin Park', 'City of West Covina',\n",
       "       'City of Signal Hill', 'Los Angeles - Pico-Union',\n",
       "       'Los Angeles - Hancock Park', 'Los Angeles - Wilshire Center',\n",
       "       'Los Angeles - Little Bangladesh', 'Los Angeles - Koreatown',\n",
       "       'Unincorporated - Bassett', 'City of La Puente',\n",
       "       'Unincorporated - West Puente Valley', 'Unincorporated - Valinda',\n",
       "       'Unincorporated - San Jose Hills',\n",
       "       'Unincorporated - Avocado Heights',\n",
       "       'Unincorporated - North Whittier',\n",
       "       'Unincorporated - Hacienda Heights', 'Los Angeles - Tujunga',\n",
       "       'Los Angeles - Sun Valley', 'Los Angeles - Sunland',\n",
       "       'Los Angeles - Lakeview Terrace', 'Los Angeles - Shadow Hills',\n",
       "       'Los Angeles - Pacoima', 'Los Angeles - Country Club Park',\n",
       "       'Los Angeles - Melrose', 'Los Angeles - Park La Brea',\n",
       "       'Los Angeles - Carthay', 'Los Angeles - Miracle Mile',\n",
       "       'Los Angeles - South Carthay', 'Los Angeles - Crestview',\n",
       "       'Los Angeles - Mid-city', 'City of La Verne', 'City of Duarte',\n",
       "       'City of Bradbury', 'City of Monrovia', 'City of Arcadia',\n",
       "       'City of Sierra Madre', 'City of Downey', 'City of Avalon',\n",
       "       'Unincorporated - Athens-Westmont', 'City of Inglewood',\n",
       "       'Unincorporated - Lennox', 'Unincorporated - Kagel/Lopez Canyons',\n",
       "       'Los Angeles - Sylmar', 'Los Angeles - Granada Hills',\n",
       "       'Los Angeles - Victoria Park', 'Los Angeles - St Elmo Village',\n",
       "       'Los Angeles - Lafayette Square',\n",
       "       'Los Angeles - Cloverdale/Cochran', 'Los Angeles - Longwood',\n",
       "       'Los Angeles - Wellington Square', 'Los Angeles - West Adams',\n",
       "       'Los Angeles - Jefferson Park', 'Los Angeles - Crenshaw District',\n",
       "       'Los Angeles - Exposition', 'Los Angeles - Alsace',\n",
       "       'Los Angeles - Baldwin Hills', 'Los Angeles - Harvard Heights',\n",
       "       'Los Angeles - University Park', 'Unincorporated - Duarte',\n",
       "       'Unincorporated - Monrovia', 'Unincorporated - Arcadia',\n",
       "       'City of Temple City', 'City of Rosemead', 'City of El Monte',\n",
       "       'City of South El Monte', 'City of Hawthorne',\n",
       "       'Unincorporated - Del Aire', 'Unincorporated - Wiseburn',\n",
       "       'Unincorporated - Hawthorne', 'City of Gardena',\n",
       "       'Los Angeles - Porter Ranch', 'Los Angeles - Mission Hills',\n",
       "       'Los Angeles - North Hills', 'Los Angeles - Northridge',\n",
       "       'Los Angeles - Chatsworth', 'Unincorporated - West Chatsworth',\n",
       "       'Los Angeles - West Hills', 'Los Angeles - Canoga Park',\n",
       "       'Unincorporated - Lake Manor', 'Los Angeles - Exposition Park',\n",
       "       'Los Angeles - Adams-Normandie', 'Los Angeles - Central',\n",
       "       'City of Manhattan Beach', 'Los Angeles - Vernon Central',\n",
       "       'Los Angeles - South Park', 'Unincorporated - East Pasadena',\n",
       "       'City of Pasadena', 'Unincorporated - Altadena',\n",
       "       'City of La Canada Flintridge',\n",
       "       'Unincorporated - El Camino Village', 'City of Lawndale',\n",
       "       'Unincorporated - La Rambla', 'City of El Segundo',\n",
       "       'City of Redondo Beach', 'City of Hermosa Beach',\n",
       "       'Los Angeles - Winnetka', 'Los Angeles - Arleta',\n",
       "       'Los Angeles - Panorama City', 'Los Angeles - West Vernon',\n",
       "       'Los Angeles - Vermont Square', 'Los Angeles - Leimert Park',\n",
       "       'Los Angeles - Hyde Park', 'Los Angeles - View Heights',\n",
       "       'Unincorporated - San Pasqual', 'City of San Marino',\n",
       "       'Unincorporated - Northeast San Gabriel', 'City of San Gabriel',\n",
       "       'City of Alhambra', 'City of South Pasadena', 'City of Torrance',\n",
       "       'City of Lomita', 'City of Rolling Hills Estates',\n",
       "       'City of Palos Verdes Estates', 'Los Angeles - North Hollywood',\n",
       "       'Los Angeles - Harvard Park', 'Los Angeles - Vermont Knolls',\n",
       "       'Los Angeles - Manchester Square', 'Los Angeles - Gramercy Place',\n",
       "       'Los Angeles - Vermont Vista', 'Los Angeles - Florence-Firestone',\n",
       "       'Los Angeles - Green Meadows', 'City of Monterey Park',\n",
       "       'Unincorporated - South San Gabriel', 'City of Montebello',\n",
       "       'City of La Habra Heights', 'City of Whittier',\n",
       "       'Unincorporated - Whittier', 'City of Rancho Palos Verdes',\n",
       "       'City of Rolling Hills', 'City of West Hollywood',\n",
       "       'City of Beverly Hills', 'City of Santa Monica',\n",
       "       'Los Angeles - Valley Glen', 'Los Angeles - Van Nuys',\n",
       "       'Los Angeles - Valley Village', 'Los Angeles - Sherman Oaks',\n",
       "       'Los Angeles - Toluca Lake', 'Los Angeles - Toluca Woods',\n",
       "       'Los Angeles - Century Palms/Cove',\n",
       "       'Los Angeles - Figueroa Park Square', 'Los Angeles - Watts',\n",
       "       'Los Angeles - Beverly Crest', 'Los Angeles - Bel Air',\n",
       "       'Los Angeles - Brentwood', 'Los Angeles - Mandeville Canyon',\n",
       "       'Los Angeles - Pacific Palisades',\n",
       "       'Los Angeles - Palisades Highlands', 'City of Pico Rivera',\n",
       "       'Unincorporated - West Whittier/Los Nietos',\n",
       "       'Unincorporated - South Whittier', 'City of Santa Fe Springs',\n",
       "       'City of Culver City', 'Unincorporated - Marina del Rey',\n",
       "       'Unincorporated - Ladera Heights',\n",
       "       'Unincorporated - View Park/Windsor Hills', 'City of Calabasas',\n",
       "       'Unincorporated - Santa Monica Mountains', 'City of Agoura Hills',\n",
       "       'City of Westlake Village', 'Unincorporated - Elizabeth Lake',\n",
       "       'City of Malibu', 'City of Palmdale', 'Unincorporated - Hi Vista',\n",
       "       'Unincorporated - Lake Los Angeles', 'City of Lancaster',\n",
       "       'Los Angeles - Lake Balboa', 'Los Angeles - Reseda',\n",
       "       'Los Angeles - Reseda Ranch', 'Los Angeles - Westwood',\n",
       "       'Los Angeles - Century City', 'Los Angeles - West Los Angeles',\n",
       "       'Los Angeles - Rancho Park', 'Los Angeles - Cheviot Hills',\n",
       "       'Los Angeles - Beverlywood', 'City of La Mirada',\n",
       "       'Unincorporated - East Whittier',\n",
       "       'Unincorporated - East La Mirada',\n",
       "       'Unincorporated - East Los Angeles',\n",
       "       'Unincorporated - North Lancaster', 'Unincorporated - Quartz Hill',\n",
       "       'Unincorporated - West Antelope Valley',\n",
       "       'Unincorporated - Leona Valley', 'Los Angeles - Woodland Hills',\n",
       "       'Los Angeles - Cadillac-Corning', 'Los Angeles - Reynier Village',\n",
       "       'Los Angeles - Palms', 'Los Angeles - Regent Square',\n",
       "       'Los Angeles - Faircrest Heights', 'Los Angeles - Mar Vista',\n",
       "       'Los Angeles - Venice', 'City of Commerce',\n",
       "       'City of Huntington Park', 'Unincorporated - Florence-Firestone',\n",
       "       'Los Angeles - Westchester', 'City of Maywood',\n",
       "       'Unincorporated - Roosevelt',\n",
       "       'Unincorporated - Littlerock/Pearblossom',\n",
       "       'Unincorporated - White Fence Farms', 'Unincorporated - Anaverde',\n",
       "       'Los Angeles - Harbor City',\n",
       "       'Unincorporated - Southeast Antelope Valley',\n",
       "       'Unincorporated - Acton', 'City of Santa Clarita',\n",
       "       'Unincorporated - Agua Dulce', 'Los Angeles - Encino',\n",
       "       'Los Angeles - Tarzana', 'Los Angeles - Marina Peninsula',\n",
       "       'Los Angeles - Del Rey', 'Los Angeles - Playa Vista',\n",
       "       'Los Angeles - Playa Del Rey', 'Los Angeles - Harbor Gateway',\n",
       "       'City of Bell', 'City of Bell Gardens', 'City of Cudahy',\n",
       "       'Unincorporated - Walnut Park', 'City of South Gate',\n",
       "       'Unincorporated - Angeles National Forest',\n",
       "       'Unincorporated - Llano', 'Unincorporated - Palmdale',\n",
       "       'Unincorporated - Saugus/Canyon Country',\n",
       "       'Unincorporated - San Francisquito Canyon/Bouquet Canyon',\n",
       "       'Unincorporated - Castaic', 'Unincorporated - Val Verde',\n",
       "       'Los Angeles - Studio City', 'Los Angeles - Hollywood Hills',\n",
       "       'Los Angeles - Eagle Rock', 'Los Angeles - Harbor Pines',\n",
       "       'Los Angeles - Wilmington', 'Los Angeles - San Pedro',\n",
       "       'Unincorporated - La Crescenta-Montrose', 'City of Lynwood',\n",
       "       'Unincorporated - Willowbrook', 'Unincorporated - Athens Village',\n",
       "       'City of Carson',\n",
       "       'Unincorporated - Rosewood/West Rancho Dominguez',\n",
       "       'City of Compton', 'Unincorporated - Twin Lakes/Oat Mountain',\n",
       "       'Unincorporated - Stevenson Ranch', 'Los Angeles - Elysian Park',\n",
       "       'City of Vernon', 'Unincorporated - West LA',\n",
       "       'Los Angeles - Mt. Washington', 'Los Angeles - Elysian Valley',\n",
       "       'Los Angeles - Glassell Park', 'Los Angeles - Atwater Village',\n",
       "       'Los Angeles - Silverlake', 'Los Angeles - Los Feliz',\n",
       "       'Los Angeles - Hollywood', 'City of Glendale',\n",
       "       'Unincorporated - East Rancho Dominguez',\n",
       "       'Unincorporated - Rancho Dominguez',\n",
       "       'Unincorporated - West Carson', 'Los Angeles - Thai Town',\n",
       "       'Los Angeles - Little Armenia', 'Los Angeles - East Hollywood',\n",
       "       'City of Burbank', 'City of San Fernando', 'City of Claremont',\n",
       "       'Los Angeles - Echo Park', 'Los Angeles - Angelino Heights',\n",
       "       'City of Bellflower', 'City of Paramount'], dtype=object)"
      ]
     },
     "execution_count": 129,
     "metadata": {},
     "output_type": "execute_result"
    }
   ],
   "source": [
    "data.csa.unique()"
   ]
  },
  {
   "cell_type": "code",
   "execution_count": 130,
   "id": "eae5a1a0",
   "metadata": {},
   "outputs": [
    {
     "data": {
      "text/plain": [
       "array(['Los Angeles - Central', 'Los Angeles - Vernon Central',\n",
       "       'Los Angeles - Mission Hills',\n",
       "       'Unincorporated - Northeast San Gabriel',\n",
       "       'Los Angeles - Harbor City', 'Los Angeles - Harbor Gateway',\n",
       "       'Los Angeles - Harbor Pines', 'Los Angeles - Van Nuys',\n",
       "       'Unincorporated - West LA', 'Los Angeles - Wilshire Center',\n",
       "       'Los Angeles - Pacific Palisades',\n",
       "       'Unincorporated - Southeast Antelope Valley',\n",
       "       'Los Angeles - North Hollywood', 'City of West Hollywood',\n",
       "       'Los Angeles - Hollywood Hills', 'Los Angeles - Hollywood',\n",
       "       'Los Angeles - East Hollywood'], dtype=object)"
      ]
     },
     "execution_count": 130,
     "metadata": {},
     "output_type": "execute_result"
    }
   ],
   "source": [
    "area = pd.read_csv('zip.csv').drop('Unnamed: 0', axis=1)\n",
    "\n",
    "filtered_data = pd.DataFrame()\n",
    "\n",
    "for x in area['AREA NAME']:\n",
    "    df=data.loc[data['csa'].str.contains(x)]\n",
    "    filtered_data = pd.concat([filtered_data, df])\n",
    "\n",
    "\n",
    "filtered_data['csa'].unique()"
   ]
  },
  {
   "cell_type": "code",
   "execution_count": 131,
   "id": "1aefa3d9",
   "metadata": {},
   "outputs": [],
   "source": [
    "dfm = pd.concat(\n",
    "    [filtered_data,\n",
    "    data.loc[data['csa'] == 'Los Angeles - Woodland Hills'],\n",
    "    data.loc[data['csa'] == 'Los Angeles - Sunland'],\n",
    "    data.loc[data['csa'] == 'Los Angeles - Canoga Park'],\n",
    "    data.loc[data['csa'] == 'Los Angeles - San Pedro'],\n",
    "    data.loc[data['csa'] == 'Los Angeles - Mar Vista']\n",
    "    ])\n",
    "\n",
    "dfm['city']=dfm.csa.str.split('-', expand=True)[1]\n",
    "dfm = dfm.loc[:, ['city', 'med_hh_income']]    \n",
    "dfm = dfm.groupby('city')['med_hh_income'].mean().reset_index()\n",
    "\n"
   ]
  },
  {
   "cell_type": "code",
   "execution_count": 132,
   "id": "1472bc1d",
   "metadata": {},
   "outputs": [],
   "source": [
    "dfm.loc[0, 'city'] = 'West Valley'\n",
    "dfm.loc[2, 'city'] = 'E Hollywood'\n",
    "dfm.loc[3, 'city'] = 'Harbor'\n",
    "dfm.loc[4, 'city'] = 'Harbor'\n",
    "dfm.loc[5, 'city'] = 'Harbor'\n",
    "dfm.loc[8, 'city'] = 'Pacific'\n",
    "dfm.loc[9, 'city'] = 'Mission'\n",
    "dfm.loc[10, 'city'] = 'N Hollywood'\n",
    "dfm.loc[15, 'city'] = 'Foothill'\n",
    "dfm.loc[19, 'city'] = 'Wilshire'\n",
    "dfm.loc[20, 'city'] = 'Topanga'"
   ]
  },
  {
   "cell_type": "code",
   "execution_count": 133,
   "id": "da6f97a0",
   "metadata": {},
   "outputs": [],
   "source": [
    "dfm = dfm.drop([7, 11, 12, 14, 17, 2, 10, 13]).groupby('city')['med_hh_income'].mean().reset_index()"
   ]
  },
  {
   "cell_type": "code",
   "execution_count": 134,
   "id": "fdc39ca4",
   "metadata": {},
   "outputs": [],
   "source": [
    "dfm.city = dfm.city.str.replace(' ', '')\n",
    "dfm.rename(columns={'city':'area_name'}, inplace=True)"
   ]
  },
  {
   "cell_type": "code",
   "execution_count": null,
   "id": "095e47f3",
   "metadata": {},
   "outputs": [],
   "source": []
  },
  {
   "cell_type": "code",
   "execution_count": 135,
   "id": "d4c14587",
   "metadata": {},
   "outputs": [],
   "source": [
    "crime_cnt = pd.read_csv('crim cnt in 2020_2021.csv').drop(['Unnamed: 0'], axis=1)"
   ]
  },
  {
   "cell_type": "code",
   "execution_count": 138,
   "id": "33ddcecb",
   "metadata": {},
   "outputs": [
    {
     "data": {
      "text/html": [
       "<div>\n",
       "<style scoped>\n",
       "    .dataframe tbody tr th:only-of-type {\n",
       "        vertical-align: middle;\n",
       "    }\n",
       "\n",
       "    .dataframe tbody tr th {\n",
       "        vertical-align: top;\n",
       "    }\n",
       "\n",
       "    .dataframe thead th {\n",
       "        text-align: right;\n",
       "    }\n",
       "</style>\n",
       "<table border=\"1\" class=\"dataframe\">\n",
       "  <thead>\n",
       "    <tr style=\"text-align: right;\">\n",
       "      <th></th>\n",
       "      <th>area_name</th>\n",
       "      <th>crime_2020</th>\n",
       "      <th>crime_2021</th>\n",
       "      <th>med_hh_income</th>\n",
       "    </tr>\n",
       "  </thead>\n",
       "  <tbody>\n",
       "    <tr>\n",
       "      <th>0</th>\n",
       "      <td>Central</td>\n",
       "      <td>11586</td>\n",
       "      <td>13145</td>\n",
       "      <td>45796.777778</td>\n",
       "    </tr>\n",
       "    <tr>\n",
       "      <th>1</th>\n",
       "      <td>Wilshire</td>\n",
       "      <td>9272</td>\n",
       "      <td>9716</td>\n",
       "      <td>46770.666667</td>\n",
       "    </tr>\n",
       "    <tr>\n",
       "      <th>2</th>\n",
       "      <td>Hollywood</td>\n",
       "      <td>10140</td>\n",
       "      <td>12077</td>\n",
       "      <td>68935.304348</td>\n",
       "    </tr>\n",
       "    <tr>\n",
       "      <th>3</th>\n",
       "      <td>Pacific</td>\n",
       "      <td>11556</td>\n",
       "      <td>12907</td>\n",
       "      <td>90890.250000</td>\n",
       "    </tr>\n",
       "    <tr>\n",
       "      <th>4</th>\n",
       "      <td>Harbor</td>\n",
       "      <td>8856</td>\n",
       "      <td>8853</td>\n",
       "      <td>78880.513889</td>\n",
       "    </tr>\n",
       "    <tr>\n",
       "      <th>5</th>\n",
       "      <td>Foothill</td>\n",
       "      <td>7093</td>\n",
       "      <td>7023</td>\n",
       "      <td>93109.833333</td>\n",
       "    </tr>\n",
       "    <tr>\n",
       "      <th>6</th>\n",
       "      <td>Mission</td>\n",
       "      <td>8458</td>\n",
       "      <td>8208</td>\n",
       "      <td>76706.000000</td>\n",
       "    </tr>\n",
       "    <tr>\n",
       "      <th>7</th>\n",
       "      <td>Topanga</td>\n",
       "      <td>8091</td>\n",
       "      <td>8566</td>\n",
       "      <td>110807.000000</td>\n",
       "    </tr>\n",
       "  </tbody>\n",
       "</table>\n",
       "</div>"
      ],
      "text/plain": [
       "   area_name  crime_2020  crime_2021  med_hh_income\n",
       "0    Central       11586       13145   45796.777778\n",
       "1   Wilshire        9272        9716   46770.666667\n",
       "2  Hollywood       10140       12077   68935.304348\n",
       "3    Pacific       11556       12907   90890.250000\n",
       "4     Harbor        8856        8853   78880.513889\n",
       "5   Foothill        7093        7023   93109.833333\n",
       "6    Mission        8458        8208   76706.000000\n",
       "7    Topanga        8091        8566  110807.000000"
      ]
     },
     "execution_count": 138,
     "metadata": {},
     "output_type": "execute_result"
    }
   ],
   "source": [
    "df = pd.merge(crime_cnt, dfm, on='area_name')\n",
    "df"
   ]
  },
  {
   "cell_type": "code",
   "execution_count": 139,
   "id": "3cc83989",
   "metadata": {},
   "outputs": [
    {
     "data": {
      "text/html": [
       "<div>\n",
       "<style scoped>\n",
       "    .dataframe tbody tr th:only-of-type {\n",
       "        vertical-align: middle;\n",
       "    }\n",
       "\n",
       "    .dataframe tbody tr th {\n",
       "        vertical-align: top;\n",
       "    }\n",
       "\n",
       "    .dataframe thead th {\n",
       "        text-align: right;\n",
       "    }\n",
       "</style>\n",
       "<table border=\"1\" class=\"dataframe\">\n",
       "  <thead>\n",
       "    <tr style=\"text-align: right;\">\n",
       "      <th></th>\n",
       "      <th>crime_2020</th>\n",
       "      <th>crime_2021</th>\n",
       "      <th>med_hh_income</th>\n",
       "    </tr>\n",
       "  </thead>\n",
       "  <tbody>\n",
       "    <tr>\n",
       "      <th>crime_2020</th>\n",
       "      <td>1.000000</td>\n",
       "      <td>0.978228</td>\n",
       "      <td>-0.482280</td>\n",
       "    </tr>\n",
       "    <tr>\n",
       "      <th>crime_2021</th>\n",
       "      <td>0.978228</td>\n",
       "      <td>1.000000</td>\n",
       "      <td>-0.444948</td>\n",
       "    </tr>\n",
       "    <tr>\n",
       "      <th>med_hh_income</th>\n",
       "      <td>-0.482280</td>\n",
       "      <td>-0.444948</td>\n",
       "      <td>1.000000</td>\n",
       "    </tr>\n",
       "  </tbody>\n",
       "</table>\n",
       "</div>"
      ],
      "text/plain": [
       "               crime_2020  crime_2021  med_hh_income\n",
       "crime_2020       1.000000    0.978228      -0.482280\n",
       "crime_2021       0.978228    1.000000      -0.444948\n",
       "med_hh_income   -0.482280   -0.444948       1.000000"
      ]
     },
     "execution_count": 139,
     "metadata": {},
     "output_type": "execute_result"
    }
   ],
   "source": [
    "df.corr()"
   ]
  },
  {
   "cell_type": "code",
   "execution_count": 159,
   "id": "cba77c44",
   "metadata": {},
   "outputs": [
    {
     "data": {
      "application/vnd.plotly.v1+json": {
       "config": {
        "plotlyServerURL": "https://plot.ly"
       },
       "data": [
        {
         "hovertemplate": "variable=crime_2020<br>med_hh_income=%{marker.size}<br>value=%{y}<extra></extra>",
         "legendgroup": "crime_2020",
         "marker": {
          "color": "#636efa",
          "size": [
           45796.77777777778,
           46770.666666666664,
           68935.30434782608,
           90890.25,
           78880.51388888889,
           93109.83333333333,
           76706,
           110807
          ],
          "sizemode": "area",
          "sizeref": 277.0175,
          "symbol": "circle"
         },
         "mode": "markers",
         "name": "crime_2020",
         "orientation": "v",
         "showlegend": true,
         "type": "scatter",
         "x": [
          45796.77777777778,
          46770.666666666664,
          68935.30434782608,
          90890.25,
          78880.51388888889,
          93109.83333333333,
          76706,
          110807
         ],
         "xaxis": "x",
         "y": [
          11586,
          9272,
          10140,
          11556,
          8856,
          7093,
          8458,
          8091
         ],
         "yaxis": "y"
        },
        {
         "hovertemplate": "<b>OLS trendline</b><br>value = -0.0345417 * med_hh_income + 12023.5<br>R<sup>2</sup>=0.232594<br><br>variable=crime_2020<br>med_hh_income=%{x}<br>value=%{y} <b>(trend)</b><extra></extra>",
         "legendgroup": "crime_2020",
         "marker": {
          "color": "#636efa",
          "symbol": "circle"
         },
         "mode": "lines",
         "name": "crime_2020",
         "showlegend": false,
         "type": "scatter",
         "x": [
          45796.77777777778,
          46770.666666666664,
          68935.30434782608,
          76706,
          78880.51388888889,
          90890.25,
          93109.83333333333,
          110807
         ],
         "xaxis": "x",
         "y": [
          10441.595201031789,
          10407.955383275152,
          9642.350209273469,
          9373.936852715251,
          9298.82535717806,
          8883.988163025444,
          8807.319890411523,
          8196.028943089284
         ],
         "yaxis": "y"
        },
        {
         "hovertemplate": "variable=crime_2021<br>med_hh_income=%{marker.size}<br>value=%{y}<extra></extra>",
         "legendgroup": "crime_2021",
         "marker": {
          "color": "#EF553B",
          "size": [
           45796.77777777778,
           46770.666666666664,
           68935.30434782608,
           90890.25,
           78880.51388888889,
           93109.83333333333,
           76706,
           110807
          ],
          "sizemode": "area",
          "sizeref": 277.0175,
          "symbol": "circle"
         },
         "mode": "markers",
         "name": "crime_2021",
         "orientation": "v",
         "showlegend": true,
         "type": "scatter",
         "x": [
          45796.77777777778,
          46770.666666666664,
          68935.30434782608,
          90890.25,
          78880.51388888889,
          93109.83333333333,
          76706,
          110807
         ],
         "xaxis": "x",
         "y": [
          13145,
          9716,
          12077,
          12907,
          8853,
          7023,
          8208,
          8566
         ],
         "yaxis": "y"
        },
        {
         "hovertemplate": "<b>OLS trendline</b><br>value = -0.0461304 * med_hh_income + 13590.3<br>R<sup>2</sup>=0.197979<br><br>variable=crime_2021<br>med_hh_income=%{x}<br>value=%{y} <b>(trend)</b><extra></extra>",
         "legendgroup": "crime_2021",
         "marker": {
          "color": "#EF553B",
          "symbol": "circle"
         },
         "mode": "lines",
         "name": "crime_2021",
         "showlegend": false,
         "type": "scatter",
         "x": [
          45796.77777777778,
          46770.666666666664,
          68935.30434782608,
          76706,
          78880.51388888889,
          90890.25,
          93109.83333333333,
          110807
         ],
         "xaxis": "x",
         "y": [
          11477.629642641516,
          11432.703745306804,
          10410.239839736549,
          10051.774434625358,
          9951.463209351416,
          9397.449114211357,
          9295.058816820312,
          8478.68119730665
         ],
         "yaxis": "y"
        }
       ],
       "layout": {
        "legend": {
         "itemsizing": "constant",
         "title": {
          "text": "variable"
         },
         "tracegroupgap": 0
        },
        "template": {
         "data": {
          "bar": [
           {
            "error_x": {
             "color": "#2a3f5f"
            },
            "error_y": {
             "color": "#2a3f5f"
            },
            "marker": {
             "line": {
              "color": "#E5ECF6",
              "width": 0.5
             },
             "pattern": {
              "fillmode": "overlay",
              "size": 10,
              "solidity": 0.2
             }
            },
            "type": "bar"
           }
          ],
          "barpolar": [
           {
            "marker": {
             "line": {
              "color": "#E5ECF6",
              "width": 0.5
             },
             "pattern": {
              "fillmode": "overlay",
              "size": 10,
              "solidity": 0.2
             }
            },
            "type": "barpolar"
           }
          ],
          "carpet": [
           {
            "aaxis": {
             "endlinecolor": "#2a3f5f",
             "gridcolor": "white",
             "linecolor": "white",
             "minorgridcolor": "white",
             "startlinecolor": "#2a3f5f"
            },
            "baxis": {
             "endlinecolor": "#2a3f5f",
             "gridcolor": "white",
             "linecolor": "white",
             "minorgridcolor": "white",
             "startlinecolor": "#2a3f5f"
            },
            "type": "carpet"
           }
          ],
          "choropleth": [
           {
            "colorbar": {
             "outlinewidth": 0,
             "ticks": ""
            },
            "type": "choropleth"
           }
          ],
          "contour": [
           {
            "colorbar": {
             "outlinewidth": 0,
             "ticks": ""
            },
            "colorscale": [
             [
              0,
              "#0d0887"
             ],
             [
              0.1111111111111111,
              "#46039f"
             ],
             [
              0.2222222222222222,
              "#7201a8"
             ],
             [
              0.3333333333333333,
              "#9c179e"
             ],
             [
              0.4444444444444444,
              "#bd3786"
             ],
             [
              0.5555555555555556,
              "#d8576b"
             ],
             [
              0.6666666666666666,
              "#ed7953"
             ],
             [
              0.7777777777777778,
              "#fb9f3a"
             ],
             [
              0.8888888888888888,
              "#fdca26"
             ],
             [
              1,
              "#f0f921"
             ]
            ],
            "type": "contour"
           }
          ],
          "contourcarpet": [
           {
            "colorbar": {
             "outlinewidth": 0,
             "ticks": ""
            },
            "type": "contourcarpet"
           }
          ],
          "heatmap": [
           {
            "colorbar": {
             "outlinewidth": 0,
             "ticks": ""
            },
            "colorscale": [
             [
              0,
              "#0d0887"
             ],
             [
              0.1111111111111111,
              "#46039f"
             ],
             [
              0.2222222222222222,
              "#7201a8"
             ],
             [
              0.3333333333333333,
              "#9c179e"
             ],
             [
              0.4444444444444444,
              "#bd3786"
             ],
             [
              0.5555555555555556,
              "#d8576b"
             ],
             [
              0.6666666666666666,
              "#ed7953"
             ],
             [
              0.7777777777777778,
              "#fb9f3a"
             ],
             [
              0.8888888888888888,
              "#fdca26"
             ],
             [
              1,
              "#f0f921"
             ]
            ],
            "type": "heatmap"
           }
          ],
          "heatmapgl": [
           {
            "colorbar": {
             "outlinewidth": 0,
             "ticks": ""
            },
            "colorscale": [
             [
              0,
              "#0d0887"
             ],
             [
              0.1111111111111111,
              "#46039f"
             ],
             [
              0.2222222222222222,
              "#7201a8"
             ],
             [
              0.3333333333333333,
              "#9c179e"
             ],
             [
              0.4444444444444444,
              "#bd3786"
             ],
             [
              0.5555555555555556,
              "#d8576b"
             ],
             [
              0.6666666666666666,
              "#ed7953"
             ],
             [
              0.7777777777777778,
              "#fb9f3a"
             ],
             [
              0.8888888888888888,
              "#fdca26"
             ],
             [
              1,
              "#f0f921"
             ]
            ],
            "type": "heatmapgl"
           }
          ],
          "histogram": [
           {
            "marker": {
             "pattern": {
              "fillmode": "overlay",
              "size": 10,
              "solidity": 0.2
             }
            },
            "type": "histogram"
           }
          ],
          "histogram2d": [
           {
            "colorbar": {
             "outlinewidth": 0,
             "ticks": ""
            },
            "colorscale": [
             [
              0,
              "#0d0887"
             ],
             [
              0.1111111111111111,
              "#46039f"
             ],
             [
              0.2222222222222222,
              "#7201a8"
             ],
             [
              0.3333333333333333,
              "#9c179e"
             ],
             [
              0.4444444444444444,
              "#bd3786"
             ],
             [
              0.5555555555555556,
              "#d8576b"
             ],
             [
              0.6666666666666666,
              "#ed7953"
             ],
             [
              0.7777777777777778,
              "#fb9f3a"
             ],
             [
              0.8888888888888888,
              "#fdca26"
             ],
             [
              1,
              "#f0f921"
             ]
            ],
            "type": "histogram2d"
           }
          ],
          "histogram2dcontour": [
           {
            "colorbar": {
             "outlinewidth": 0,
             "ticks": ""
            },
            "colorscale": [
             [
              0,
              "#0d0887"
             ],
             [
              0.1111111111111111,
              "#46039f"
             ],
             [
              0.2222222222222222,
              "#7201a8"
             ],
             [
              0.3333333333333333,
              "#9c179e"
             ],
             [
              0.4444444444444444,
              "#bd3786"
             ],
             [
              0.5555555555555556,
              "#d8576b"
             ],
             [
              0.6666666666666666,
              "#ed7953"
             ],
             [
              0.7777777777777778,
              "#fb9f3a"
             ],
             [
              0.8888888888888888,
              "#fdca26"
             ],
             [
              1,
              "#f0f921"
             ]
            ],
            "type": "histogram2dcontour"
           }
          ],
          "mesh3d": [
           {
            "colorbar": {
             "outlinewidth": 0,
             "ticks": ""
            },
            "type": "mesh3d"
           }
          ],
          "parcoords": [
           {
            "line": {
             "colorbar": {
              "outlinewidth": 0,
              "ticks": ""
             }
            },
            "type": "parcoords"
           }
          ],
          "pie": [
           {
            "automargin": true,
            "type": "pie"
           }
          ],
          "scatter": [
           {
            "fillpattern": {
             "fillmode": "overlay",
             "size": 10,
             "solidity": 0.2
            },
            "type": "scatter"
           }
          ],
          "scatter3d": [
           {
            "line": {
             "colorbar": {
              "outlinewidth": 0,
              "ticks": ""
             }
            },
            "marker": {
             "colorbar": {
              "outlinewidth": 0,
              "ticks": ""
             }
            },
            "type": "scatter3d"
           }
          ],
          "scattercarpet": [
           {
            "marker": {
             "colorbar": {
              "outlinewidth": 0,
              "ticks": ""
             }
            },
            "type": "scattercarpet"
           }
          ],
          "scattergeo": [
           {
            "marker": {
             "colorbar": {
              "outlinewidth": 0,
              "ticks": ""
             }
            },
            "type": "scattergeo"
           }
          ],
          "scattergl": [
           {
            "marker": {
             "colorbar": {
              "outlinewidth": 0,
              "ticks": ""
             }
            },
            "type": "scattergl"
           }
          ],
          "scattermapbox": [
           {
            "marker": {
             "colorbar": {
              "outlinewidth": 0,
              "ticks": ""
             }
            },
            "type": "scattermapbox"
           }
          ],
          "scatterpolar": [
           {
            "marker": {
             "colorbar": {
              "outlinewidth": 0,
              "ticks": ""
             }
            },
            "type": "scatterpolar"
           }
          ],
          "scatterpolargl": [
           {
            "marker": {
             "colorbar": {
              "outlinewidth": 0,
              "ticks": ""
             }
            },
            "type": "scatterpolargl"
           }
          ],
          "scatterternary": [
           {
            "marker": {
             "colorbar": {
              "outlinewidth": 0,
              "ticks": ""
             }
            },
            "type": "scatterternary"
           }
          ],
          "surface": [
           {
            "colorbar": {
             "outlinewidth": 0,
             "ticks": ""
            },
            "colorscale": [
             [
              0,
              "#0d0887"
             ],
             [
              0.1111111111111111,
              "#46039f"
             ],
             [
              0.2222222222222222,
              "#7201a8"
             ],
             [
              0.3333333333333333,
              "#9c179e"
             ],
             [
              0.4444444444444444,
              "#bd3786"
             ],
             [
              0.5555555555555556,
              "#d8576b"
             ],
             [
              0.6666666666666666,
              "#ed7953"
             ],
             [
              0.7777777777777778,
              "#fb9f3a"
             ],
             [
              0.8888888888888888,
              "#fdca26"
             ],
             [
              1,
              "#f0f921"
             ]
            ],
            "type": "surface"
           }
          ],
          "table": [
           {
            "cells": {
             "fill": {
              "color": "#EBF0F8"
             },
             "line": {
              "color": "white"
             }
            },
            "header": {
             "fill": {
              "color": "#C8D4E3"
             },
             "line": {
              "color": "white"
             }
            },
            "type": "table"
           }
          ]
         },
         "layout": {
          "annotationdefaults": {
           "arrowcolor": "#2a3f5f",
           "arrowhead": 0,
           "arrowwidth": 1
          },
          "autotypenumbers": "strict",
          "coloraxis": {
           "colorbar": {
            "outlinewidth": 0,
            "ticks": ""
           }
          },
          "colorscale": {
           "diverging": [
            [
             0,
             "#8e0152"
            ],
            [
             0.1,
             "#c51b7d"
            ],
            [
             0.2,
             "#de77ae"
            ],
            [
             0.3,
             "#f1b6da"
            ],
            [
             0.4,
             "#fde0ef"
            ],
            [
             0.5,
             "#f7f7f7"
            ],
            [
             0.6,
             "#e6f5d0"
            ],
            [
             0.7,
             "#b8e186"
            ],
            [
             0.8,
             "#7fbc41"
            ],
            [
             0.9,
             "#4d9221"
            ],
            [
             1,
             "#276419"
            ]
           ],
           "sequential": [
            [
             0,
             "#0d0887"
            ],
            [
             0.1111111111111111,
             "#46039f"
            ],
            [
             0.2222222222222222,
             "#7201a8"
            ],
            [
             0.3333333333333333,
             "#9c179e"
            ],
            [
             0.4444444444444444,
             "#bd3786"
            ],
            [
             0.5555555555555556,
             "#d8576b"
            ],
            [
             0.6666666666666666,
             "#ed7953"
            ],
            [
             0.7777777777777778,
             "#fb9f3a"
            ],
            [
             0.8888888888888888,
             "#fdca26"
            ],
            [
             1,
             "#f0f921"
            ]
           ],
           "sequentialminus": [
            [
             0,
             "#0d0887"
            ],
            [
             0.1111111111111111,
             "#46039f"
            ],
            [
             0.2222222222222222,
             "#7201a8"
            ],
            [
             0.3333333333333333,
             "#9c179e"
            ],
            [
             0.4444444444444444,
             "#bd3786"
            ],
            [
             0.5555555555555556,
             "#d8576b"
            ],
            [
             0.6666666666666666,
             "#ed7953"
            ],
            [
             0.7777777777777778,
             "#fb9f3a"
            ],
            [
             0.8888888888888888,
             "#fdca26"
            ],
            [
             1,
             "#f0f921"
            ]
           ]
          },
          "colorway": [
           "#636efa",
           "#EF553B",
           "#00cc96",
           "#ab63fa",
           "#FFA15A",
           "#19d3f3",
           "#FF6692",
           "#B6E880",
           "#FF97FF",
           "#FECB52"
          ],
          "font": {
           "color": "#2a3f5f"
          },
          "geo": {
           "bgcolor": "white",
           "lakecolor": "white",
           "landcolor": "#E5ECF6",
           "showlakes": true,
           "showland": true,
           "subunitcolor": "white"
          },
          "hoverlabel": {
           "align": "left"
          },
          "hovermode": "closest",
          "mapbox": {
           "style": "light"
          },
          "paper_bgcolor": "white",
          "plot_bgcolor": "#f5e6ca",
          "polar": {
           "angularaxis": {
            "gridcolor": "white",
            "linecolor": "white",
            "ticks": ""
           },
           "bgcolor": "#E5ECF6",
           "radialaxis": {
            "gridcolor": "white",
            "linecolor": "white",
            "ticks": ""
           }
          },
          "scene": {
           "xaxis": {
            "backgroundcolor": "#E5ECF6",
            "gridcolor": "white",
            "gridwidth": 2,
            "linecolor": "white",
            "showbackground": true,
            "ticks": "",
            "zerolinecolor": "white"
           },
           "yaxis": {
            "backgroundcolor": "#E5ECF6",
            "gridcolor": "white",
            "gridwidth": 2,
            "linecolor": "white",
            "showbackground": true,
            "ticks": "",
            "zerolinecolor": "white"
           },
           "zaxis": {
            "backgroundcolor": "#E5ECF6",
            "gridcolor": "white",
            "gridwidth": 2,
            "linecolor": "white",
            "showbackground": true,
            "ticks": "",
            "zerolinecolor": "white"
           }
          },
          "shapedefaults": {
           "line": {
            "color": "#2a3f5f"
           }
          },
          "ternary": {
           "aaxis": {
            "gridcolor": "white",
            "linecolor": "white",
            "ticks": ""
           },
           "baxis": {
            "gridcolor": "white",
            "linecolor": "white",
            "ticks": ""
           },
           "bgcolor": "#E5ECF6",
           "caxis": {
            "gridcolor": "white",
            "linecolor": "white",
            "ticks": ""
           }
          },
          "title": {
           "x": 0.05
          },
          "xaxis": {
           "automargin": true,
           "gridcolor": "white",
           "linecolor": "white",
           "ticks": "",
           "title": {
            "standoff": 15
           },
           "zerolinecolor": "white",
           "zerolinewidth": 2
          },
          "yaxis": {
           "automargin": true,
           "gridcolor": "white",
           "linecolor": "white",
           "ticks": "",
           "title": {
            "standoff": 15
           },
           "zerolinecolor": "white",
           "zerolinewidth": 2
          }
         }
        },
        "title": {
         "text": "Crime Cnt 2020/2021 vs. Median Household Income"
        },
        "xaxis": {
         "anchor": "y",
         "domain": [
          0,
          1
         ],
         "title": {
          "text": "med_hh_income"
         }
        },
        "yaxis": {
         "anchor": "x",
         "domain": [
          0,
          1
         ],
         "title": {
          "text": "value"
         }
        }
       }
      },
      "text/html": [
       "<div>                            <div id=\"f258dae2-df45-42e0-8ebd-84dd67c80809\" class=\"plotly-graph-div\" style=\"height:525px; width:100%;\"></div>            <script type=\"text/javascript\">                require([\"plotly\"], function(Plotly) {                    window.PLOTLYENV=window.PLOTLYENV || {};                                    if (document.getElementById(\"f258dae2-df45-42e0-8ebd-84dd67c80809\")) {                    Plotly.newPlot(                        \"f258dae2-df45-42e0-8ebd-84dd67c80809\",                        [{\"hovertemplate\":\"variable=crime_2020<br>med_hh_income=%{marker.size}<br>value=%{y}<extra></extra>\",\"legendgroup\":\"crime_2020\",\"marker\":{\"color\":\"#636efa\",\"size\":[45796.77777777778,46770.666666666664,68935.30434782608,90890.25,78880.51388888889,93109.83333333333,76706.0,110807.0],\"sizemode\":\"area\",\"sizeref\":277.0175,\"symbol\":\"circle\"},\"mode\":\"markers\",\"name\":\"crime_2020\",\"orientation\":\"v\",\"showlegend\":true,\"x\":[45796.77777777778,46770.666666666664,68935.30434782608,90890.25,78880.51388888889,93109.83333333333,76706.0,110807.0],\"xaxis\":\"x\",\"y\":[11586,9272,10140,11556,8856,7093,8458,8091],\"yaxis\":\"y\",\"type\":\"scatter\"},{\"hovertemplate\":\"<b>OLS trendline</b><br>value = -0.0345417 * med_hh_income + 12023.5<br>R<sup>2</sup>=0.232594<br><br>variable=crime_2020<br>med_hh_income=%{x}<br>value=%{y} <b>(trend)</b><extra></extra>\",\"legendgroup\":\"crime_2020\",\"marker\":{\"color\":\"#636efa\",\"symbol\":\"circle\"},\"mode\":\"lines\",\"name\":\"crime_2020\",\"showlegend\":false,\"x\":[45796.77777777778,46770.666666666664,68935.30434782608,76706.0,78880.51388888889,90890.25,93109.83333333333,110807.0],\"xaxis\":\"x\",\"y\":[10441.595201031789,10407.955383275152,9642.350209273469,9373.936852715251,9298.82535717806,8883.988163025444,8807.319890411523,8196.028943089284],\"yaxis\":\"y\",\"type\":\"scatter\"},{\"hovertemplate\":\"variable=crime_2021<br>med_hh_income=%{marker.size}<br>value=%{y}<extra></extra>\",\"legendgroup\":\"crime_2021\",\"marker\":{\"color\":\"#EF553B\",\"size\":[45796.77777777778,46770.666666666664,68935.30434782608,90890.25,78880.51388888889,93109.83333333333,76706.0,110807.0],\"sizemode\":\"area\",\"sizeref\":277.0175,\"symbol\":\"circle\"},\"mode\":\"markers\",\"name\":\"crime_2021\",\"orientation\":\"v\",\"showlegend\":true,\"x\":[45796.77777777778,46770.666666666664,68935.30434782608,90890.25,78880.51388888889,93109.83333333333,76706.0,110807.0],\"xaxis\":\"x\",\"y\":[13145,9716,12077,12907,8853,7023,8208,8566],\"yaxis\":\"y\",\"type\":\"scatter\"},{\"hovertemplate\":\"<b>OLS trendline</b><br>value = -0.0461304 * med_hh_income + 13590.3<br>R<sup>2</sup>=0.197979<br><br>variable=crime_2021<br>med_hh_income=%{x}<br>value=%{y} <b>(trend)</b><extra></extra>\",\"legendgroup\":\"crime_2021\",\"marker\":{\"color\":\"#EF553B\",\"symbol\":\"circle\"},\"mode\":\"lines\",\"name\":\"crime_2021\",\"showlegend\":false,\"x\":[45796.77777777778,46770.666666666664,68935.30434782608,76706.0,78880.51388888889,90890.25,93109.83333333333,110807.0],\"xaxis\":\"x\",\"y\":[11477.629642641516,11432.703745306804,10410.239839736549,10051.774434625358,9951.463209351416,9397.449114211357,9295.058816820312,8478.68119730665],\"yaxis\":\"y\",\"type\":\"scatter\"}],                        {\"template\":{\"data\":{\"histogram2dcontour\":[{\"type\":\"histogram2dcontour\",\"colorbar\":{\"outlinewidth\":0,\"ticks\":\"\"},\"colorscale\":[[0.0,\"#0d0887\"],[0.1111111111111111,\"#46039f\"],[0.2222222222222222,\"#7201a8\"],[0.3333333333333333,\"#9c179e\"],[0.4444444444444444,\"#bd3786\"],[0.5555555555555556,\"#d8576b\"],[0.6666666666666666,\"#ed7953\"],[0.7777777777777778,\"#fb9f3a\"],[0.8888888888888888,\"#fdca26\"],[1.0,\"#f0f921\"]]}],\"choropleth\":[{\"type\":\"choropleth\",\"colorbar\":{\"outlinewidth\":0,\"ticks\":\"\"}}],\"histogram2d\":[{\"type\":\"histogram2d\",\"colorbar\":{\"outlinewidth\":0,\"ticks\":\"\"},\"colorscale\":[[0.0,\"#0d0887\"],[0.1111111111111111,\"#46039f\"],[0.2222222222222222,\"#7201a8\"],[0.3333333333333333,\"#9c179e\"],[0.4444444444444444,\"#bd3786\"],[0.5555555555555556,\"#d8576b\"],[0.6666666666666666,\"#ed7953\"],[0.7777777777777778,\"#fb9f3a\"],[0.8888888888888888,\"#fdca26\"],[1.0,\"#f0f921\"]]}],\"heatmap\":[{\"type\":\"heatmap\",\"colorbar\":{\"outlinewidth\":0,\"ticks\":\"\"},\"colorscale\":[[0.0,\"#0d0887\"],[0.1111111111111111,\"#46039f\"],[0.2222222222222222,\"#7201a8\"],[0.3333333333333333,\"#9c179e\"],[0.4444444444444444,\"#bd3786\"],[0.5555555555555556,\"#d8576b\"],[0.6666666666666666,\"#ed7953\"],[0.7777777777777778,\"#fb9f3a\"],[0.8888888888888888,\"#fdca26\"],[1.0,\"#f0f921\"]]}],\"heatmapgl\":[{\"type\":\"heatmapgl\",\"colorbar\":{\"outlinewidth\":0,\"ticks\":\"\"},\"colorscale\":[[0.0,\"#0d0887\"],[0.1111111111111111,\"#46039f\"],[0.2222222222222222,\"#7201a8\"],[0.3333333333333333,\"#9c179e\"],[0.4444444444444444,\"#bd3786\"],[0.5555555555555556,\"#d8576b\"],[0.6666666666666666,\"#ed7953\"],[0.7777777777777778,\"#fb9f3a\"],[0.8888888888888888,\"#fdca26\"],[1.0,\"#f0f921\"]]}],\"contourcarpet\":[{\"type\":\"contourcarpet\",\"colorbar\":{\"outlinewidth\":0,\"ticks\":\"\"}}],\"contour\":[{\"type\":\"contour\",\"colorbar\":{\"outlinewidth\":0,\"ticks\":\"\"},\"colorscale\":[[0.0,\"#0d0887\"],[0.1111111111111111,\"#46039f\"],[0.2222222222222222,\"#7201a8\"],[0.3333333333333333,\"#9c179e\"],[0.4444444444444444,\"#bd3786\"],[0.5555555555555556,\"#d8576b\"],[0.6666666666666666,\"#ed7953\"],[0.7777777777777778,\"#fb9f3a\"],[0.8888888888888888,\"#fdca26\"],[1.0,\"#f0f921\"]]}],\"surface\":[{\"type\":\"surface\",\"colorbar\":{\"outlinewidth\":0,\"ticks\":\"\"},\"colorscale\":[[0.0,\"#0d0887\"],[0.1111111111111111,\"#46039f\"],[0.2222222222222222,\"#7201a8\"],[0.3333333333333333,\"#9c179e\"],[0.4444444444444444,\"#bd3786\"],[0.5555555555555556,\"#d8576b\"],[0.6666666666666666,\"#ed7953\"],[0.7777777777777778,\"#fb9f3a\"],[0.8888888888888888,\"#fdca26\"],[1.0,\"#f0f921\"]]}],\"mesh3d\":[{\"type\":\"mesh3d\",\"colorbar\":{\"outlinewidth\":0,\"ticks\":\"\"}}],\"scatter\":[{\"fillpattern\":{\"fillmode\":\"overlay\",\"size\":10,\"solidity\":0.2},\"type\":\"scatter\"}],\"parcoords\":[{\"type\":\"parcoords\",\"line\":{\"colorbar\":{\"outlinewidth\":0,\"ticks\":\"\"}}}],\"scatterpolargl\":[{\"type\":\"scatterpolargl\",\"marker\":{\"colorbar\":{\"outlinewidth\":0,\"ticks\":\"\"}}}],\"bar\":[{\"error_x\":{\"color\":\"#2a3f5f\"},\"error_y\":{\"color\":\"#2a3f5f\"},\"marker\":{\"line\":{\"color\":\"#E5ECF6\",\"width\":0.5},\"pattern\":{\"fillmode\":\"overlay\",\"size\":10,\"solidity\":0.2}},\"type\":\"bar\"}],\"scattergeo\":[{\"type\":\"scattergeo\",\"marker\":{\"colorbar\":{\"outlinewidth\":0,\"ticks\":\"\"}}}],\"scatterpolar\":[{\"type\":\"scatterpolar\",\"marker\":{\"colorbar\":{\"outlinewidth\":0,\"ticks\":\"\"}}}],\"histogram\":[{\"marker\":{\"pattern\":{\"fillmode\":\"overlay\",\"size\":10,\"solidity\":0.2}},\"type\":\"histogram\"}],\"scattergl\":[{\"type\":\"scattergl\",\"marker\":{\"colorbar\":{\"outlinewidth\":0,\"ticks\":\"\"}}}],\"scatter3d\":[{\"type\":\"scatter3d\",\"line\":{\"colorbar\":{\"outlinewidth\":0,\"ticks\":\"\"}},\"marker\":{\"colorbar\":{\"outlinewidth\":0,\"ticks\":\"\"}}}],\"scattermapbox\":[{\"type\":\"scattermapbox\",\"marker\":{\"colorbar\":{\"outlinewidth\":0,\"ticks\":\"\"}}}],\"scatterternary\":[{\"type\":\"scatterternary\",\"marker\":{\"colorbar\":{\"outlinewidth\":0,\"ticks\":\"\"}}}],\"scattercarpet\":[{\"type\":\"scattercarpet\",\"marker\":{\"colorbar\":{\"outlinewidth\":0,\"ticks\":\"\"}}}],\"carpet\":[{\"aaxis\":{\"endlinecolor\":\"#2a3f5f\",\"gridcolor\":\"white\",\"linecolor\":\"white\",\"minorgridcolor\":\"white\",\"startlinecolor\":\"#2a3f5f\"},\"baxis\":{\"endlinecolor\":\"#2a3f5f\",\"gridcolor\":\"white\",\"linecolor\":\"white\",\"minorgridcolor\":\"white\",\"startlinecolor\":\"#2a3f5f\"},\"type\":\"carpet\"}],\"table\":[{\"cells\":{\"fill\":{\"color\":\"#EBF0F8\"},\"line\":{\"color\":\"white\"}},\"header\":{\"fill\":{\"color\":\"#C8D4E3\"},\"line\":{\"color\":\"white\"}},\"type\":\"table\"}],\"barpolar\":[{\"marker\":{\"line\":{\"color\":\"#E5ECF6\",\"width\":0.5},\"pattern\":{\"fillmode\":\"overlay\",\"size\":10,\"solidity\":0.2}},\"type\":\"barpolar\"}],\"pie\":[{\"automargin\":true,\"type\":\"pie\"}]},\"layout\":{\"autotypenumbers\":\"strict\",\"colorway\":[\"#636efa\",\"#EF553B\",\"#00cc96\",\"#ab63fa\",\"#FFA15A\",\"#19d3f3\",\"#FF6692\",\"#B6E880\",\"#FF97FF\",\"#FECB52\"],\"font\":{\"color\":\"#2a3f5f\"},\"hovermode\":\"closest\",\"hoverlabel\":{\"align\":\"left\"},\"paper_bgcolor\":\"white\",\"plot_bgcolor\":\"#f5e6ca\",\"polar\":{\"bgcolor\":\"#E5ECF6\",\"angularaxis\":{\"gridcolor\":\"white\",\"linecolor\":\"white\",\"ticks\":\"\"},\"radialaxis\":{\"gridcolor\":\"white\",\"linecolor\":\"white\",\"ticks\":\"\"}},\"ternary\":{\"bgcolor\":\"#E5ECF6\",\"aaxis\":{\"gridcolor\":\"white\",\"linecolor\":\"white\",\"ticks\":\"\"},\"baxis\":{\"gridcolor\":\"white\",\"linecolor\":\"white\",\"ticks\":\"\"},\"caxis\":{\"gridcolor\":\"white\",\"linecolor\":\"white\",\"ticks\":\"\"}},\"coloraxis\":{\"colorbar\":{\"outlinewidth\":0,\"ticks\":\"\"}},\"colorscale\":{\"sequential\":[[0.0,\"#0d0887\"],[0.1111111111111111,\"#46039f\"],[0.2222222222222222,\"#7201a8\"],[0.3333333333333333,\"#9c179e\"],[0.4444444444444444,\"#bd3786\"],[0.5555555555555556,\"#d8576b\"],[0.6666666666666666,\"#ed7953\"],[0.7777777777777778,\"#fb9f3a\"],[0.8888888888888888,\"#fdca26\"],[1.0,\"#f0f921\"]],\"sequentialminus\":[[0.0,\"#0d0887\"],[0.1111111111111111,\"#46039f\"],[0.2222222222222222,\"#7201a8\"],[0.3333333333333333,\"#9c179e\"],[0.4444444444444444,\"#bd3786\"],[0.5555555555555556,\"#d8576b\"],[0.6666666666666666,\"#ed7953\"],[0.7777777777777778,\"#fb9f3a\"],[0.8888888888888888,\"#fdca26\"],[1.0,\"#f0f921\"]],\"diverging\":[[0,\"#8e0152\"],[0.1,\"#c51b7d\"],[0.2,\"#de77ae\"],[0.3,\"#f1b6da\"],[0.4,\"#fde0ef\"],[0.5,\"#f7f7f7\"],[0.6,\"#e6f5d0\"],[0.7,\"#b8e186\"],[0.8,\"#7fbc41\"],[0.9,\"#4d9221\"],[1,\"#276419\"]]},\"xaxis\":{\"gridcolor\":\"white\",\"linecolor\":\"white\",\"ticks\":\"\",\"title\":{\"standoff\":15},\"zerolinecolor\":\"white\",\"automargin\":true,\"zerolinewidth\":2},\"yaxis\":{\"gridcolor\":\"white\",\"linecolor\":\"white\",\"ticks\":\"\",\"title\":{\"standoff\":15},\"zerolinecolor\":\"white\",\"automargin\":true,\"zerolinewidth\":2},\"scene\":{\"xaxis\":{\"backgroundcolor\":\"#E5ECF6\",\"gridcolor\":\"white\",\"linecolor\":\"white\",\"showbackground\":true,\"ticks\":\"\",\"zerolinecolor\":\"white\",\"gridwidth\":2},\"yaxis\":{\"backgroundcolor\":\"#E5ECF6\",\"gridcolor\":\"white\",\"linecolor\":\"white\",\"showbackground\":true,\"ticks\":\"\",\"zerolinecolor\":\"white\",\"gridwidth\":2},\"zaxis\":{\"backgroundcolor\":\"#E5ECF6\",\"gridcolor\":\"white\",\"linecolor\":\"white\",\"showbackground\":true,\"ticks\":\"\",\"zerolinecolor\":\"white\",\"gridwidth\":2}},\"shapedefaults\":{\"line\":{\"color\":\"#2a3f5f\"}},\"annotationdefaults\":{\"arrowcolor\":\"#2a3f5f\",\"arrowhead\":0,\"arrowwidth\":1},\"geo\":{\"bgcolor\":\"white\",\"landcolor\":\"#E5ECF6\",\"subunitcolor\":\"white\",\"showland\":true,\"showlakes\":true,\"lakecolor\":\"white\"},\"title\":{\"x\":0.05},\"mapbox\":{\"style\":\"light\"}}},\"xaxis\":{\"anchor\":\"y\",\"domain\":[0.0,1.0],\"title\":{\"text\":\"med_hh_income\"}},\"yaxis\":{\"anchor\":\"x\",\"domain\":[0.0,1.0],\"title\":{\"text\":\"value\"}},\"legend\":{\"title\":{\"text\":\"variable\"},\"tracegroupgap\":0,\"itemsizing\":\"constant\"},\"title\":{\"text\":\"Crime Cnt 2020/2021 vs. Median Household Income\"}},                        {\"responsive\": true}                    ).then(function(){\n",
       "                            \n",
       "var gd = document.getElementById('f258dae2-df45-42e0-8ebd-84dd67c80809');\n",
       "var x = new MutationObserver(function (mutations, observer) {{\n",
       "        var display = window.getComputedStyle(gd).display;\n",
       "        if (!display || display === 'none') {{\n",
       "            console.log([gd, 'removed!']);\n",
       "            Plotly.purge(gd);\n",
       "            observer.disconnect();\n",
       "        }}\n",
       "}});\n",
       "\n",
       "// Listen for the removal of the full notebook cells\n",
       "var notebookContainer = gd.closest('#notebook-container');\n",
       "if (notebookContainer) {{\n",
       "    x.observe(notebookContainer, {childList: true});\n",
       "}}\n",
       "\n",
       "// Listen for the clearing of the current output cell\n",
       "var outputEl = gd.closest('.output');\n",
       "if (outputEl) {{\n",
       "    x.observe(outputEl, {childList: true});\n",
       "}}\n",
       "\n",
       "                        })                };                });            </script>        </div>"
      ]
     },
     "metadata": {},
     "output_type": "display_data"
    }
   ],
   "source": [
    "px.scatter(df, \n",
    "            y=['crime_2020', 'crime_2021'],\n",
    "            x='med_hh_income',\n",
    "              trendline='ols', \n",
    "          size='med_hh_income',\n",
    "          title='Crime Cnt 2020/2021 vs. Median Household Income')\\\n",
    ".update_layout(template=dict(layout=dict(plot_bgcolor='#f5e6ca')))"
   ]
  },
  {
   "cell_type": "code",
   "execution_count": null,
   "id": "76bcc153",
   "metadata": {},
   "outputs": [],
   "source": []
  },
  {
   "cell_type": "code",
   "execution_count": 149,
   "id": "1f3ab520",
   "metadata": {},
   "outputs": [],
   "source": [
    "crime_rate = pd.read_csv('crime_rate(2020_2021).csv').drop(['Unnamed: 0'], axis=1)"
   ]
  },
  {
   "cell_type": "code",
   "execution_count": 154,
   "id": "c6a5d0d2",
   "metadata": {},
   "outputs": [
    {
     "data": {
      "text/html": [
       "<div>\n",
       "<style scoped>\n",
       "    .dataframe tbody tr th:only-of-type {\n",
       "        vertical-align: middle;\n",
       "    }\n",
       "\n",
       "    .dataframe tbody tr th {\n",
       "        vertical-align: top;\n",
       "    }\n",
       "\n",
       "    .dataframe thead th {\n",
       "        text-align: right;\n",
       "    }\n",
       "</style>\n",
       "<table border=\"1\" class=\"dataframe\">\n",
       "  <thead>\n",
       "    <tr style=\"text-align: right;\">\n",
       "      <th></th>\n",
       "      <th>area_name</th>\n",
       "      <th>crime_rate_2020</th>\n",
       "      <th>crime_rate_2021</th>\n",
       "      <th>med_hh_income</th>\n",
       "    </tr>\n",
       "  </thead>\n",
       "  <tbody>\n",
       "    <tr>\n",
       "      <th>0</th>\n",
       "      <td>Mission</td>\n",
       "      <td>0.447632</td>\n",
       "      <td>0.437713</td>\n",
       "      <td>76706.000000</td>\n",
       "    </tr>\n",
       "    <tr>\n",
       "      <th>1</th>\n",
       "      <td>Foothill</td>\n",
       "      <td>0.328562</td>\n",
       "      <td>0.329889</td>\n",
       "      <td>93109.833333</td>\n",
       "    </tr>\n",
       "    <tr>\n",
       "      <th>2</th>\n",
       "      <td>Hollywood</td>\n",
       "      <td>0.313641</td>\n",
       "      <td>0.404089</td>\n",
       "      <td>68935.304348</td>\n",
       "    </tr>\n",
       "    <tr>\n",
       "      <th>3</th>\n",
       "      <td>Wilshire</td>\n",
       "      <td>0.244084</td>\n",
       "      <td>0.263235</td>\n",
       "      <td>46770.666667</td>\n",
       "    </tr>\n",
       "    <tr>\n",
       "      <th>4</th>\n",
       "      <td>Central</td>\n",
       "      <td>0.217987</td>\n",
       "      <td>0.241707</td>\n",
       "      <td>45796.777778</td>\n",
       "    </tr>\n",
       "    <tr>\n",
       "      <th>5</th>\n",
       "      <td>Pacific</td>\n",
       "      <td>0.208954</td>\n",
       "      <td>0.235045</td>\n",
       "      <td>90890.250000</td>\n",
       "    </tr>\n",
       "    <tr>\n",
       "      <th>6</th>\n",
       "      <td>Topanga</td>\n",
       "      <td>0.174007</td>\n",
       "      <td>0.190648</td>\n",
       "      <td>110807.000000</td>\n",
       "    </tr>\n",
       "    <tr>\n",
       "      <th>7</th>\n",
       "      <td>Harbor</td>\n",
       "      <td>0.144541</td>\n",
       "      <td>0.141316</td>\n",
       "      <td>78880.513889</td>\n",
       "    </tr>\n",
       "  </tbody>\n",
       "</table>\n",
       "</div>"
      ],
      "text/plain": [
       "   area_name  crime_rate_2020  crime_rate_2021  med_hh_income\n",
       "0    Mission         0.447632         0.437713   76706.000000\n",
       "1   Foothill         0.328562         0.329889   93109.833333\n",
       "2  Hollywood         0.313641         0.404089   68935.304348\n",
       "3   Wilshire         0.244084         0.263235   46770.666667\n",
       "4    Central         0.217987         0.241707   45796.777778\n",
       "5    Pacific         0.208954         0.235045   90890.250000\n",
       "6    Topanga         0.174007         0.190648  110807.000000\n",
       "7     Harbor         0.144541         0.141316   78880.513889"
      ]
     },
     "execution_count": 154,
     "metadata": {},
     "output_type": "execute_result"
    }
   ],
   "source": [
    "dff = pd.merge(crime_rate, dfm, on='area_name')\n",
    "dff"
   ]
  },
  {
   "cell_type": "code",
   "execution_count": 155,
   "id": "31820dad",
   "metadata": {},
   "outputs": [
    {
     "data": {
      "text/html": [
       "<div>\n",
       "<style scoped>\n",
       "    .dataframe tbody tr th:only-of-type {\n",
       "        vertical-align: middle;\n",
       "    }\n",
       "\n",
       "    .dataframe tbody tr th {\n",
       "        vertical-align: top;\n",
       "    }\n",
       "\n",
       "    .dataframe thead th {\n",
       "        text-align: right;\n",
       "    }\n",
       "</style>\n",
       "<table border=\"1\" class=\"dataframe\">\n",
       "  <thead>\n",
       "    <tr style=\"text-align: right;\">\n",
       "      <th></th>\n",
       "      <th>crime_rate_2020</th>\n",
       "      <th>crime_rate_2021</th>\n",
       "      <th>med_hh_income</th>\n",
       "    </tr>\n",
       "  </thead>\n",
       "  <tbody>\n",
       "    <tr>\n",
       "      <th>crime_rate_2020</th>\n",
       "      <td>1.000000</td>\n",
       "      <td>0.952768</td>\n",
       "      <td>-0.091619</td>\n",
       "    </tr>\n",
       "    <tr>\n",
       "      <th>crime_rate_2021</th>\n",
       "      <td>0.952768</td>\n",
       "      <td>1.000000</td>\n",
       "      <td>-0.151178</td>\n",
       "    </tr>\n",
       "    <tr>\n",
       "      <th>med_hh_income</th>\n",
       "      <td>-0.091619</td>\n",
       "      <td>-0.151178</td>\n",
       "      <td>1.000000</td>\n",
       "    </tr>\n",
       "  </tbody>\n",
       "</table>\n",
       "</div>"
      ],
      "text/plain": [
       "                 crime_rate_2020  crime_rate_2021  med_hh_income\n",
       "crime_rate_2020         1.000000         0.952768      -0.091619\n",
       "crime_rate_2021         0.952768         1.000000      -0.151178\n",
       "med_hh_income          -0.091619        -0.151178       1.000000"
      ]
     },
     "execution_count": 155,
     "metadata": {},
     "output_type": "execute_result"
    }
   ],
   "source": [
    "dff.corr()"
   ]
  },
  {
   "cell_type": "code",
   "execution_count": 156,
   "id": "1f958659",
   "metadata": {},
   "outputs": [
    {
     "data": {
      "application/vnd.plotly.v1+json": {
       "config": {
        "plotlyServerURL": "https://plot.ly"
       },
       "data": [
        {
         "hovertemplate": "variable=crime_rate_2020<br>med_hh_income=%{marker.size}<br>value=%{y}<extra></extra>",
         "legendgroup": "crime_rate_2020",
         "marker": {
          "color": "#636efa",
          "size": [
           76706,
           93109.83333333333,
           68935.30434782608,
           46770.666666666664,
           45796.77777777778,
           90890.25,
           110807,
           78880.51388888889
          ],
          "sizemode": "area",
          "sizeref": 277.0175,
          "symbol": "circle"
         },
         "mode": "markers",
         "name": "crime_rate_2020",
         "orientation": "v",
         "showlegend": true,
         "type": "scatter",
         "x": [
          76706,
          93109.83333333333,
          68935.30434782608,
          46770.666666666664,
          45796.77777777778,
          90890.25,
          110807,
          78880.51388888889
         ],
         "xaxis": "x",
         "y": [
          0.4476316485842815,
          0.328562164165277,
          0.3136405815032477,
          0.24408350225077,
          0.2179868297271872,
          0.2089541443656878,
          0.1740074841928685,
          0.1445405581850824
         ],
         "yaxis": "y"
        },
        {
         "hovertemplate": "<b>OLS trendline</b><br>value = -4.01409e-07 * med_hh_income + 0.290628<br>R<sup>2</sup>=0.008394<br><br>variable=crime_rate_2020<br>med_hh_income=%{x}<br>value=%{y} <b>(trend)</b><extra></extra>",
         "legendgroup": "crime_rate_2020",
         "marker": {
          "color": "#636efa",
          "symbol": "circle"
         },
         "mode": "lines",
         "name": "crime_rate_2020",
         "showlegend": false,
         "type": "scatter",
         "x": [
          45796.77777777778,
          46770.666666666664,
          68935.30434782608,
          76706,
          78880.51388888889,
          90890.25,
          93109.83333333333,
          110807
         ],
         "xaxis": "x",
         "y": [
          0.27224522339326374,
          0.27185429529513894,
          0.2629572026666296,
          0.2598379728375711,
          0.25896510264814004,
          0.25414428237750974,
          0.2532533208920374,
          0.24614951286411094
         ],
         "yaxis": "y"
        },
        {
         "hovertemplate": "variable=crime_rate_2021<br>med_hh_income=%{marker.size}<br>value=%{y}<extra></extra>",
         "legendgroup": "crime_rate_2021",
         "marker": {
          "color": "#EF553B",
          "size": [
           76706,
           93109.83333333333,
           68935.30434782608,
           46770.666666666664,
           45796.77777777778,
           90890.25,
           110807,
           78880.51388888889
          ],
          "sizemode": "area",
          "sizeref": 277.0175,
          "symbol": "circle"
         },
         "mode": "markers",
         "name": "crime_rate_2021",
         "orientation": "v",
         "showlegend": true,
         "type": "scatter",
         "x": [
          76706,
          93109.83333333333,
          68935.30434782608,
          46770.666666666664,
          45796.77777777778,
          90890.25,
          110807,
          78880.51388888889
         ],
         "xaxis": "x",
         "y": [
          0.4377133105802048,
          0.3298886749025318,
          0.4040887342322749,
          0.2632348956922243,
          0.2417071197411003,
          0.2350445249758709,
          0.1906478823084284,
          0.1413156256484747
         ],
         "yaxis": "y"
        },
        {
         "hovertemplate": "<b>OLS trendline</b><br>value = -6.8909e-07 * med_hh_income + 0.333162<br>R<sup>2</sup>=0.022855<br><br>variable=crime_rate_2021<br>med_hh_income=%{x}<br>value=%{y} <b>(trend)</b><extra></extra>",
         "legendgroup": "crime_rate_2021",
         "marker": {
          "color": "#EF553B",
          "symbol": "circle"
         },
         "mode": "lines",
         "name": "crime_rate_2021",
         "showlegend": false,
         "type": "scatter",
         "x": [
          45796.77777777778,
          46770.666666666664,
          68935.30434782608,
          76706,
          78880.51388888889,
          90890.25,
          93109.83333333333,
          110807
         ],
         "xaxis": "x",
         "y": [
          0.3016034452725506,
          0.30093234836130267,
          0.28565892235094215,
          0.2803042151457171,
          0.27880577977906645,
          0.27052999298139047,
          0.2690005007197456,
          0.25680556347039407
         ],
         "yaxis": "y"
        }
       ],
       "layout": {
        "legend": {
         "itemsizing": "constant",
         "title": {
          "text": "variable"
         },
         "tracegroupgap": 0
        },
        "template": {
         "data": {
          "bar": [
           {
            "error_x": {
             "color": "#2a3f5f"
            },
            "error_y": {
             "color": "#2a3f5f"
            },
            "marker": {
             "line": {
              "color": "#E5ECF6",
              "width": 0.5
             },
             "pattern": {
              "fillmode": "overlay",
              "size": 10,
              "solidity": 0.2
             }
            },
            "type": "bar"
           }
          ],
          "barpolar": [
           {
            "marker": {
             "line": {
              "color": "#E5ECF6",
              "width": 0.5
             },
             "pattern": {
              "fillmode": "overlay",
              "size": 10,
              "solidity": 0.2
             }
            },
            "type": "barpolar"
           }
          ],
          "carpet": [
           {
            "aaxis": {
             "endlinecolor": "#2a3f5f",
             "gridcolor": "white",
             "linecolor": "white",
             "minorgridcolor": "white",
             "startlinecolor": "#2a3f5f"
            },
            "baxis": {
             "endlinecolor": "#2a3f5f",
             "gridcolor": "white",
             "linecolor": "white",
             "minorgridcolor": "white",
             "startlinecolor": "#2a3f5f"
            },
            "type": "carpet"
           }
          ],
          "choropleth": [
           {
            "colorbar": {
             "outlinewidth": 0,
             "ticks": ""
            },
            "type": "choropleth"
           }
          ],
          "contour": [
           {
            "colorbar": {
             "outlinewidth": 0,
             "ticks": ""
            },
            "colorscale": [
             [
              0,
              "#0d0887"
             ],
             [
              0.1111111111111111,
              "#46039f"
             ],
             [
              0.2222222222222222,
              "#7201a8"
             ],
             [
              0.3333333333333333,
              "#9c179e"
             ],
             [
              0.4444444444444444,
              "#bd3786"
             ],
             [
              0.5555555555555556,
              "#d8576b"
             ],
             [
              0.6666666666666666,
              "#ed7953"
             ],
             [
              0.7777777777777778,
              "#fb9f3a"
             ],
             [
              0.8888888888888888,
              "#fdca26"
             ],
             [
              1,
              "#f0f921"
             ]
            ],
            "type": "contour"
           }
          ],
          "contourcarpet": [
           {
            "colorbar": {
             "outlinewidth": 0,
             "ticks": ""
            },
            "type": "contourcarpet"
           }
          ],
          "heatmap": [
           {
            "colorbar": {
             "outlinewidth": 0,
             "ticks": ""
            },
            "colorscale": [
             [
              0,
              "#0d0887"
             ],
             [
              0.1111111111111111,
              "#46039f"
             ],
             [
              0.2222222222222222,
              "#7201a8"
             ],
             [
              0.3333333333333333,
              "#9c179e"
             ],
             [
              0.4444444444444444,
              "#bd3786"
             ],
             [
              0.5555555555555556,
              "#d8576b"
             ],
             [
              0.6666666666666666,
              "#ed7953"
             ],
             [
              0.7777777777777778,
              "#fb9f3a"
             ],
             [
              0.8888888888888888,
              "#fdca26"
             ],
             [
              1,
              "#f0f921"
             ]
            ],
            "type": "heatmap"
           }
          ],
          "heatmapgl": [
           {
            "colorbar": {
             "outlinewidth": 0,
             "ticks": ""
            },
            "colorscale": [
             [
              0,
              "#0d0887"
             ],
             [
              0.1111111111111111,
              "#46039f"
             ],
             [
              0.2222222222222222,
              "#7201a8"
             ],
             [
              0.3333333333333333,
              "#9c179e"
             ],
             [
              0.4444444444444444,
              "#bd3786"
             ],
             [
              0.5555555555555556,
              "#d8576b"
             ],
             [
              0.6666666666666666,
              "#ed7953"
             ],
             [
              0.7777777777777778,
              "#fb9f3a"
             ],
             [
              0.8888888888888888,
              "#fdca26"
             ],
             [
              1,
              "#f0f921"
             ]
            ],
            "type": "heatmapgl"
           }
          ],
          "histogram": [
           {
            "marker": {
             "pattern": {
              "fillmode": "overlay",
              "size": 10,
              "solidity": 0.2
             }
            },
            "type": "histogram"
           }
          ],
          "histogram2d": [
           {
            "colorbar": {
             "outlinewidth": 0,
             "ticks": ""
            },
            "colorscale": [
             [
              0,
              "#0d0887"
             ],
             [
              0.1111111111111111,
              "#46039f"
             ],
             [
              0.2222222222222222,
              "#7201a8"
             ],
             [
              0.3333333333333333,
              "#9c179e"
             ],
             [
              0.4444444444444444,
              "#bd3786"
             ],
             [
              0.5555555555555556,
              "#d8576b"
             ],
             [
              0.6666666666666666,
              "#ed7953"
             ],
             [
              0.7777777777777778,
              "#fb9f3a"
             ],
             [
              0.8888888888888888,
              "#fdca26"
             ],
             [
              1,
              "#f0f921"
             ]
            ],
            "type": "histogram2d"
           }
          ],
          "histogram2dcontour": [
           {
            "colorbar": {
             "outlinewidth": 0,
             "ticks": ""
            },
            "colorscale": [
             [
              0,
              "#0d0887"
             ],
             [
              0.1111111111111111,
              "#46039f"
             ],
             [
              0.2222222222222222,
              "#7201a8"
             ],
             [
              0.3333333333333333,
              "#9c179e"
             ],
             [
              0.4444444444444444,
              "#bd3786"
             ],
             [
              0.5555555555555556,
              "#d8576b"
             ],
             [
              0.6666666666666666,
              "#ed7953"
             ],
             [
              0.7777777777777778,
              "#fb9f3a"
             ],
             [
              0.8888888888888888,
              "#fdca26"
             ],
             [
              1,
              "#f0f921"
             ]
            ],
            "type": "histogram2dcontour"
           }
          ],
          "mesh3d": [
           {
            "colorbar": {
             "outlinewidth": 0,
             "ticks": ""
            },
            "type": "mesh3d"
           }
          ],
          "parcoords": [
           {
            "line": {
             "colorbar": {
              "outlinewidth": 0,
              "ticks": ""
             }
            },
            "type": "parcoords"
           }
          ],
          "pie": [
           {
            "automargin": true,
            "type": "pie"
           }
          ],
          "scatter": [
           {
            "fillpattern": {
             "fillmode": "overlay",
             "size": 10,
             "solidity": 0.2
            },
            "type": "scatter"
           }
          ],
          "scatter3d": [
           {
            "line": {
             "colorbar": {
              "outlinewidth": 0,
              "ticks": ""
             }
            },
            "marker": {
             "colorbar": {
              "outlinewidth": 0,
              "ticks": ""
             }
            },
            "type": "scatter3d"
           }
          ],
          "scattercarpet": [
           {
            "marker": {
             "colorbar": {
              "outlinewidth": 0,
              "ticks": ""
             }
            },
            "type": "scattercarpet"
           }
          ],
          "scattergeo": [
           {
            "marker": {
             "colorbar": {
              "outlinewidth": 0,
              "ticks": ""
             }
            },
            "type": "scattergeo"
           }
          ],
          "scattergl": [
           {
            "marker": {
             "colorbar": {
              "outlinewidth": 0,
              "ticks": ""
             }
            },
            "type": "scattergl"
           }
          ],
          "scattermapbox": [
           {
            "marker": {
             "colorbar": {
              "outlinewidth": 0,
              "ticks": ""
             }
            },
            "type": "scattermapbox"
           }
          ],
          "scatterpolar": [
           {
            "marker": {
             "colorbar": {
              "outlinewidth": 0,
              "ticks": ""
             }
            },
            "type": "scatterpolar"
           }
          ],
          "scatterpolargl": [
           {
            "marker": {
             "colorbar": {
              "outlinewidth": 0,
              "ticks": ""
             }
            },
            "type": "scatterpolargl"
           }
          ],
          "scatterternary": [
           {
            "marker": {
             "colorbar": {
              "outlinewidth": 0,
              "ticks": ""
             }
            },
            "type": "scatterternary"
           }
          ],
          "surface": [
           {
            "colorbar": {
             "outlinewidth": 0,
             "ticks": ""
            },
            "colorscale": [
             [
              0,
              "#0d0887"
             ],
             [
              0.1111111111111111,
              "#46039f"
             ],
             [
              0.2222222222222222,
              "#7201a8"
             ],
             [
              0.3333333333333333,
              "#9c179e"
             ],
             [
              0.4444444444444444,
              "#bd3786"
             ],
             [
              0.5555555555555556,
              "#d8576b"
             ],
             [
              0.6666666666666666,
              "#ed7953"
             ],
             [
              0.7777777777777778,
              "#fb9f3a"
             ],
             [
              0.8888888888888888,
              "#fdca26"
             ],
             [
              1,
              "#f0f921"
             ]
            ],
            "type": "surface"
           }
          ],
          "table": [
           {
            "cells": {
             "fill": {
              "color": "#EBF0F8"
             },
             "line": {
              "color": "white"
             }
            },
            "header": {
             "fill": {
              "color": "#C8D4E3"
             },
             "line": {
              "color": "white"
             }
            },
            "type": "table"
           }
          ]
         },
         "layout": {
          "annotationdefaults": {
           "arrowcolor": "#2a3f5f",
           "arrowhead": 0,
           "arrowwidth": 1
          },
          "autotypenumbers": "strict",
          "coloraxis": {
           "colorbar": {
            "outlinewidth": 0,
            "ticks": ""
           }
          },
          "colorscale": {
           "diverging": [
            [
             0,
             "#8e0152"
            ],
            [
             0.1,
             "#c51b7d"
            ],
            [
             0.2,
             "#de77ae"
            ],
            [
             0.3,
             "#f1b6da"
            ],
            [
             0.4,
             "#fde0ef"
            ],
            [
             0.5,
             "#f7f7f7"
            ],
            [
             0.6,
             "#e6f5d0"
            ],
            [
             0.7,
             "#b8e186"
            ],
            [
             0.8,
             "#7fbc41"
            ],
            [
             0.9,
             "#4d9221"
            ],
            [
             1,
             "#276419"
            ]
           ],
           "sequential": [
            [
             0,
             "#0d0887"
            ],
            [
             0.1111111111111111,
             "#46039f"
            ],
            [
             0.2222222222222222,
             "#7201a8"
            ],
            [
             0.3333333333333333,
             "#9c179e"
            ],
            [
             0.4444444444444444,
             "#bd3786"
            ],
            [
             0.5555555555555556,
             "#d8576b"
            ],
            [
             0.6666666666666666,
             "#ed7953"
            ],
            [
             0.7777777777777778,
             "#fb9f3a"
            ],
            [
             0.8888888888888888,
             "#fdca26"
            ],
            [
             1,
             "#f0f921"
            ]
           ],
           "sequentialminus": [
            [
             0,
             "#0d0887"
            ],
            [
             0.1111111111111111,
             "#46039f"
            ],
            [
             0.2222222222222222,
             "#7201a8"
            ],
            [
             0.3333333333333333,
             "#9c179e"
            ],
            [
             0.4444444444444444,
             "#bd3786"
            ],
            [
             0.5555555555555556,
             "#d8576b"
            ],
            [
             0.6666666666666666,
             "#ed7953"
            ],
            [
             0.7777777777777778,
             "#fb9f3a"
            ],
            [
             0.8888888888888888,
             "#fdca26"
            ],
            [
             1,
             "#f0f921"
            ]
           ]
          },
          "colorway": [
           "#636efa",
           "#EF553B",
           "#00cc96",
           "#ab63fa",
           "#FFA15A",
           "#19d3f3",
           "#FF6692",
           "#B6E880",
           "#FF97FF",
           "#FECB52"
          ],
          "font": {
           "color": "#2a3f5f"
          },
          "geo": {
           "bgcolor": "white",
           "lakecolor": "white",
           "landcolor": "#E5ECF6",
           "showlakes": true,
           "showland": true,
           "subunitcolor": "white"
          },
          "hoverlabel": {
           "align": "left"
          },
          "hovermode": "closest",
          "mapbox": {
           "style": "light"
          },
          "paper_bgcolor": "white",
          "plot_bgcolor": "#E5ECF6",
          "polar": {
           "angularaxis": {
            "gridcolor": "white",
            "linecolor": "white",
            "ticks": ""
           },
           "bgcolor": "#E5ECF6",
           "radialaxis": {
            "gridcolor": "white",
            "linecolor": "white",
            "ticks": ""
           }
          },
          "scene": {
           "xaxis": {
            "backgroundcolor": "#E5ECF6",
            "gridcolor": "white",
            "gridwidth": 2,
            "linecolor": "white",
            "showbackground": true,
            "ticks": "",
            "zerolinecolor": "white"
           },
           "yaxis": {
            "backgroundcolor": "#E5ECF6",
            "gridcolor": "white",
            "gridwidth": 2,
            "linecolor": "white",
            "showbackground": true,
            "ticks": "",
            "zerolinecolor": "white"
           },
           "zaxis": {
            "backgroundcolor": "#E5ECF6",
            "gridcolor": "white",
            "gridwidth": 2,
            "linecolor": "white",
            "showbackground": true,
            "ticks": "",
            "zerolinecolor": "white"
           }
          },
          "shapedefaults": {
           "line": {
            "color": "#2a3f5f"
           }
          },
          "ternary": {
           "aaxis": {
            "gridcolor": "white",
            "linecolor": "white",
            "ticks": ""
           },
           "baxis": {
            "gridcolor": "white",
            "linecolor": "white",
            "ticks": ""
           },
           "bgcolor": "#E5ECF6",
           "caxis": {
            "gridcolor": "white",
            "linecolor": "white",
            "ticks": ""
           }
          },
          "title": {
           "x": 0.05
          },
          "xaxis": {
           "automargin": true,
           "gridcolor": "white",
           "linecolor": "white",
           "ticks": "",
           "title": {
            "standoff": 15
           },
           "zerolinecolor": "white",
           "zerolinewidth": 2
          },
          "yaxis": {
           "automargin": true,
           "gridcolor": "white",
           "linecolor": "white",
           "ticks": "",
           "title": {
            "standoff": 15
           },
           "zerolinecolor": "white",
           "zerolinewidth": 2
          }
         }
        },
        "title": {
         "text": "Crime Cnt 2020/2021 vs. Median Household Income"
        },
        "xaxis": {
         "anchor": "y",
         "domain": [
          0,
          1
         ],
         "title": {
          "text": "med_hh_income"
         }
        },
        "yaxis": {
         "anchor": "x",
         "domain": [
          0,
          1
         ],
         "title": {
          "text": "value"
         }
        }
       }
      },
      "text/html": [
       "<div>                            <div id=\"897669ca-03e7-46ad-90ee-a3a2861c28a1\" class=\"plotly-graph-div\" style=\"height:525px; width:100%;\"></div>            <script type=\"text/javascript\">                require([\"plotly\"], function(Plotly) {                    window.PLOTLYENV=window.PLOTLYENV || {};                                    if (document.getElementById(\"897669ca-03e7-46ad-90ee-a3a2861c28a1\")) {                    Plotly.newPlot(                        \"897669ca-03e7-46ad-90ee-a3a2861c28a1\",                        [{\"hovertemplate\":\"variable=crime_rate_2020<br>med_hh_income=%{marker.size}<br>value=%{y}<extra></extra>\",\"legendgroup\":\"crime_rate_2020\",\"marker\":{\"color\":\"#636efa\",\"size\":[76706.0,93109.83333333333,68935.30434782608,46770.666666666664,45796.77777777778,90890.25,110807.0,78880.51388888889],\"sizemode\":\"area\",\"sizeref\":277.0175,\"symbol\":\"circle\"},\"mode\":\"markers\",\"name\":\"crime_rate_2020\",\"orientation\":\"v\",\"showlegend\":true,\"x\":[76706.0,93109.83333333333,68935.30434782608,46770.666666666664,45796.77777777778,90890.25,110807.0,78880.51388888889],\"xaxis\":\"x\",\"y\":[0.4476316485842815,0.328562164165277,0.3136405815032477,0.24408350225077,0.2179868297271872,0.2089541443656878,0.1740074841928685,0.1445405581850824],\"yaxis\":\"y\",\"type\":\"scatter\"},{\"hovertemplate\":\"<b>OLS trendline</b><br>value = -4.01409e-07 * med_hh_income + 0.290628<br>R<sup>2</sup>=0.008394<br><br>variable=crime_rate_2020<br>med_hh_income=%{x}<br>value=%{y} <b>(trend)</b><extra></extra>\",\"legendgroup\":\"crime_rate_2020\",\"marker\":{\"color\":\"#636efa\",\"symbol\":\"circle\"},\"mode\":\"lines\",\"name\":\"crime_rate_2020\",\"showlegend\":false,\"x\":[45796.77777777778,46770.666666666664,68935.30434782608,76706.0,78880.51388888889,90890.25,93109.83333333333,110807.0],\"xaxis\":\"x\",\"y\":[0.27224522339326374,0.27185429529513894,0.2629572026666296,0.2598379728375711,0.25896510264814004,0.25414428237750974,0.2532533208920374,0.24614951286411094],\"yaxis\":\"y\",\"type\":\"scatter\"},{\"hovertemplate\":\"variable=crime_rate_2021<br>med_hh_income=%{marker.size}<br>value=%{y}<extra></extra>\",\"legendgroup\":\"crime_rate_2021\",\"marker\":{\"color\":\"#EF553B\",\"size\":[76706.0,93109.83333333333,68935.30434782608,46770.666666666664,45796.77777777778,90890.25,110807.0,78880.51388888889],\"sizemode\":\"area\",\"sizeref\":277.0175,\"symbol\":\"circle\"},\"mode\":\"markers\",\"name\":\"crime_rate_2021\",\"orientation\":\"v\",\"showlegend\":true,\"x\":[76706.0,93109.83333333333,68935.30434782608,46770.666666666664,45796.77777777778,90890.25,110807.0,78880.51388888889],\"xaxis\":\"x\",\"y\":[0.4377133105802048,0.3298886749025318,0.4040887342322749,0.2632348956922243,0.2417071197411003,0.2350445249758709,0.1906478823084284,0.1413156256484747],\"yaxis\":\"y\",\"type\":\"scatter\"},{\"hovertemplate\":\"<b>OLS trendline</b><br>value = -6.8909e-07 * med_hh_income + 0.333162<br>R<sup>2</sup>=0.022855<br><br>variable=crime_rate_2021<br>med_hh_income=%{x}<br>value=%{y} <b>(trend)</b><extra></extra>\",\"legendgroup\":\"crime_rate_2021\",\"marker\":{\"color\":\"#EF553B\",\"symbol\":\"circle\"},\"mode\":\"lines\",\"name\":\"crime_rate_2021\",\"showlegend\":false,\"x\":[45796.77777777778,46770.666666666664,68935.30434782608,76706.0,78880.51388888889,90890.25,93109.83333333333,110807.0],\"xaxis\":\"x\",\"y\":[0.3016034452725506,0.30093234836130267,0.28565892235094215,0.2803042151457171,0.27880577977906645,0.27052999298139047,0.2690005007197456,0.25680556347039407],\"yaxis\":\"y\",\"type\":\"scatter\"}],                        {\"template\":{\"data\":{\"histogram2dcontour\":[{\"type\":\"histogram2dcontour\",\"colorbar\":{\"outlinewidth\":0,\"ticks\":\"\"},\"colorscale\":[[0.0,\"#0d0887\"],[0.1111111111111111,\"#46039f\"],[0.2222222222222222,\"#7201a8\"],[0.3333333333333333,\"#9c179e\"],[0.4444444444444444,\"#bd3786\"],[0.5555555555555556,\"#d8576b\"],[0.6666666666666666,\"#ed7953\"],[0.7777777777777778,\"#fb9f3a\"],[0.8888888888888888,\"#fdca26\"],[1.0,\"#f0f921\"]]}],\"choropleth\":[{\"type\":\"choropleth\",\"colorbar\":{\"outlinewidth\":0,\"ticks\":\"\"}}],\"histogram2d\":[{\"type\":\"histogram2d\",\"colorbar\":{\"outlinewidth\":0,\"ticks\":\"\"},\"colorscale\":[[0.0,\"#0d0887\"],[0.1111111111111111,\"#46039f\"],[0.2222222222222222,\"#7201a8\"],[0.3333333333333333,\"#9c179e\"],[0.4444444444444444,\"#bd3786\"],[0.5555555555555556,\"#d8576b\"],[0.6666666666666666,\"#ed7953\"],[0.7777777777777778,\"#fb9f3a\"],[0.8888888888888888,\"#fdca26\"],[1.0,\"#f0f921\"]]}],\"heatmap\":[{\"type\":\"heatmap\",\"colorbar\":{\"outlinewidth\":0,\"ticks\":\"\"},\"colorscale\":[[0.0,\"#0d0887\"],[0.1111111111111111,\"#46039f\"],[0.2222222222222222,\"#7201a8\"],[0.3333333333333333,\"#9c179e\"],[0.4444444444444444,\"#bd3786\"],[0.5555555555555556,\"#d8576b\"],[0.6666666666666666,\"#ed7953\"],[0.7777777777777778,\"#fb9f3a\"],[0.8888888888888888,\"#fdca26\"],[1.0,\"#f0f921\"]]}],\"heatmapgl\":[{\"type\":\"heatmapgl\",\"colorbar\":{\"outlinewidth\":0,\"ticks\":\"\"},\"colorscale\":[[0.0,\"#0d0887\"],[0.1111111111111111,\"#46039f\"],[0.2222222222222222,\"#7201a8\"],[0.3333333333333333,\"#9c179e\"],[0.4444444444444444,\"#bd3786\"],[0.5555555555555556,\"#d8576b\"],[0.6666666666666666,\"#ed7953\"],[0.7777777777777778,\"#fb9f3a\"],[0.8888888888888888,\"#fdca26\"],[1.0,\"#f0f921\"]]}],\"contourcarpet\":[{\"type\":\"contourcarpet\",\"colorbar\":{\"outlinewidth\":0,\"ticks\":\"\"}}],\"contour\":[{\"type\":\"contour\",\"colorbar\":{\"outlinewidth\":0,\"ticks\":\"\"},\"colorscale\":[[0.0,\"#0d0887\"],[0.1111111111111111,\"#46039f\"],[0.2222222222222222,\"#7201a8\"],[0.3333333333333333,\"#9c179e\"],[0.4444444444444444,\"#bd3786\"],[0.5555555555555556,\"#d8576b\"],[0.6666666666666666,\"#ed7953\"],[0.7777777777777778,\"#fb9f3a\"],[0.8888888888888888,\"#fdca26\"],[1.0,\"#f0f921\"]]}],\"surface\":[{\"type\":\"surface\",\"colorbar\":{\"outlinewidth\":0,\"ticks\":\"\"},\"colorscale\":[[0.0,\"#0d0887\"],[0.1111111111111111,\"#46039f\"],[0.2222222222222222,\"#7201a8\"],[0.3333333333333333,\"#9c179e\"],[0.4444444444444444,\"#bd3786\"],[0.5555555555555556,\"#d8576b\"],[0.6666666666666666,\"#ed7953\"],[0.7777777777777778,\"#fb9f3a\"],[0.8888888888888888,\"#fdca26\"],[1.0,\"#f0f921\"]]}],\"mesh3d\":[{\"type\":\"mesh3d\",\"colorbar\":{\"outlinewidth\":0,\"ticks\":\"\"}}],\"scatter\":[{\"fillpattern\":{\"fillmode\":\"overlay\",\"size\":10,\"solidity\":0.2},\"type\":\"scatter\"}],\"parcoords\":[{\"type\":\"parcoords\",\"line\":{\"colorbar\":{\"outlinewidth\":0,\"ticks\":\"\"}}}],\"scatterpolargl\":[{\"type\":\"scatterpolargl\",\"marker\":{\"colorbar\":{\"outlinewidth\":0,\"ticks\":\"\"}}}],\"bar\":[{\"error_x\":{\"color\":\"#2a3f5f\"},\"error_y\":{\"color\":\"#2a3f5f\"},\"marker\":{\"line\":{\"color\":\"#E5ECF6\",\"width\":0.5},\"pattern\":{\"fillmode\":\"overlay\",\"size\":10,\"solidity\":0.2}},\"type\":\"bar\"}],\"scattergeo\":[{\"type\":\"scattergeo\",\"marker\":{\"colorbar\":{\"outlinewidth\":0,\"ticks\":\"\"}}}],\"scatterpolar\":[{\"type\":\"scatterpolar\",\"marker\":{\"colorbar\":{\"outlinewidth\":0,\"ticks\":\"\"}}}],\"histogram\":[{\"marker\":{\"pattern\":{\"fillmode\":\"overlay\",\"size\":10,\"solidity\":0.2}},\"type\":\"histogram\"}],\"scattergl\":[{\"type\":\"scattergl\",\"marker\":{\"colorbar\":{\"outlinewidth\":0,\"ticks\":\"\"}}}],\"scatter3d\":[{\"type\":\"scatter3d\",\"line\":{\"colorbar\":{\"outlinewidth\":0,\"ticks\":\"\"}},\"marker\":{\"colorbar\":{\"outlinewidth\":0,\"ticks\":\"\"}}}],\"scattermapbox\":[{\"type\":\"scattermapbox\",\"marker\":{\"colorbar\":{\"outlinewidth\":0,\"ticks\":\"\"}}}],\"scatterternary\":[{\"type\":\"scatterternary\",\"marker\":{\"colorbar\":{\"outlinewidth\":0,\"ticks\":\"\"}}}],\"scattercarpet\":[{\"type\":\"scattercarpet\",\"marker\":{\"colorbar\":{\"outlinewidth\":0,\"ticks\":\"\"}}}],\"carpet\":[{\"aaxis\":{\"endlinecolor\":\"#2a3f5f\",\"gridcolor\":\"white\",\"linecolor\":\"white\",\"minorgridcolor\":\"white\",\"startlinecolor\":\"#2a3f5f\"},\"baxis\":{\"endlinecolor\":\"#2a3f5f\",\"gridcolor\":\"white\",\"linecolor\":\"white\",\"minorgridcolor\":\"white\",\"startlinecolor\":\"#2a3f5f\"},\"type\":\"carpet\"}],\"table\":[{\"cells\":{\"fill\":{\"color\":\"#EBF0F8\"},\"line\":{\"color\":\"white\"}},\"header\":{\"fill\":{\"color\":\"#C8D4E3\"},\"line\":{\"color\":\"white\"}},\"type\":\"table\"}],\"barpolar\":[{\"marker\":{\"line\":{\"color\":\"#E5ECF6\",\"width\":0.5},\"pattern\":{\"fillmode\":\"overlay\",\"size\":10,\"solidity\":0.2}},\"type\":\"barpolar\"}],\"pie\":[{\"automargin\":true,\"type\":\"pie\"}]},\"layout\":{\"autotypenumbers\":\"strict\",\"colorway\":[\"#636efa\",\"#EF553B\",\"#00cc96\",\"#ab63fa\",\"#FFA15A\",\"#19d3f3\",\"#FF6692\",\"#B6E880\",\"#FF97FF\",\"#FECB52\"],\"font\":{\"color\":\"#2a3f5f\"},\"hovermode\":\"closest\",\"hoverlabel\":{\"align\":\"left\"},\"paper_bgcolor\":\"white\",\"plot_bgcolor\":\"#E5ECF6\",\"polar\":{\"bgcolor\":\"#E5ECF6\",\"angularaxis\":{\"gridcolor\":\"white\",\"linecolor\":\"white\",\"ticks\":\"\"},\"radialaxis\":{\"gridcolor\":\"white\",\"linecolor\":\"white\",\"ticks\":\"\"}},\"ternary\":{\"bgcolor\":\"#E5ECF6\",\"aaxis\":{\"gridcolor\":\"white\",\"linecolor\":\"white\",\"ticks\":\"\"},\"baxis\":{\"gridcolor\":\"white\",\"linecolor\":\"white\",\"ticks\":\"\"},\"caxis\":{\"gridcolor\":\"white\",\"linecolor\":\"white\",\"ticks\":\"\"}},\"coloraxis\":{\"colorbar\":{\"outlinewidth\":0,\"ticks\":\"\"}},\"colorscale\":{\"sequential\":[[0.0,\"#0d0887\"],[0.1111111111111111,\"#46039f\"],[0.2222222222222222,\"#7201a8\"],[0.3333333333333333,\"#9c179e\"],[0.4444444444444444,\"#bd3786\"],[0.5555555555555556,\"#d8576b\"],[0.6666666666666666,\"#ed7953\"],[0.7777777777777778,\"#fb9f3a\"],[0.8888888888888888,\"#fdca26\"],[1.0,\"#f0f921\"]],\"sequentialminus\":[[0.0,\"#0d0887\"],[0.1111111111111111,\"#46039f\"],[0.2222222222222222,\"#7201a8\"],[0.3333333333333333,\"#9c179e\"],[0.4444444444444444,\"#bd3786\"],[0.5555555555555556,\"#d8576b\"],[0.6666666666666666,\"#ed7953\"],[0.7777777777777778,\"#fb9f3a\"],[0.8888888888888888,\"#fdca26\"],[1.0,\"#f0f921\"]],\"diverging\":[[0,\"#8e0152\"],[0.1,\"#c51b7d\"],[0.2,\"#de77ae\"],[0.3,\"#f1b6da\"],[0.4,\"#fde0ef\"],[0.5,\"#f7f7f7\"],[0.6,\"#e6f5d0\"],[0.7,\"#b8e186\"],[0.8,\"#7fbc41\"],[0.9,\"#4d9221\"],[1,\"#276419\"]]},\"xaxis\":{\"gridcolor\":\"white\",\"linecolor\":\"white\",\"ticks\":\"\",\"title\":{\"standoff\":15},\"zerolinecolor\":\"white\",\"automargin\":true,\"zerolinewidth\":2},\"yaxis\":{\"gridcolor\":\"white\",\"linecolor\":\"white\",\"ticks\":\"\",\"title\":{\"standoff\":15},\"zerolinecolor\":\"white\",\"automargin\":true,\"zerolinewidth\":2},\"scene\":{\"xaxis\":{\"backgroundcolor\":\"#E5ECF6\",\"gridcolor\":\"white\",\"linecolor\":\"white\",\"showbackground\":true,\"ticks\":\"\",\"zerolinecolor\":\"white\",\"gridwidth\":2},\"yaxis\":{\"backgroundcolor\":\"#E5ECF6\",\"gridcolor\":\"white\",\"linecolor\":\"white\",\"showbackground\":true,\"ticks\":\"\",\"zerolinecolor\":\"white\",\"gridwidth\":2},\"zaxis\":{\"backgroundcolor\":\"#E5ECF6\",\"gridcolor\":\"white\",\"linecolor\":\"white\",\"showbackground\":true,\"ticks\":\"\",\"zerolinecolor\":\"white\",\"gridwidth\":2}},\"shapedefaults\":{\"line\":{\"color\":\"#2a3f5f\"}},\"annotationdefaults\":{\"arrowcolor\":\"#2a3f5f\",\"arrowhead\":0,\"arrowwidth\":1},\"geo\":{\"bgcolor\":\"white\",\"landcolor\":\"#E5ECF6\",\"subunitcolor\":\"white\",\"showland\":true,\"showlakes\":true,\"lakecolor\":\"white\"},\"title\":{\"x\":0.05},\"mapbox\":{\"style\":\"light\"}}},\"xaxis\":{\"anchor\":\"y\",\"domain\":[0.0,1.0],\"title\":{\"text\":\"med_hh_income\"}},\"yaxis\":{\"anchor\":\"x\",\"domain\":[0.0,1.0],\"title\":{\"text\":\"value\"}},\"legend\":{\"title\":{\"text\":\"variable\"},\"tracegroupgap\":0,\"itemsizing\":\"constant\"},\"title\":{\"text\":\"Crime Cnt 2020/2021 vs. Median Household Income\"}},                        {\"responsive\": true}                    ).then(function(){\n",
       "                            \n",
       "var gd = document.getElementById('897669ca-03e7-46ad-90ee-a3a2861c28a1');\n",
       "var x = new MutationObserver(function (mutations, observer) {{\n",
       "        var display = window.getComputedStyle(gd).display;\n",
       "        if (!display || display === 'none') {{\n",
       "            console.log([gd, 'removed!']);\n",
       "            Plotly.purge(gd);\n",
       "            observer.disconnect();\n",
       "        }}\n",
       "}});\n",
       "\n",
       "// Listen for the removal of the full notebook cells\n",
       "var notebookContainer = gd.closest('#notebook-container');\n",
       "if (notebookContainer) {{\n",
       "    x.observe(notebookContainer, {childList: true});\n",
       "}}\n",
       "\n",
       "// Listen for the clearing of the current output cell\n",
       "var outputEl = gd.closest('.output');\n",
       "if (outputEl) {{\n",
       "    x.observe(outputEl, {childList: true});\n",
       "}}\n",
       "\n",
       "                        })                };                });            </script>        </div>"
      ]
     },
     "metadata": {},
     "output_type": "display_data"
    }
   ],
   "source": [
    "px.scatter(dff, \n",
    "            y=['crime_rate_2020', 'crime_rate_2021'],\n",
    "            x='med_hh_income',\n",
    "              trendline='ols', \n",
    "          size='med_hh_income',\n",
    "          title='Crime Cnt 2020/2021 vs. Median Household Income')"
   ]
  },
  {
   "cell_type": "code",
   "execution_count": null,
   "id": "6ac791e1",
   "metadata": {},
   "outputs": [],
   "source": []
  }
 ],
 "metadata": {
  "kernelspec": {
   "display_name": "Python 3 (ipykernel)",
   "language": "python",
   "name": "python3"
  },
  "language_info": {
   "codemirror_mode": {
    "name": "ipython",
    "version": 3
   },
   "file_extension": ".py",
   "mimetype": "text/x-python",
   "name": "python",
   "nbconvert_exporter": "python",
   "pygments_lexer": "ipython3",
   "version": "3.9.13"
  },
  "toc": {
   "base_numbering": 1,
   "nav_menu": {},
   "number_sections": true,
   "sideBar": true,
   "skip_h1_title": false,
   "title_cell": "Table of Contents",
   "title_sidebar": "Contents",
   "toc_cell": false,
   "toc_position": {},
   "toc_section_display": true,
   "toc_window_display": false
  }
 },
 "nbformat": 4,
 "nbformat_minor": 5
}
